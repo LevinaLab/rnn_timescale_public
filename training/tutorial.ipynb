{
 "cells": [
  {
   "cell_type": "code",
   "execution_count": 39,
   "id": "initial_id",
   "metadata": {
    "collapsed": true,
    "ExecuteTime": {
     "end_time": "2023-10-13T15:16:26.648559500Z",
     "start_time": "2023-10-13T15:16:26.632936300Z"
    }
   },
   "outputs": [],
   "source": [
    "import sys\n",
    "sys.path.append(\"../\")\n",
    "from src.tasks import tasks \n",
    "from src.models import RNN_Stack\n",
    "import numpy as np\n",
    "import torch"
   ]
  },
  {
   "cell_type": "code",
   "execution_count": 18,
   "outputs": [],
   "source": [
    "v = torch.tensor(np.asarray([1,0,0,1]))"
   ],
   "metadata": {
    "collapsed": false,
    "ExecuteTime": {
     "end_time": "2023-10-13T15:02:52.229642100Z",
     "start_time": "2023-10-13T15:02:52.209113500Z"
    }
   },
   "id": "110c0ea1baa5b3b3"
  },
  {
   "cell_type": "code",
   "execution_count": 19,
   "outputs": [
    {
     "data": {
      "text/plain": "tensor(1)"
     },
     "execution_count": 19,
     "metadata": {},
     "output_type": "execute_result"
    }
   ],
   "source": [
    "tasks.get_parity(v, 2)"
   ],
   "metadata": {
    "collapsed": false,
    "ExecuteTime": {
     "end_time": "2023-10-13T15:02:58.447597300Z",
     "start_time": "2023-10-13T15:02:58.434518700Z"
    }
   },
   "id": "863ea356b180e35f"
  },
  {
   "cell_type": "code",
   "execution_count": 33,
   "outputs": [
    {
     "name": "stdout",
     "output_type": "stream",
     "text": [
      "torch.Size([2, 4, 1]) [tensor([0, 0])]\n"
     ]
    }
   ],
   "source": [
    "seq, label = tasks.make_batch_Nbit_pair_parity([2], 2)\n",
    "print(seq.shape, label)\n",
    "# one readout head with "
   ],
   "metadata": {
    "collapsed": false,
    "ExecuteTime": {
     "end_time": "2023-10-13T15:10:59.950215200Z",
     "start_time": "2023-10-13T15:10:59.942174500Z"
    }
   },
   "id": "ea77408fb1faf66c"
  },
  {
   "cell_type": "code",
   "execution_count": 36,
   "outputs": [
    {
     "name": "stdout",
     "output_type": "stream",
     "text": [
      "tensor([[[1.],\n",
      "         [1.],\n",
      "         [1.],\n",
      "         [0.],\n",
      "         [1.],\n",
      "         [1.]],\n",
      "\n",
      "        [[0.],\n",
      "         [0.],\n",
      "         [0.],\n",
      "         [0.],\n",
      "         [0.],\n",
      "         [0.]]]) torch.Size([2, 6, 1]) [tensor([0, 0]), tensor([1, 0]), tensor([0, 0])]\n"
     ]
    }
   ],
   "source": [
    "seq, label = tasks.make_batch_Nbit_pair_parity([2,1, 3], 2)\n",
    "print(seq.shape, label)"
   ],
   "metadata": {
    "collapsed": false,
    "ExecuteTime": {
     "end_time": "2023-10-13T15:12:52.786102Z",
     "start_time": "2023-10-13T15:12:52.772098300Z"
    }
   },
   "id": "9e5e76393cbd4f23"
  },
  {
   "cell_type": "code",
   "execution_count": 37,
   "outputs": [
    {
     "name": "stdout",
     "output_type": "stream",
     "text": [
      "torch.Size([2, 7, 1]) [tensor([0, 0]), tensor([0, 1]), tensor([1, 0])]\n"
     ]
    }
   ],
   "source": [
    "seq, label = tasks.make_batch_Nbit_pair_parity([2,1, 3], 2)\n",
    "print(seq.shape, label)"
   ],
   "metadata": {
    "collapsed": false,
    "ExecuteTime": {
     "end_time": "2023-10-13T15:13:12.181190600Z",
     "start_time": "2023-10-13T15:13:12.176660400Z"
    }
   },
   "id": "5645c63c4b762b2f"
  },
  {
   "cell_type": "code",
   "execution_count": 53,
   "outputs": [],
   "source": [
    "rnn = RNN_Stack(input_size=1, net_size=[5], num_classes=2, bias=True, num_readout_heads=4, tau=1., train_tau=True).cuda()\n",
    "# need to revisit tau later. "
   ],
   "metadata": {
    "collapsed": false,
    "ExecuteTime": {
     "end_time": "2023-10-13T15:19:25.886628300Z",
     "start_time": "2023-10-13T15:19:25.872106500Z"
    }
   },
   "id": "18c063eb5f135649"
  },
  {
   "cell_type": "code",
   "execution_count": 54,
   "outputs": [
    {
     "data": {
      "text/plain": "RNN_Stack(\n  (parameterlist): ParameterList(  (0): Parameter containing: [torch.float32 of size 5 (cuda:0)])\n  (modulelist): ModuleList(\n    (0): Linear(in_features=1, out_features=5, bias=True)\n    (1): Linear(in_features=5, out_features=5, bias=True)\n    (2-5): 4 x Linear(in_features=5, out_features=2, bias=True)\n  )\n  (afunc): LeakyReLU(negative_slope=0.01)\n)"
     },
     "execution_count": 54,
     "metadata": {},
     "output_type": "execute_result"
    }
   ],
   "source": [
    "rnn"
   ],
   "metadata": {
    "collapsed": false,
    "ExecuteTime": {
     "end_time": "2023-10-13T15:19:31.676264Z",
     "start_time": "2023-10-13T15:19:31.656232600Z"
    }
   },
   "id": "4cb540bb2fbebba0"
  },
  {
   "cell_type": "code",
   "execution_count": 63,
   "outputs": [],
   "source": [
    "last_time, heads = rnn.forward(seq.cuda())"
   ],
   "metadata": {
    "collapsed": false,
    "ExecuteTime": {
     "end_time": "2023-10-13T15:20:54.793873300Z",
     "start_time": "2023-10-13T15:20:54.779328600Z"
    }
   },
   "id": "9661e7ef2755dde8"
  },
  {
   "cell_type": "code",
   "execution_count": 65,
   "outputs": [
    {
     "data": {
      "text/plain": "[tensor([[ 8.7356e-01,  1.1081e+00,  8.5656e-01,  1.1935e-01,  1.2735e+00],\n         [ 2.1628e-01,  3.1776e-01, -5.8489e-05, -2.3078e-03,  8.2988e-01],\n         [ 6.6754e-01,  8.6797e-01,  6.4337e-01,  1.3202e-01,  1.0925e+00],\n         [ 6.5417e-01,  8.8313e-01,  6.4919e-01,  1.3308e-01,  1.0809e+00],\n         [ 4.1405e-01,  5.7505e-01,  2.0639e-01, -2.2553e-03,  1.0220e+00],\n         [ 6.7186e-01,  8.6141e-01,  6.4485e-01,  1.2554e-01,  1.0841e+00],\n         [ 6.6769e-01,  8.6478e-01,  6.4455e-01,  1.2752e-01,  1.0838e+00]],\n        device='cuda:0', grad_fn=<LeakyReluBackward0>)]"
     },
     "execution_count": 65,
     "metadata": {},
     "output_type": "execute_result"
    }
   ],
   "source": [
    "last_time"
   ],
   "metadata": {
    "collapsed": false,
    "ExecuteTime": {
     "end_time": "2023-10-13T15:21:06.945312500Z",
     "start_time": "2023-10-13T15:21:06.936148900Z"
    }
   },
   "id": "ed5b8854690b504"
  },
  {
   "cell_type": "code",
   "execution_count": 66,
   "outputs": [
    {
     "data": {
      "text/plain": "[tensor([[ 0.2284, -0.5698],\n         [-0.2273, -0.1739],\n         [ 0.1060, -0.4666],\n         [ 0.1138, -0.4656],\n         [-0.1084, -0.2697],\n         [ 0.1097, -0.4702],\n         [ 0.1095, -0.4686]], device='cuda:0', grad_fn=<AddmmBackward0>),\n tensor([[-1.1219, -0.1929],\n         [-0.5631, -0.1147],\n         [-0.9558, -0.1912],\n         [-0.9496, -0.1904],\n         [-0.7362, -0.1119],\n         [-0.9518, -0.1937],\n         [-0.9512, -0.1929]], device='cuda:0', grad_fn=<AddmmBackward0>),\n tensor([[ 0.2901, -0.3687],\n         [ 0.4958, -0.1704],\n         [ 0.3488, -0.3065],\n         [ 0.3535, -0.2928],\n         [ 0.4513, -0.2235],\n         [ 0.3418, -0.3091],\n         [ 0.3447, -0.3059]], device='cuda:0', grad_fn=<AddmmBackward0>),\n tensor([[ 0.1930, -0.4410],\n         [-0.0158, -0.0694],\n         [ 0.1280, -0.3616],\n         [ 0.1304, -0.3678],\n         [ 0.0449, -0.1547],\n         [ 0.1313, -0.3585],\n         [ 0.1305, -0.3600]], device='cuda:0', grad_fn=<AddmmBackward0>)]"
     },
     "execution_count": 66,
     "metadata": {},
     "output_type": "execute_result"
    }
   ],
   "source": [
    "heads"
   ],
   "metadata": {
    "collapsed": false,
    "ExecuteTime": {
     "end_time": "2023-10-13T15:21:11.215180400Z",
     "start_time": "2023-10-13T15:21:11.203183900Z"
    }
   },
   "id": "cc8a14b158b9d248"
  },
  {
   "cell_type": "code",
   "execution_count": 70,
   "outputs": [
    {
     "name": "stdout",
     "output_type": "stream",
     "text": [
      "4 torch.Size([7, 2])\n"
     ]
    }
   ],
   "source": [
    "print(len(heads), heads[0].shape)"
   ],
   "metadata": {
    "collapsed": false,
    "ExecuteTime": {
     "end_time": "2023-10-13T15:22:45.533441600Z",
     "start_time": "2023-10-13T15:22:45.521419400Z"
    }
   },
   "id": "53b1956fc70d4a6c"
  },
  {
   "cell_type": "code",
   "execution_count": 68,
   "outputs": [
    {
     "data": {
      "text/plain": "torch.Size([2, 7, 1])"
     },
     "execution_count": 68,
     "metadata": {},
     "output_type": "execute_result"
    }
   ],
   "source": [
    "seq.shape"
   ],
   "metadata": {
    "collapsed": false,
    "ExecuteTime": {
     "end_time": "2023-10-13T15:21:49.748903100Z",
     "start_time": "2023-10-13T15:21:49.735364500Z"
    }
   },
   "id": "1c508f2deaf206d8"
  },
  {
   "cell_type": "code",
   "execution_count": 72,
   "outputs": [],
   "source": [
    "# classify_in_time useful for MI calcs\n"
   ],
   "metadata": {
    "collapsed": false,
    "ExecuteTime": {
     "end_time": "2023-10-13T15:48:31.321267400Z",
     "start_time": "2023-10-13T15:48:31.315620500Z"
    }
   },
   "id": "6363ce38f91eb652"
  },
  {
   "cell_type": "code",
   "execution_count": null,
   "outputs": [],
   "source": [],
   "metadata": {
    "collapsed": false
   },
   "id": "9ef84d7ca174d628"
  }
 ],
 "metadata": {
  "kernelspec": {
   "display_name": "Python 3",
   "language": "python",
   "name": "python3"
  },
  "language_info": {
   "codemirror_mode": {
    "name": "ipython",
    "version": 2
   },
   "file_extension": ".py",
   "mimetype": "text/x-python",
   "name": "python",
   "nbconvert_exporter": "python",
   "pygments_lexer": "ipython2",
   "version": "2.7.6"
  }
 },
 "nbformat": 4,
 "nbformat_minor": 5
}
