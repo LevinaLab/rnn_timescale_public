{
 "cells": [
  {
   "cell_type": "code",
   "execution_count": 2,
   "metadata": {
    "collapsed": true
   },
   "outputs": [],
   "source": [
    "import torch\n",
    "import numpy as np\n",
    "import sys\n",
    "\n",
    "from src.tasks import *\n",
    "from src.utils import *\n"
   ]
  },
  {
   "cell_type": "code",
   "execution_count": 6,
   "outputs": [],
   "source": [
    "device = 'cuda' #  'cpu'\n",
    "curriculum_type = 'cumulative'\n",
    "task = 'parity'\n",
    "network_num = 1\n",
    "N_max = 7\n",
    "rnn = load_model(curriculum_type, task, network_num, N_max, base_path='../trained_models', device=device).to(device)"
   ],
   "metadata": {
    "collapsed": false,
    "pycharm": {
     "name": "#%%\n"
    }
   }
  },
  {
   "cell_type": "code",
   "execution_count": 4,
   "outputs": [],
   "source": [
    "BATCH_SIZE = 64\n",
    "TEST_STEPS = 600\n",
    "task_function = make_batch_Nbit_pair_parity\n",
    "# task_function = make_batch_multihead_dms\n",
    "def test(model, Ns):\n",
    "\n",
    "    correct_N = np.zeros_like(Ns)\n",
    "    total = 0\n",
    "    for j in range(TEST_STEPS):\n",
    "        with torch.no_grad():\n",
    "            sequences, labels = task_function(Ns, BATCH_SIZE)\n",
    "            sequences = sequences.permute(1, 0, 2).to(device)\n",
    "            labels = [l.to(device) for l in labels]\n",
    "\n",
    "            out, out_class = model(sequences)\n",
    "\n",
    "            for N_i in range(len(Ns)):\n",
    "                predicted = torch.max(out_class[N_i], 1)[1]\n",
    "\n",
    "                correct_N[N_i] += (predicted == labels[N_i]).sum()\n",
    "                total += labels[N_i].size(0)\n",
    "\n",
    "    accuracy = 100 * correct_N / float(total) * len(Ns)\n",
    "\n",
    "    print('{:.4f}  %'.format(np.mean(accuracy)), flush=True)\n",
    "    print('({N}, accuracy):\\n' + ''.join([f'({Ns[i]}, {accuracy[i]:.4f})\\n' for i in range(len(Ns))]), flush=True)"
   ],
   "metadata": {
    "collapsed": false,
    "pycharm": {
     "name": "#%%\n"
    }
   }
  },
  {
   "cell_type": "code",
   "execution_count": 5,
   "outputs": [
    {
     "name": "stdout",
     "output_type": "stream",
     "text": [
      "52.9609  %\n",
      "({N}, accuracy):\n",
      "(2, 100.0000)\n",
      "(3, 100.0000)\n",
      "(4, 100.0000)\n",
      "(5, 100.0000)\n",
      "(6, 100.0000)\n",
      "(7, 100.0000)\n",
      "(8, 47.5052)\n",
      "(9, 49.4453)\n",
      "(10, 54.0833)\n",
      "(11, 50.8906)\n",
      "(12, 45.7266)\n",
      "(13, 50.7760)\n",
      "(14, 45.3568)\n",
      "(15, 50.2760)\n",
      "(16, 50.4557)\n",
      "(17, 46.4505)\n",
      "(18, 50.2370)\n",
      "(19, 47.0234)\n",
      "(20, 49.8125)\n",
      "(21, 50.2578)\n",
      "(22, 52.6172)\n",
      "(23, 50.2812)\n",
      "(24, 52.1927)\n",
      "(25, 52.2500)\n",
      "(26, 52.1719)\n",
      "(27, 52.0052)\n",
      "(28, 49.8307)\n",
      "(29, 48.2578)\n",
      "(30, 49.8542)\n",
      "(31, 49.9115)\n",
      "(32, 48.0078)\n",
      "(33, 50.0573)\n",
      "(34, 49.9427)\n",
      "(35, 48.4922)\n",
      "(36, 48.6328)\n",
      "(37, 49.7604)\n",
      "(38, 49.8125)\n",
      "(39, 50.2448)\n",
      "(40, 51.4583)\n",
      "(41, 48.7656)\n",
      "(42, 50.0755)\n",
      "(43, 48.6354)\n",
      "(44, 49.6797)\n",
      "(45, 49.8516)\n",
      "(46, 48.7318)\n",
      "(47, 48.9948)\n",
      "(48, 50.8333)\n",
      "(49, 50.0859)\n",
      "(50, 49.1927)\n",
      "(51, 50.0495)\n",
      "(52, 50.7474)\n",
      "(53, 50.9297)\n",
      "(54, 51.4167)\n",
      "(55, 50.1406)\n",
      "(56, 50.8151)\n",
      "(57, 49.8464)\n",
      "(58, 49.9635)\n",
      "(59, 49.3698)\n",
      "(60, 49.8594)\n",
      "(61, 49.8359)\n",
      "(62, 50.7240)\n",
      "(63, 49.9427)\n",
      "(64, 49.5000)\n",
      "(65, 48.9792)\n",
      "(66, 50.0938)\n",
      "(67, 49.5677)\n",
      "(68, 50.5729)\n",
      "(69, 49.9297)\n",
      "(70, 49.7057)\n",
      "(71, 49.9896)\n",
      "(72, 50.7865)\n",
      "(73, 50.1224)\n",
      "(74, 49.0964)\n",
      "(75, 49.8932)\n",
      "(76, 49.4609)\n",
      "(77, 49.5729)\n",
      "(78, 50.3490)\n",
      "(79, 50.6797)\n",
      "(80, 50.6979)\n",
      "(81, 50.4036)\n",
      "(82, 50.2292)\n",
      "(83, 50.2995)\n",
      "(84, 49.3932)\n",
      "(85, 49.5078)\n",
      "(86, 50.1146)\n",
      "(87, 49.8802)\n",
      "(88, 49.7578)\n",
      "(89, 49.9245)\n",
      "(90, 50.2370)\n",
      "(91, 50.0365)\n",
      "(92, 49.5391)\n",
      "(93, 50.3594)\n",
      "(94, 49.5859)\n",
      "(95, 50.9010)\n",
      "(96, 48.8594)\n",
      "(97, 49.9766)\n",
      "(98, 49.3255)\n",
      "(99, 50.2708)\n",
      "\n"
     ]
    }
   ],
   "source": [
    "test(rnn, Ns=list(np.arange(2, 100)))"
   ],
   "metadata": {
    "collapsed": false,
    "pycharm": {
     "name": "#%%\n"
    }
   }
  },
  {
   "cell_type": "code",
   "execution_count": null,
   "outputs": [],
   "source": [],
   "metadata": {
    "collapsed": false,
    "pycharm": {
     "name": "#%%\n"
    }
   }
  }
 ],
 "metadata": {
  "kernelspec": {
   "display_name": "Python 3",
   "language": "python",
   "name": "python3"
  },
  "language_info": {
   "codemirror_mode": {
    "name": "ipython",
    "version": 2
   },
   "file_extension": ".py",
   "mimetype": "text/x-python",
   "name": "python",
   "nbconvert_exporter": "python",
   "pygments_lexer": "ipython2",
   "version": "2.7.6"
  }
 },
 "nbformat": 4,
 "nbformat_minor": 0
}