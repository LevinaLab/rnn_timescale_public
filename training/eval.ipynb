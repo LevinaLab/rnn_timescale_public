{
 "cells": [
  {
   "cell_type": "code",
   "execution_count": 11,
   "metadata": {
    "collapsed": true,
    "ExecuteTime": {
     "end_time": "2024-01-23T17:02:24.983053034Z",
     "start_time": "2024-01-23T17:02:24.937631110Z"
    }
   },
   "outputs": [],
   "source": [
    "import torch\n",
    "import numpy as np\n",
    "import sys\n",
    "\n",
    "from src.tasks import *\n",
    "from src.utils import *\n"
   ]
  },
  {
   "cell_type": "code",
   "execution_count": 12,
   "outputs": [],
   "source": [
    "device = 'cuda' #  'cpu'\n",
    "curriculum_type = 'cumulative'\n",
    "task = 'parity'\n",
    "network_num = 1\n",
    "N_max = 7\n",
    "\n",
    "rnn = load_model(\n",
    "    curriculum_type=curriculum_type,\n",
    "    task=task,\n",
    "    network_number=network_num,\n",
    "    N_max=N_max,\n",
    "    base_path='../trained_models',\n",
    "    device=device,\n",
    ").to(device)"
   ],
   "metadata": {
    "collapsed": false,
    "pycharm": {
     "name": "#%%\n"
    },
    "ExecuteTime": {
     "end_time": "2024-01-23T17:02:25.288347096Z",
     "start_time": "2024-01-23T17:02:25.117332154Z"
    }
   }
  },
  {
   "cell_type": "code",
   "execution_count": 13,
   "outputs": [],
   "source": [
    "BATCH_SIZE = 64\n",
    "TEST_STEPS = 600\n",
    "task_function = make_batch_Nbit_pair_parity\n",
    "# task_function = make_batch_multihead_dms\n",
    "def test(model, Ns):\n",
    "\n",
    "    correct_N = np.zeros_like(Ns)\n",
    "    total = 0\n",
    "    for j in range(TEST_STEPS):\n",
    "        with torch.no_grad():\n",
    "            sequences, labels = task_function(Ns, BATCH_SIZE)\n",
    "            sequences = sequences.to(device)\n",
    "            labels = [l.to(device) for l in labels]\n",
    "\n",
    "            out, out_class = model(sequences)\n",
    "\n",
    "            for N_i in range(len(Ns)):\n",
    "                predicted = torch.max(out_class[N_i], 1)[1]\n",
    "\n",
    "                correct_N[N_i] += (predicted == labels[N_i]).sum()\n",
    "                total += labels[N_i].size(0)\n",
    "\n",
    "    accuracy = 100 * correct_N / float(total) * len(Ns)\n",
    "\n",
    "    print('{:.4f}  %'.format(np.mean(accuracy)), flush=True)\n",
    "    print('({N}, accuracy):\\n' + ''.join([f'({Ns[i]}, {accuracy[i]:.4f})\\n' for i in range(len(Ns))]), flush=True)"
   ],
   "metadata": {
    "collapsed": false,
    "pycharm": {
     "name": "#%%\n"
    },
    "ExecuteTime": {
     "end_time": "2024-01-23T17:02:25.337501369Z",
     "start_time": "2024-01-23T17:02:25.294955821Z"
    }
   }
  },
  {
   "cell_type": "code",
   "execution_count": 14,
   "outputs": [
    {
     "name": "stdout",
     "output_type": "stream",
     "text": [
      "53.0201  %\n",
      "({N}, accuracy):\n",
      "(2, 100.0000)\n",
      "(3, 100.0000)\n",
      "(4, 100.0000)\n",
      "(5, 100.0000)\n",
      "(6, 100.0000)\n",
      "(7, 100.0000)\n",
      "(8, 47.1953)\n",
      "(9, 49.8125)\n",
      "(10, 54.2578)\n",
      "(11, 51.1927)\n",
      "(12, 45.8073)\n",
      "(13, 51.1042)\n",
      "(14, 45.7995)\n",
      "(15, 50.7943)\n",
      "(16, 50.7760)\n",
      "(17, 47.1094)\n",
      "(18, 50.1380)\n",
      "(19, 47.3802)\n",
      "(20, 50.0026)\n",
      "(21, 49.9245)\n",
      "(22, 51.8437)\n",
      "(23, 50.6094)\n",
      "(24, 51.8750)\n",
      "(25, 51.8516)\n",
      "(26, 52.1302)\n",
      "(27, 52.0781)\n",
      "(28, 49.6354)\n",
      "(29, 48.0677)\n",
      "(30, 50.1172)\n",
      "(31, 49.7109)\n",
      "(32, 48.3177)\n",
      "(33, 50.1875)\n",
      "(34, 49.9531)\n",
      "(35, 48.4583)\n",
      "(36, 48.6068)\n",
      "(37, 50.3385)\n",
      "(38, 50.0313)\n",
      "(39, 50.1615)\n",
      "(40, 51.2292)\n",
      "(41, 48.9557)\n",
      "(42, 50.1667)\n",
      "(43, 49.3073)\n",
      "(44, 50.2552)\n",
      "(45, 49.9740)\n",
      "(46, 48.8568)\n",
      "(47, 49.0078)\n",
      "(48, 51.5104)\n",
      "(49, 49.5573)\n",
      "(50, 48.5573)\n",
      "(51, 50.2187)\n",
      "(52, 51.3958)\n",
      "(53, 51.5234)\n",
      "(54, 51.3307)\n",
      "(55, 49.7526)\n",
      "(56, 51.1953)\n",
      "(57, 49.8906)\n",
      "(58, 49.8880)\n",
      "(59, 48.7214)\n",
      "(60, 50.2109)\n",
      "(61, 50.3490)\n",
      "(62, 50.8307)\n",
      "(63, 49.8047)\n",
      "(64, 50.3021)\n",
      "(65, 49.0547)\n",
      "(66, 50.0990)\n",
      "(67, 49.2604)\n",
      "(68, 50.8880)\n",
      "(69, 50.3984)\n",
      "(70, 50.0417)\n",
      "(71, 49.7734)\n",
      "(72, 50.7630)\n",
      "(73, 49.9948)\n",
      "(74, 49.6198)\n",
      "(75, 50.0260)\n",
      "(76, 49.5937)\n",
      "(77, 49.0885)\n",
      "(78, 50.0807)\n",
      "(79, 50.0911)\n",
      "(80, 50.3411)\n",
      "(81, 49.7604)\n",
      "(82, 50.1719)\n",
      "(83, 50.1172)\n",
      "(84, 49.7396)\n",
      "(85, 49.7005)\n",
      "(86, 49.9922)\n",
      "(87, 50.0521)\n",
      "(88, 50.4062)\n",
      "(89, 50.1302)\n",
      "(90, 50.1589)\n",
      "(91, 49.9167)\n",
      "(92, 49.8333)\n",
      "(93, 49.9974)\n",
      "(94, 50.0625)\n",
      "(95, 50.2474)\n",
      "(96, 49.4661)\n",
      "(97, 49.8438)\n",
      "(98, 49.2448)\n",
      "(99, 49.9557)\n"
     ]
    }
   ],
   "source": [
    "test(rnn, Ns=list(np.arange(2, 100)))"
   ],
   "metadata": {
    "collapsed": false,
    "pycharm": {
     "name": "#%%\n"
    },
    "ExecuteTime": {
     "end_time": "2024-01-23T17:03:52.112489872Z",
     "start_time": "2024-01-23T17:02:29.783008972Z"
    }
   }
  },
  {
   "cell_type": "code",
   "execution_count": null,
   "outputs": [],
   "source": [],
   "metadata": {
    "collapsed": false,
    "pycharm": {
     "name": "#%%\n"
    }
   }
  }
 ],
 "metadata": {
  "kernelspec": {
   "display_name": "Python 3",
   "language": "python",
   "name": "python3"
  },
  "language_info": {
   "codemirror_mode": {
    "name": "ipython",
    "version": 2
   },
   "file_extension": ".py",
   "mimetype": "text/x-python",
   "name": "python",
   "nbconvert_exporter": "python",
   "pygments_lexer": "ipython2",
   "version": "2.7.6"
  }
 },
 "nbformat": 4,
 "nbformat_minor": 0
}
