{
 "cells": [
  {
   "cell_type": "code",
   "execution_count": 1,
   "id": "f3dc18b8-0943-4891-a1b1-43ad17dcfb6a",
   "metadata": {
    "tags": []
   },
   "outputs": [],
   "source": [
    "import os\n",
    "from importlib import reload\n",
    "\n",
    "import pandas as pd"
   ]
  },
  {
   "cell_type": "code",
   "execution_count": 2,
   "id": "b3274396-9845-4d47-be77-edc72f84e345",
   "metadata": {},
   "outputs": [
    {
     "data": {
      "text/plain": [
       "<module 'analysis.timescales.compute_taus_growing' from '/raven/u/mhami/rnn_timescale_public/analysis/timescales/compute_taus_growing.py'>"
      ]
     },
     "execution_count": 2,
     "metadata": {},
     "output_type": "execute_result"
    }
   ],
   "source": [
    "from analysis.timescales import compute_taus_growing\n",
    "reload(compute_taus_growing)"
   ]
  },
  {
   "cell_type": "code",
   "execution_count": 3,
   "id": "d465dd11-e437-432c-96f5-1c3049fc6f6f",
   "metadata": {
    "tags": []
   },
   "outputs": [
    {
     "name": "stderr",
     "output_type": "stream",
     "text": [
      "100%|██████████| 1024/1024 [00:00<00:00, 2550.51it/s]\n"
     ]
    }
   ],
   "source": [
    "slurm_path = os.path.abspath(\"./trained_models/SLURM_ARRAY_JOB_ID=7681088_Mar-11-2024-16_09_54\")\n",
    "paths = compute_taus_growing.resolve_paths(slurm_path)\n"
   ]
  },
  {
   "cell_type": "code",
   "execution_count": 4,
   "id": "c18da832-6631-4ca1-bcc9-93c2bba04e7b",
   "metadata": {
    "tags": []
   },
   "outputs": [
    {
     "data": {
      "text/plain": [
       "['323_grow_parity_',\n",
       " '1421_grow_parity_',\n",
       " '800_grow_parity_',\n",
       " '1801_grow_parity_',\n",
       " '1734_grow_parity_']"
      ]
     },
     "execution_count": 4,
     "metadata": {},
     "output_type": "execute_result"
    }
   ],
   "source": [
    "list(paths.keys())[:5]"
   ]
  },
  {
   "cell_type": "code",
   "execution_count": 5,
   "id": "38f5b1f0-9029-49cc-b2ab-8076121ca9c4",
   "metadata": {
    "tags": []
   },
   "outputs": [
    {
     "data": {
      "text/plain": [
       "1024"
      ]
     },
     "execution_count": 5,
     "metadata": {},
     "output_type": "execute_result"
    }
   ],
   "source": [
    "len(paths)"
   ]
  },
  {
   "cell_type": "code",
   "execution_count": 6,
   "id": "e6054098-1b79-4f6f-ac13-56d225cebb53",
   "metadata": {
    "tags": []
   },
   "outputs": [
    {
     "name": "stdout",
     "output_type": "stream",
     "text": [
      "['rnn_1_N5', 'rnn_1_N2', 'configs.json', 'rnn_1_N16', 'stats.npy', 'rnn_1_N6', 'rnn_1_N3', 'rnn_1_N15', 'rnn_1_N17', 'rnn_1_N8', 'rnn_0_init', 'rnn_1_N11', 'rnn_1_N12', 'rnn_1_N18', 'rnn_1_N19', 'rnn_1_N7', 'rnn_1_N4', 'rnn_1_N9', 'rnn_1_N14', 'rnn_1_N13', 'rnn_1_N10']\n"
     ]
    }
   ],
   "source": [
    "print(paths['643_grow_parity_'])"
   ]
  },
  {
   "cell_type": "code",
   "execution_count": 7,
   "id": "6f01b457-8d57-4b9a-8304-1cb5a0d03650",
   "metadata": {
    "tags": []
   },
   "outputs": [
    {
     "name": "stderr",
     "output_type": "stream",
     "text": [
      "100%|██████████| 1024/1024 [00:00<00:00, 74014.15it/s]\n",
      "100%|██████████| 1024/1024 [00:02<00:00, 367.39it/s]\n"
     ]
    }
   ],
   "source": [
    "configs, stats, missing = compute_taus_growing.get_all_configs_and_stats(slurm_directory=slurm_path)"
   ]
  },
  {
   "cell_type": "code",
   "execution_count": 8,
   "id": "9f3f282d-61e1-4b59-a41f-c3ac06738852",
   "metadata": {
    "tags": []
   },
   "outputs": [
    {
     "data": {
      "text/plain": [
       "1024"
      ]
     },
     "execution_count": 8,
     "metadata": {},
     "output_type": "execute_result"
    }
   ],
   "source": [
    "len(stats)"
   ]
  },
  {
   "cell_type": "code",
   "execution_count": 9,
   "id": "45650968-869c-44dd-91d5-025a070829e4",
   "metadata": {
    "tags": []
   },
   "outputs": [],
   "source": [
    "# print(stats[10]['accuracy'])"
   ]
  },
  {
   "cell_type": "code",
   "execution_count": 10,
   "id": "b4204b5f-3d8a-4f15-9cf8-2b3806a85a88",
   "metadata": {
    "tags": []
   },
   "outputs": [],
   "source": [
    "for stat in stats:\n",
    "    stat['len_accuracies'] = list(map(lambda x: len(x), stat['accuracy']))"
   ]
  },
  {
   "cell_type": "code",
   "execution_count": 11,
   "id": "b0e5fc41-921d-46af-858d-81d820a69719",
   "metadata": {
    "tags": []
   },
   "outputs": [],
   "source": [
    "configs_df = pd.DataFrame(configs)\n",
    "stats_df = pd.DataFrame(stats)"
   ]
  },
  {
   "cell_type": "code",
   "execution_count": 12,
   "id": "d5e3a3cc-dc91-4a85-84ec-25d6517df11c",
   "metadata": {
    "tags": []
   },
   "outputs": [
    {
     "data": {
      "text/html": [
       "<div>\n",
       "<style scoped>\n",
       "    .dataframe tbody tr th:only-of-type {\n",
       "        vertical-align: middle;\n",
       "    }\n",
       "\n",
       "    .dataframe tbody tr th {\n",
       "        vertical-align: top;\n",
       "    }\n",
       "\n",
       "    .dataframe thead th {\n",
       "        text-align: right;\n",
       "    }\n",
       "</style>\n",
       "<table border=\"1\" class=\"dataframe\">\n",
       "  <thead>\n",
       "    <tr style=\"text-align: right;\">\n",
       "      <th></th>\n",
       "      <th>loss</th>\n",
       "      <th>accuracy</th>\n",
       "      <th>time</th>\n",
       "      <th>epochs</th>\n",
       "      <th>max_N</th>\n",
       "      <th>subdir</th>\n",
       "      <th>len_accuracies</th>\n",
       "    </tr>\n",
       "  </thead>\n",
       "  <tbody>\n",
       "    <tr>\n",
       "      <th>0</th>\n",
       "      <td>[0.2715088289482519, 0.1579944550059736, 0.205...</td>\n",
       "      <td>[[100.0], [100.0, 100.0], [100.0, 100.0, 100.0...</td>\n",
       "      <td>[10.96755862236023, 31.179903745651245, 83.260...</td>\n",
       "      <td>17</td>\n",
       "      <td>[2, 3, 4, 5, 6, 7, 8, 9, 10, 11, 12, 13, 14, 1...</td>\n",
       "      <td>323_grow_parity_</td>\n",
       "      <td>[1, 2, 3, 4, 5, 6, 7, 8, 9, 10, 11, 12, 13, 14...</td>\n",
       "    </tr>\n",
       "    <tr>\n",
       "      <th>1</th>\n",
       "      <td>[0.12202395050693303, 0.10112663013115525, 0.2...</td>\n",
       "      <td>[[100.0], [100.0, 100.0], [100.0, 100.0, 100.0...</td>\n",
       "      <td>[4.812973260879517, 16.095382928848267, 36.088...</td>\n",
       "      <td>28</td>\n",
       "      <td>[2, 3, 4, 5, 6, 7, 8, 9, 10, 11, 12, 13, 14, 1...</td>\n",
       "      <td>1421_grow_parity_</td>\n",
       "      <td>[1, 2, 3, 4, 5, 6, 7, 8, 9, 10, 10, 10, 11, 12...</td>\n",
       "    </tr>\n",
       "    <tr>\n",
       "      <th>2</th>\n",
       "      <td>[0.16078113134671002, 0.1625029559340328, 0.23...</td>\n",
       "      <td>[[100.0], [100.0, 100.0], [100.0, 100.0, 98.76...</td>\n",
       "      <td>[8.779330730438232, 24.256601810455322, 54.752...</td>\n",
       "      <td>19</td>\n",
       "      <td>[2, 3, 4, 5, 6, 7, 8, 9, 10, 11, 12, 13, 14, 1...</td>\n",
       "      <td>800_grow_parity_</td>\n",
       "      <td>[1, 2, 3, 4, 5, 6, 7, 8, 9, 10, 11, 12, 13, 14...</td>\n",
       "    </tr>\n",
       "    <tr>\n",
       "      <th>3</th>\n",
       "      <td>[0.16078113134671002, 0.1625029559340328, 0.26...</td>\n",
       "      <td>[[100.0], [100.0, 100.0], [100.0, 100.0, 96.22...</td>\n",
       "      <td>[11.09047245979309, 33.77867889404297, 72.6794...</td>\n",
       "      <td>23</td>\n",
       "      <td>[2, 3, 4, 5, 6, 7, 8, 9, 10, 11, 12, 13, 14, 1...</td>\n",
       "      <td>1801_grow_parity_</td>\n",
       "      <td>[1, 2, 3, 3, 4, 5, 6, 7, 8, 8, 9, 10, 11, 12, ...</td>\n",
       "    </tr>\n",
       "    <tr>\n",
       "      <th>4</th>\n",
       "      <td>[0.17045902049145661, 0.13771812912099995, 0.1...</td>\n",
       "      <td>[[100.0], [100.0, 100.0], [100.0, 100.0, 100.0...</td>\n",
       "      <td>[15.600406885147095, 41.17249369621277, 105.85...</td>\n",
       "      <td>16</td>\n",
       "      <td>[2, 3, 4, 5, 6, 7, 8, 9, 10, 11, 12, 13, 14, 1...</td>\n",
       "      <td>1734_grow_parity_</td>\n",
       "      <td>[1, 2, 3, 4, 5, 6, 7, 8, 9, 10, 11, 12, 13, 14...</td>\n",
       "    </tr>\n",
       "    <tr>\n",
       "      <th>...</th>\n",
       "      <td>...</td>\n",
       "      <td>...</td>\n",
       "      <td>...</td>\n",
       "      <td>...</td>\n",
       "      <td>...</td>\n",
       "      <td>...</td>\n",
       "      <td>...</td>\n",
       "    </tr>\n",
       "    <tr>\n",
       "      <th>1019</th>\n",
       "      <td>[0.12202395050693303, 0.10112663013115525, 0.3...</td>\n",
       "      <td>[[100.0], [100.0, 100.0], [100.0, 100.0, 99.38...</td>\n",
       "      <td>[5.102444171905518, 16.61868190765381, 34.8854...</td>\n",
       "      <td>25</td>\n",
       "      <td>[2, 3, 4, 5, 6, 7, 8, 9, 10, 11, 12, 13, 14, 1...</td>\n",
       "      <td>418_grow_parity_</td>\n",
       "      <td>[1, 2, 3, 4, 5, 6, 7, 8, 9, 10, 11, 12, 13, 14...</td>\n",
       "    </tr>\n",
       "    <tr>\n",
       "      <th>1020</th>\n",
       "      <td>[0.16078113134671002, 0.1625029559340328, 0.23...</td>\n",
       "      <td>[[100.0], [100.0, 100.0], [100.0, 100.0, 98.76...</td>\n",
       "      <td>[9.590940237045288, 29.602954864501953, 62.155...</td>\n",
       "      <td>20</td>\n",
       "      <td>[2, 3, 4, 5, 6, 7, 8, 9, 10, 11, 12, 13, 14, 1...</td>\n",
       "      <td>1806_grow_parity_</td>\n",
       "      <td>[1, 2, 3, 4, 5, 6, 7, 8, 9, 10, 11, 12, 13, 14...</td>\n",
       "    </tr>\n",
       "    <tr>\n",
       "      <th>1021</th>\n",
       "      <td>[0.2715088289482519, 0.1579944550059736, 0.205...</td>\n",
       "      <td>[[100.0], [100.0, 100.0], [100.0, 100.0, 100.0...</td>\n",
       "      <td>[7.434954881668091, 20.271660566329956, 44.028...</td>\n",
       "      <td>25</td>\n",
       "      <td>[2, 3, 4, 5, 6, 7, 8, 9, 10, 11, 12, 13, 14, 1...</td>\n",
       "      <td>1903_grow_parity_</td>\n",
       "      <td>[1, 2, 3, 4, 5, 6, 7, 8, 9, 10, 11, 12, 13, 14...</td>\n",
       "    </tr>\n",
       "    <tr>\n",
       "      <th>1022</th>\n",
       "      <td>[0.17045902049145661, 0.13771812912099995, 0.1...</td>\n",
       "      <td>[[100.0], [100.0, 100.0], [100.0, 100.0, 100.0...</td>\n",
       "      <td>[6.246819734573364, 21.712166786193848, 49.938...</td>\n",
       "      <td>23</td>\n",
       "      <td>[2, 3, 4, 5, 6, 7, 8, 9, 10, 11, 12, 13, 14, 1...</td>\n",
       "      <td>1262_grow_parity_</td>\n",
       "      <td>[1, 2, 3, 4, 5, 6, 7, 8, 9, 10, 11, 12, 13, 14...</td>\n",
       "    </tr>\n",
       "    <tr>\n",
       "      <th>1023</th>\n",
       "      <td>[0.16078113134671002, 0.16774596166610717, 0.2...</td>\n",
       "      <td>[[100.0], [100.0, 100.0], [100.0, 100.0, 98.76...</td>\n",
       "      <td>[4.594493865966797, 10.934446096420288, 22.247...</td>\n",
       "      <td>33</td>\n",
       "      <td>[2, 3, 4, 5, 6, 7, 8, 9, 10, 11, 12, 13, 14, 1...</td>\n",
       "      <td>1070_grow_parity_</td>\n",
       "      <td>[1, 2, 3, 4, 5, 6, 7, 8, 9, 10, 11, 12, 13, 14...</td>\n",
       "    </tr>\n",
       "  </tbody>\n",
       "</table>\n",
       "<p>1024 rows × 7 columns</p>\n",
       "</div>"
      ],
      "text/plain": [
       "                                                   loss  \\\n",
       "0     [0.2715088289482519, 0.1579944550059736, 0.205...   \n",
       "1     [0.12202395050693303, 0.10112663013115525, 0.2...   \n",
       "2     [0.16078113134671002, 0.1625029559340328, 0.23...   \n",
       "3     [0.16078113134671002, 0.1625029559340328, 0.26...   \n",
       "4     [0.17045902049145661, 0.13771812912099995, 0.1...   \n",
       "...                                                 ...   \n",
       "1019  [0.12202395050693303, 0.10112663013115525, 0.3...   \n",
       "1020  [0.16078113134671002, 0.1625029559340328, 0.23...   \n",
       "1021  [0.2715088289482519, 0.1579944550059736, 0.205...   \n",
       "1022  [0.17045902049145661, 0.13771812912099995, 0.1...   \n",
       "1023  [0.16078113134671002, 0.16774596166610717, 0.2...   \n",
       "\n",
       "                                               accuracy  \\\n",
       "0     [[100.0], [100.0, 100.0], [100.0, 100.0, 100.0...   \n",
       "1     [[100.0], [100.0, 100.0], [100.0, 100.0, 100.0...   \n",
       "2     [[100.0], [100.0, 100.0], [100.0, 100.0, 98.76...   \n",
       "3     [[100.0], [100.0, 100.0], [100.0, 100.0, 96.22...   \n",
       "4     [[100.0], [100.0, 100.0], [100.0, 100.0, 100.0...   \n",
       "...                                                 ...   \n",
       "1019  [[100.0], [100.0, 100.0], [100.0, 100.0, 99.38...   \n",
       "1020  [[100.0], [100.0, 100.0], [100.0, 100.0, 98.76...   \n",
       "1021  [[100.0], [100.0, 100.0], [100.0, 100.0, 100.0...   \n",
       "1022  [[100.0], [100.0, 100.0], [100.0, 100.0, 100.0...   \n",
       "1023  [[100.0], [100.0, 100.0], [100.0, 100.0, 98.76...   \n",
       "\n",
       "                                                   time  epochs  \\\n",
       "0     [10.96755862236023, 31.179903745651245, 83.260...      17   \n",
       "1     [4.812973260879517, 16.095382928848267, 36.088...      28   \n",
       "2     [8.779330730438232, 24.256601810455322, 54.752...      19   \n",
       "3     [11.09047245979309, 33.77867889404297, 72.6794...      23   \n",
       "4     [15.600406885147095, 41.17249369621277, 105.85...      16   \n",
       "...                                                 ...     ...   \n",
       "1019  [5.102444171905518, 16.61868190765381, 34.8854...      25   \n",
       "1020  [9.590940237045288, 29.602954864501953, 62.155...      20   \n",
       "1021  [7.434954881668091, 20.271660566329956, 44.028...      25   \n",
       "1022  [6.246819734573364, 21.712166786193848, 49.938...      23   \n",
       "1023  [4.594493865966797, 10.934446096420288, 22.247...      33   \n",
       "\n",
       "                                                  max_N             subdir  \\\n",
       "0     [2, 3, 4, 5, 6, 7, 8, 9, 10, 11, 12, 13, 14, 1...   323_grow_parity_   \n",
       "1     [2, 3, 4, 5, 6, 7, 8, 9, 10, 11, 12, 13, 14, 1...  1421_grow_parity_   \n",
       "2     [2, 3, 4, 5, 6, 7, 8, 9, 10, 11, 12, 13, 14, 1...   800_grow_parity_   \n",
       "3     [2, 3, 4, 5, 6, 7, 8, 9, 10, 11, 12, 13, 14, 1...  1801_grow_parity_   \n",
       "4     [2, 3, 4, 5, 6, 7, 8, 9, 10, 11, 12, 13, 14, 1...  1734_grow_parity_   \n",
       "...                                                 ...                ...   \n",
       "1019  [2, 3, 4, 5, 6, 7, 8, 9, 10, 11, 12, 13, 14, 1...   418_grow_parity_   \n",
       "1020  [2, 3, 4, 5, 6, 7, 8, 9, 10, 11, 12, 13, 14, 1...  1806_grow_parity_   \n",
       "1021  [2, 3, 4, 5, 6, 7, 8, 9, 10, 11, 12, 13, 14, 1...  1903_grow_parity_   \n",
       "1022  [2, 3, 4, 5, 6, 7, 8, 9, 10, 11, 12, 13, 14, 1...  1262_grow_parity_   \n",
       "1023  [2, 3, 4, 5, 6, 7, 8, 9, 10, 11, 12, 13, 14, 1...  1070_grow_parity_   \n",
       "\n",
       "                                         len_accuracies  \n",
       "0     [1, 2, 3, 4, 5, 6, 7, 8, 9, 10, 11, 12, 13, 14...  \n",
       "1     [1, 2, 3, 4, 5, 6, 7, 8, 9, 10, 10, 10, 11, 12...  \n",
       "2     [1, 2, 3, 4, 5, 6, 7, 8, 9, 10, 11, 12, 13, 14...  \n",
       "3     [1, 2, 3, 3, 4, 5, 6, 7, 8, 8, 9, 10, 11, 12, ...  \n",
       "4     [1, 2, 3, 4, 5, 6, 7, 8, 9, 10, 11, 12, 13, 14...  \n",
       "...                                                 ...  \n",
       "1019  [1, 2, 3, 4, 5, 6, 7, 8, 9, 10, 11, 12, 13, 14...  \n",
       "1020  [1, 2, 3, 4, 5, 6, 7, 8, 9, 10, 11, 12, 13, 14...  \n",
       "1021  [1, 2, 3, 4, 5, 6, 7, 8, 9, 10, 11, 12, 13, 14...  \n",
       "1022  [1, 2, 3, 4, 5, 6, 7, 8, 9, 10, 11, 12, 13, 14...  \n",
       "1023  [1, 2, 3, 4, 5, 6, 7, 8, 9, 10, 11, 12, 13, 14...  \n",
       "\n",
       "[1024 rows x 7 columns]"
      ]
     },
     "execution_count": 12,
     "metadata": {},
     "output_type": "execute_result"
    }
   ],
   "source": [
    "stats_df"
   ]
  },
  {
   "cell_type": "code",
   "execution_count": 13,
   "id": "eaa6d67a-3f3c-4188-8002-ff4d61131f0a",
   "metadata": {
    "tags": []
   },
   "outputs": [
    {
     "data": {
      "text/plain": [
       "0        323_grow_parity_\n",
       "1       1421_grow_parity_\n",
       "2        800_grow_parity_\n",
       "3       1801_grow_parity_\n",
       "4       1734_grow_parity_\n",
       "              ...        \n",
       "1019     418_grow_parity_\n",
       "1020    1806_grow_parity_\n",
       "1021    1903_grow_parity_\n",
       "1022    1262_grow_parity_\n",
       "1023    1070_grow_parity_\n",
       "Name: subdir, Length: 1024, dtype: object"
      ]
     },
     "execution_count": 13,
     "metadata": {},
     "output_type": "execute_result"
    }
   ],
   "source": [
    "configs_df['subdir']"
   ]
  },
  {
   "cell_type": "code",
   "execution_count": 14,
   "id": "086ae100-7126-48ca-910b-4e2c84c68a85",
   "metadata": {
    "tags": []
   },
   "outputs": [
    {
     "data": {
      "text/html": [
       "<div>\n",
       "<style scoped>\n",
       "    .dataframe tbody tr th:only-of-type {\n",
       "        vertical-align: middle;\n",
       "    }\n",
       "\n",
       "    .dataframe tbody tr th {\n",
       "        vertical-align: top;\n",
       "    }\n",
       "\n",
       "    .dataframe thead th {\n",
       "        text-align: right;\n",
       "    }\n",
       "</style>\n",
       "<table border=\"1\" class=\"dataframe\">\n",
       "  <thead>\n",
       "    <tr style=\"text-align: right;\">\n",
       "      <th></th>\n",
       "      <th>loss</th>\n",
       "      <th>accuracy</th>\n",
       "      <th>time</th>\n",
       "      <th>epochs</th>\n",
       "      <th>max_N</th>\n",
       "      <th>subdir</th>\n",
       "      <th>len_accuracies</th>\n",
       "    </tr>\n",
       "  </thead>\n",
       "  <tbody>\n",
       "    <tr>\n",
       "      <th>0</th>\n",
       "      <td>[0.2715088289482519, 0.1579944550059736, 0.205...</td>\n",
       "      <td>[[100.0], [100.0, 100.0], [100.0, 100.0, 100.0...</td>\n",
       "      <td>[10.96755862236023, 31.179903745651245, 83.260...</td>\n",
       "      <td>17</td>\n",
       "      <td>[2, 3, 4, 5, 6, 7, 8, 9, 10, 11, 12, 13, 14, 1...</td>\n",
       "      <td>323_grow_parity_</td>\n",
       "      <td>[1, 2, 3, 4, 5, 6, 7, 8, 9, 10, 11, 12, 13, 14...</td>\n",
       "    </tr>\n",
       "    <tr>\n",
       "      <th>1</th>\n",
       "      <td>[0.12202395050693303, 0.10112663013115525, 0.2...</td>\n",
       "      <td>[[100.0], [100.0, 100.0], [100.0, 100.0, 100.0...</td>\n",
       "      <td>[4.812973260879517, 16.095382928848267, 36.088...</td>\n",
       "      <td>28</td>\n",
       "      <td>[2, 3, 4, 5, 6, 7, 8, 9, 10, 11, 12, 13, 14, 1...</td>\n",
       "      <td>1421_grow_parity_</td>\n",
       "      <td>[1, 2, 3, 4, 5, 6, 7, 8, 9, 10, 10, 10, 11, 12...</td>\n",
       "    </tr>\n",
       "    <tr>\n",
       "      <th>2</th>\n",
       "      <td>[0.16078113134671002, 0.1625029559340328, 0.23...</td>\n",
       "      <td>[[100.0], [100.0, 100.0], [100.0, 100.0, 98.76...</td>\n",
       "      <td>[8.779330730438232, 24.256601810455322, 54.752...</td>\n",
       "      <td>19</td>\n",
       "      <td>[2, 3, 4, 5, 6, 7, 8, 9, 10, 11, 12, 13, 14, 1...</td>\n",
       "      <td>800_grow_parity_</td>\n",
       "      <td>[1, 2, 3, 4, 5, 6, 7, 8, 9, 10, 11, 12, 13, 14...</td>\n",
       "    </tr>\n",
       "    <tr>\n",
       "      <th>3</th>\n",
       "      <td>[0.16078113134671002, 0.1625029559340328, 0.26...</td>\n",
       "      <td>[[100.0], [100.0, 100.0], [100.0, 100.0, 96.22...</td>\n",
       "      <td>[11.09047245979309, 33.77867889404297, 72.6794...</td>\n",
       "      <td>23</td>\n",
       "      <td>[2, 3, 4, 5, 6, 7, 8, 9, 10, 11, 12, 13, 14, 1...</td>\n",
       "      <td>1801_grow_parity_</td>\n",
       "      <td>[1, 2, 3, 3, 4, 5, 6, 7, 8, 8, 9, 10, 11, 12, ...</td>\n",
       "    </tr>\n",
       "    <tr>\n",
       "      <th>4</th>\n",
       "      <td>[0.17045902049145661, 0.13771812912099995, 0.1...</td>\n",
       "      <td>[[100.0], [100.0, 100.0], [100.0, 100.0, 100.0...</td>\n",
       "      <td>[15.600406885147095, 41.17249369621277, 105.85...</td>\n",
       "      <td>16</td>\n",
       "      <td>[2, 3, 4, 5, 6, 7, 8, 9, 10, 11, 12, 13, 14, 1...</td>\n",
       "      <td>1734_grow_parity_</td>\n",
       "      <td>[1, 2, 3, 4, 5, 6, 7, 8, 9, 10, 11, 12, 13, 14...</td>\n",
       "    </tr>\n",
       "    <tr>\n",
       "      <th>...</th>\n",
       "      <td>...</td>\n",
       "      <td>...</td>\n",
       "      <td>...</td>\n",
       "      <td>...</td>\n",
       "      <td>...</td>\n",
       "      <td>...</td>\n",
       "      <td>...</td>\n",
       "    </tr>\n",
       "    <tr>\n",
       "      <th>1019</th>\n",
       "      <td>[0.12202395050693303, 0.10112663013115525, 0.3...</td>\n",
       "      <td>[[100.0], [100.0, 100.0], [100.0, 100.0, 99.38...</td>\n",
       "      <td>[5.102444171905518, 16.61868190765381, 34.8854...</td>\n",
       "      <td>25</td>\n",
       "      <td>[2, 3, 4, 5, 6, 7, 8, 9, 10, 11, 12, 13, 14, 1...</td>\n",
       "      <td>418_grow_parity_</td>\n",
       "      <td>[1, 2, 3, 4, 5, 6, 7, 8, 9, 10, 11, 12, 13, 14...</td>\n",
       "    </tr>\n",
       "    <tr>\n",
       "      <th>1020</th>\n",
       "      <td>[0.16078113134671002, 0.1625029559340328, 0.23...</td>\n",
       "      <td>[[100.0], [100.0, 100.0], [100.0, 100.0, 98.76...</td>\n",
       "      <td>[9.590940237045288, 29.602954864501953, 62.155...</td>\n",
       "      <td>20</td>\n",
       "      <td>[2, 3, 4, 5, 6, 7, 8, 9, 10, 11, 12, 13, 14, 1...</td>\n",
       "      <td>1806_grow_parity_</td>\n",
       "      <td>[1, 2, 3, 4, 5, 6, 7, 8, 9, 10, 11, 12, 13, 14...</td>\n",
       "    </tr>\n",
       "    <tr>\n",
       "      <th>1021</th>\n",
       "      <td>[0.2715088289482519, 0.1579944550059736, 0.205...</td>\n",
       "      <td>[[100.0], [100.0, 100.0], [100.0, 100.0, 100.0...</td>\n",
       "      <td>[7.434954881668091, 20.271660566329956, 44.028...</td>\n",
       "      <td>25</td>\n",
       "      <td>[2, 3, 4, 5, 6, 7, 8, 9, 10, 11, 12, 13, 14, 1...</td>\n",
       "      <td>1903_grow_parity_</td>\n",
       "      <td>[1, 2, 3, 4, 5, 6, 7, 8, 9, 10, 11, 12, 13, 14...</td>\n",
       "    </tr>\n",
       "    <tr>\n",
       "      <th>1022</th>\n",
       "      <td>[0.17045902049145661, 0.13771812912099995, 0.1...</td>\n",
       "      <td>[[100.0], [100.0, 100.0], [100.0, 100.0, 100.0...</td>\n",
       "      <td>[6.246819734573364, 21.712166786193848, 49.938...</td>\n",
       "      <td>23</td>\n",
       "      <td>[2, 3, 4, 5, 6, 7, 8, 9, 10, 11, 12, 13, 14, 1...</td>\n",
       "      <td>1262_grow_parity_</td>\n",
       "      <td>[1, 2, 3, 4, 5, 6, 7, 8, 9, 10, 11, 12, 13, 14...</td>\n",
       "    </tr>\n",
       "    <tr>\n",
       "      <th>1023</th>\n",
       "      <td>[0.16078113134671002, 0.16774596166610717, 0.2...</td>\n",
       "      <td>[[100.0], [100.0, 100.0], [100.0, 100.0, 98.76...</td>\n",
       "      <td>[4.594493865966797, 10.934446096420288, 22.247...</td>\n",
       "      <td>33</td>\n",
       "      <td>[2, 3, 4, 5, 6, 7, 8, 9, 10, 11, 12, 13, 14, 1...</td>\n",
       "      <td>1070_grow_parity_</td>\n",
       "      <td>[1, 2, 3, 4, 5, 6, 7, 8, 9, 10, 11, 12, 13, 14...</td>\n",
       "    </tr>\n",
       "  </tbody>\n",
       "</table>\n",
       "<p>1024 rows × 7 columns</p>\n",
       "</div>"
      ],
      "text/plain": [
       "                                                   loss  \\\n",
       "0     [0.2715088289482519, 0.1579944550059736, 0.205...   \n",
       "1     [0.12202395050693303, 0.10112663013115525, 0.2...   \n",
       "2     [0.16078113134671002, 0.1625029559340328, 0.23...   \n",
       "3     [0.16078113134671002, 0.1625029559340328, 0.26...   \n",
       "4     [0.17045902049145661, 0.13771812912099995, 0.1...   \n",
       "...                                                 ...   \n",
       "1019  [0.12202395050693303, 0.10112663013115525, 0.3...   \n",
       "1020  [0.16078113134671002, 0.1625029559340328, 0.23...   \n",
       "1021  [0.2715088289482519, 0.1579944550059736, 0.205...   \n",
       "1022  [0.17045902049145661, 0.13771812912099995, 0.1...   \n",
       "1023  [0.16078113134671002, 0.16774596166610717, 0.2...   \n",
       "\n",
       "                                               accuracy  \\\n",
       "0     [[100.0], [100.0, 100.0], [100.0, 100.0, 100.0...   \n",
       "1     [[100.0], [100.0, 100.0], [100.0, 100.0, 100.0...   \n",
       "2     [[100.0], [100.0, 100.0], [100.0, 100.0, 98.76...   \n",
       "3     [[100.0], [100.0, 100.0], [100.0, 100.0, 96.22...   \n",
       "4     [[100.0], [100.0, 100.0], [100.0, 100.0, 100.0...   \n",
       "...                                                 ...   \n",
       "1019  [[100.0], [100.0, 100.0], [100.0, 100.0, 99.38...   \n",
       "1020  [[100.0], [100.0, 100.0], [100.0, 100.0, 98.76...   \n",
       "1021  [[100.0], [100.0, 100.0], [100.0, 100.0, 100.0...   \n",
       "1022  [[100.0], [100.0, 100.0], [100.0, 100.0, 100.0...   \n",
       "1023  [[100.0], [100.0, 100.0], [100.0, 100.0, 98.76...   \n",
       "\n",
       "                                                   time  epochs  \\\n",
       "0     [10.96755862236023, 31.179903745651245, 83.260...      17   \n",
       "1     [4.812973260879517, 16.095382928848267, 36.088...      28   \n",
       "2     [8.779330730438232, 24.256601810455322, 54.752...      19   \n",
       "3     [11.09047245979309, 33.77867889404297, 72.6794...      23   \n",
       "4     [15.600406885147095, 41.17249369621277, 105.85...      16   \n",
       "...                                                 ...     ...   \n",
       "1019  [5.102444171905518, 16.61868190765381, 34.8854...      25   \n",
       "1020  [9.590940237045288, 29.602954864501953, 62.155...      20   \n",
       "1021  [7.434954881668091, 20.271660566329956, 44.028...      25   \n",
       "1022  [6.246819734573364, 21.712166786193848, 49.938...      23   \n",
       "1023  [4.594493865966797, 10.934446096420288, 22.247...      33   \n",
       "\n",
       "                                                  max_N             subdir  \\\n",
       "0     [2, 3, 4, 5, 6, 7, 8, 9, 10, 11, 12, 13, 14, 1...   323_grow_parity_   \n",
       "1     [2, 3, 4, 5, 6, 7, 8, 9, 10, 11, 12, 13, 14, 1...  1421_grow_parity_   \n",
       "2     [2, 3, 4, 5, 6, 7, 8, 9, 10, 11, 12, 13, 14, 1...   800_grow_parity_   \n",
       "3     [2, 3, 4, 5, 6, 7, 8, 9, 10, 11, 12, 13, 14, 1...  1801_grow_parity_   \n",
       "4     [2, 3, 4, 5, 6, 7, 8, 9, 10, 11, 12, 13, 14, 1...  1734_grow_parity_   \n",
       "...                                                 ...                ...   \n",
       "1019  [2, 3, 4, 5, 6, 7, 8, 9, 10, 11, 12, 13, 14, 1...   418_grow_parity_   \n",
       "1020  [2, 3, 4, 5, 6, 7, 8, 9, 10, 11, 12, 13, 14, 1...  1806_grow_parity_   \n",
       "1021  [2, 3, 4, 5, 6, 7, 8, 9, 10, 11, 12, 13, 14, 1...  1903_grow_parity_   \n",
       "1022  [2, 3, 4, 5, 6, 7, 8, 9, 10, 11, 12, 13, 14, 1...  1262_grow_parity_   \n",
       "1023  [2, 3, 4, 5, 6, 7, 8, 9, 10, 11, 12, 13, 14, 1...  1070_grow_parity_   \n",
       "\n",
       "                                         len_accuracies  \n",
       "0     [1, 2, 3, 4, 5, 6, 7, 8, 9, 10, 11, 12, 13, 14...  \n",
       "1     [1, 2, 3, 4, 5, 6, 7, 8, 9, 10, 10, 10, 11, 12...  \n",
       "2     [1, 2, 3, 4, 5, 6, 7, 8, 9, 10, 11, 12, 13, 14...  \n",
       "3     [1, 2, 3, 3, 4, 5, 6, 7, 8, 8, 9, 10, 11, 12, ...  \n",
       "4     [1, 2, 3, 4, 5, 6, 7, 8, 9, 10, 11, 12, 13, 14...  \n",
       "...                                                 ...  \n",
       "1019  [1, 2, 3, 4, 5, 6, 7, 8, 9, 10, 11, 12, 13, 14...  \n",
       "1020  [1, 2, 3, 4, 5, 6, 7, 8, 9, 10, 11, 12, 13, 14...  \n",
       "1021  [1, 2, 3, 4, 5, 6, 7, 8, 9, 10, 11, 12, 13, 14...  \n",
       "1022  [1, 2, 3, 4, 5, 6, 7, 8, 9, 10, 11, 12, 13, 14...  \n",
       "1023  [1, 2, 3, 4, 5, 6, 7, 8, 9, 10, 11, 12, 13, 14...  \n",
       "\n",
       "[1024 rows x 7 columns]"
      ]
     },
     "execution_count": 14,
     "metadata": {},
     "output_type": "execute_result"
    }
   ],
   "source": [
    "stats_df"
   ]
  },
  {
   "cell_type": "code",
   "execution_count": 15,
   "id": "513ed588-5a1a-4eb1-88e7-8a42bbacacdd",
   "metadata": {
    "tags": []
   },
   "outputs": [
    {
     "data": {
      "text/plain": [
       "Text(0, 0.5, 'Largest $N_{\\\\text{parity}}$')"
      ]
     },
     "execution_count": 15,
     "metadata": {},
     "output_type": "execute_result"
    },
    {
     "data": {
      "image/png": "[encoded data removed]",
      "text/plain": [
       "<Figure size 640x480 with 1 Axes>"
      ]
     },
     "metadata": {},
     "output_type": "display_data"
    }
   ],
   "source": [
    "import matplotlib.pyplot as plt\n",
    "for stat in stats:\n",
    "    plt.plot(stat['len_accuracies'], alpha=0.1)\n",
    "\n",
    "plt.xlabel('epoch')\n",
    "plt.ylabel('Largest $N_{\\\\text{parity}}$')"
   ]
  },
  {
   "cell_type": "code",
   "execution_count": 16,
   "id": "ec35d023-50f0-42fb-ad0b-0f7ea0e1349f",
   "metadata": {
    "tags": []
   },
   "outputs": [
    {
     "data": {
      "text/plain": [
       "Text(0, 0.5, 'Largest $N_{\\\\text{parity}}$')"
      ]
     },
     "execution_count": 16,
     "metadata": {},
     "output_type": "execute_result"
    },
    {
     "data": {
      "image/png": "[encoded data removed]",
      "text/plain": [
       "<Figure size 640x480 with 1 Axes>"
      ]
     },
     "metadata": {},
     "output_type": "display_data"
    }
   ],
   "source": [
    "import matplotlib.pyplot as plt\n",
    "for stat in stats:\n",
    "    plt.plot(stat['time'], stat['len_accuracies'], alpha=0.1)\n",
    "\n",
    "plt.xlabel('Wall Time')\n",
    "plt.ylabel('Largest $N_{\\\\text{parity}}$')"
   ]
  },
  {
   "cell_type": "code",
   "execution_count": 17,
   "id": "21fe0268-0efa-4ee2-981e-5a94731e19b8",
   "metadata": {
    "tags": []
   },
   "outputs": [],
   "source": [
    "# list(map(lambda x: x.tolist(), stat['accuracy']))"
   ]
  },
  {
   "cell_type": "code",
   "execution_count": 18,
   "id": "6408c31d-acef-42f3-a9e7-197299b0ff60",
   "metadata": {
    "tags": []
   },
   "outputs": [
    {
     "data": {
      "text/plain": [
       "1024"
      ]
     },
     "execution_count": 18,
     "metadata": {},
     "output_type": "execute_result"
    }
   ],
   "source": [
    "len(stats)"
   ]
  },
  {
   "cell_type": "code",
   "execution_count": 19,
   "id": "bf9b4856-5dcc-43be-887c-ea317dcb1261",
   "metadata": {
    "tags": []
   },
   "outputs": [
    {
     "data": {
      "text/plain": [
       "0        323_grow_parity_\n",
       "1       1421_grow_parity_\n",
       "2        800_grow_parity_\n",
       "3       1801_grow_parity_\n",
       "4       1734_grow_parity_\n",
       "              ...        \n",
       "1019     418_grow_parity_\n",
       "1020    1806_grow_parity_\n",
       "1021    1903_grow_parity_\n",
       "1022    1262_grow_parity_\n",
       "1023    1070_grow_parity_\n",
       "Name: subdir, Length: 1024, dtype: object"
      ]
     },
     "execution_count": 19,
     "metadata": {},
     "output_type": "execute_result"
    }
   ],
   "source": [
    "configs_df.subdir"
   ]
  },
  {
   "cell_type": "code",
   "execution_count": 20,
   "id": "09c4ab6b-2960-40f8-8a30-7c11f8c658d1",
   "metadata": {
    "tags": []
   },
   "outputs": [
    {
     "data": {
      "text/plain": [
       "SEED                                                                         0\n",
       "NUM_EPOCHS                                                                 200\n",
       "BATCH_SIZE                                                                 256\n",
       "TRAINING_STEPS                                                             500\n",
       "REPLICAS                                                                     2\n",
       "TEST_STEPS                                                                  50\n",
       "DEVICE                                                                     cpu\n",
       "CURRICULUM                                                                grow\n",
       "LEARNING_RATE                                                              0.4\n",
       "MOMENTUM                                                                   0.1\n",
       "FREEZING_STEPS                                                               1\n",
       "GAMMA                                                                      0.1\n",
       "SCHEDULE_INPUT_LAYERS                                                     True\n",
       "SCHEDULE_W_HH                                                             True\n",
       "SCHEDULE_W_FF_IN                                                          True\n",
       "SCHEDULE_FC                                                               True\n",
       "SCHEDULE_TAUS                                                             True\n",
       "WEIGHT_NOISE                                                              0.05\n",
       "BIAS_NOISE                                                                0.05\n",
       "TAUS_NOISE                                                                0.05\n",
       "DUPLICATE_INPUT_LAYERS                                                    True\n",
       "DUPLICATE_W_HH                                                            True\n",
       "DUPLICATE_W_FF_IN                                                         True\n",
       "DUPLICATE_FC                                                              True\n",
       "DUPLICATE_TAUS                                                           False\n",
       "MAX_DEPTH                                                                   50\n",
       "INPUT_SIZE                                                                   1\n",
       "NET_SIZE                     [[10], [10], [10], [10], [10], [10], [10], [10...\n",
       "NUM_CLASSES                                                                  2\n",
       "BIAS                                                                      True\n",
       "NUM_READOUT_HEADS_PER_MOD                                                    1\n",
       "TRAIN_TAU                                                                 True\n",
       "TASK                                                                    parity\n",
       "COMMIT_HASH                                                               None\n",
       "FILES_MODIFIED                                                            None\n",
       "subdir                                                        994_grow_parity_\n",
       "Name: 394, dtype: object"
      ]
     },
     "execution_count": 20,
     "metadata": {},
     "output_type": "execute_result"
    }
   ],
   "source": [
    "configs_df[configs_df.subdir.str.startswith('994')].iloc[0]"
   ]
  },
  {
   "cell_type": "code",
   "execution_count": 21,
   "id": "77b5b375-621e-4cc7-b4d1-36c85f7d30f2",
   "metadata": {},
   "outputs": [
    {
     "data": {
      "text/html": [
       "<div>\n",
       "<style scoped>\n",
       "    .dataframe tbody tr th:only-of-type {\n",
       "        vertical-align: middle;\n",
       "    }\n",
       "\n",
       "    .dataframe tbody tr th {\n",
       "        vertical-align: top;\n",
       "    }\n",
       "\n",
       "    .dataframe thead th {\n",
       "        text-align: right;\n",
       "    }\n",
       "</style>\n",
       "<table border=\"1\" class=\"dataframe\">\n",
       "  <thead>\n",
       "    <tr style=\"text-align: right;\">\n",
       "      <th></th>\n",
       "      <th>SEED</th>\n",
       "      <th>NUM_EPOCHS</th>\n",
       "      <th>BATCH_SIZE</th>\n",
       "      <th>TRAINING_STEPS</th>\n",
       "      <th>REPLICAS</th>\n",
       "      <th>TEST_STEPS</th>\n",
       "      <th>DEVICE</th>\n",
       "      <th>CURRICULUM</th>\n",
       "      <th>LEARNING_RATE</th>\n",
       "      <th>MOMENTUM</th>\n",
       "      <th>...</th>\n",
       "      <th>INPUT_SIZE</th>\n",
       "      <th>NET_SIZE</th>\n",
       "      <th>NUM_CLASSES</th>\n",
       "      <th>BIAS</th>\n",
       "      <th>NUM_READOUT_HEADS_PER_MOD</th>\n",
       "      <th>TRAIN_TAU</th>\n",
       "      <th>TASK</th>\n",
       "      <th>COMMIT_HASH</th>\n",
       "      <th>FILES_MODIFIED</th>\n",
       "      <th>subdir</th>\n",
       "    </tr>\n",
       "  </thead>\n",
       "  <tbody>\n",
       "    <tr>\n",
       "      <th>0</th>\n",
       "      <td>0</td>\n",
       "      <td>200</td>\n",
       "      <td>256</td>\n",
       "      <td>500</td>\n",
       "      <td>2</td>\n",
       "      <td>50</td>\n",
       "      <td>cpu</td>\n",
       "      <td>grow</td>\n",
       "      <td>0.2</td>\n",
       "      <td>0.1</td>\n",
       "      <td>...</td>\n",
       "      <td>1</td>\n",
       "      <td>[[10], [10], [10], [10], [10], [10], [10], [10...</td>\n",
       "      <td>2</td>\n",
       "      <td>True</td>\n",
       "      <td>1</td>\n",
       "      <td>True</td>\n",
       "      <td>parity</td>\n",
       "      <td>None</td>\n",
       "      <td>None</td>\n",
       "      <td>323_grow_parity_</td>\n",
       "    </tr>\n",
       "    <tr>\n",
       "      <th>1</th>\n",
       "      <td>0</td>\n",
       "      <td>200</td>\n",
       "      <td>256</td>\n",
       "      <td>500</td>\n",
       "      <td>2</td>\n",
       "      <td>50</td>\n",
       "      <td>cpu</td>\n",
       "      <td>grow</td>\n",
       "      <td>0.4</td>\n",
       "      <td>0.1</td>\n",
       "      <td>...</td>\n",
       "      <td>1</td>\n",
       "      <td>[[5], [5], [5], [5], [5], [5], [5], [5], [5], ...</td>\n",
       "      <td>2</td>\n",
       "      <td>True</td>\n",
       "      <td>1</td>\n",
       "      <td>True</td>\n",
       "      <td>parity</td>\n",
       "      <td>None</td>\n",
       "      <td>None</td>\n",
       "      <td>1421_grow_parity_</td>\n",
       "    </tr>\n",
       "    <tr>\n",
       "      <th>2</th>\n",
       "      <td>0</td>\n",
       "      <td>200</td>\n",
       "      <td>256</td>\n",
       "      <td>500</td>\n",
       "      <td>2</td>\n",
       "      <td>50</td>\n",
       "      <td>cpu</td>\n",
       "      <td>grow</td>\n",
       "      <td>0.2</td>\n",
       "      <td>0.1</td>\n",
       "      <td>...</td>\n",
       "      <td>1</td>\n",
       "      <td>[[5], [5], [5], [5], [5], [5], [5], [5], [5], ...</td>\n",
       "      <td>2</td>\n",
       "      <td>True</td>\n",
       "      <td>1</td>\n",
       "      <td>True</td>\n",
       "      <td>parity</td>\n",
       "      <td>None</td>\n",
       "      <td>None</td>\n",
       "      <td>800_grow_parity_</td>\n",
       "    </tr>\n",
       "    <tr>\n",
       "      <th>3</th>\n",
       "      <td>0</td>\n",
       "      <td>200</td>\n",
       "      <td>256</td>\n",
       "      <td>500</td>\n",
       "      <td>2</td>\n",
       "      <td>50</td>\n",
       "      <td>cpu</td>\n",
       "      <td>grow</td>\n",
       "      <td>0.2</td>\n",
       "      <td>0.1</td>\n",
       "      <td>...</td>\n",
       "      <td>1</td>\n",
       "      <td>[[5], [5], [5], [5], [5], [5], [5], [5], [5], ...</td>\n",
       "      <td>2</td>\n",
       "      <td>True</td>\n",
       "      <td>1</td>\n",
       "      <td>True</td>\n",
       "      <td>parity</td>\n",
       "      <td>None</td>\n",
       "      <td>None</td>\n",
       "      <td>1801_grow_parity_</td>\n",
       "    </tr>\n",
       "    <tr>\n",
       "      <th>4</th>\n",
       "      <td>0</td>\n",
       "      <td>200</td>\n",
       "      <td>256</td>\n",
       "      <td>500</td>\n",
       "      <td>2</td>\n",
       "      <td>50</td>\n",
       "      <td>cpu</td>\n",
       "      <td>grow</td>\n",
       "      <td>0.4</td>\n",
       "      <td>0.1</td>\n",
       "      <td>...</td>\n",
       "      <td>1</td>\n",
       "      <td>[[10], [10], [10], [10], [10], [10], [10], [10...</td>\n",
       "      <td>2</td>\n",
       "      <td>True</td>\n",
       "      <td>1</td>\n",
       "      <td>True</td>\n",
       "      <td>parity</td>\n",
       "      <td>None</td>\n",
       "      <td>None</td>\n",
       "      <td>1734_grow_parity_</td>\n",
       "    </tr>\n",
       "    <tr>\n",
       "      <th>...</th>\n",
       "      <td>...</td>\n",
       "      <td>...</td>\n",
       "      <td>...</td>\n",
       "      <td>...</td>\n",
       "      <td>...</td>\n",
       "      <td>...</td>\n",
       "      <td>...</td>\n",
       "      <td>...</td>\n",
       "      <td>...</td>\n",
       "      <td>...</td>\n",
       "      <td>...</td>\n",
       "      <td>...</td>\n",
       "      <td>...</td>\n",
       "      <td>...</td>\n",
       "      <td>...</td>\n",
       "      <td>...</td>\n",
       "      <td>...</td>\n",
       "      <td>...</td>\n",
       "      <td>...</td>\n",
       "      <td>...</td>\n",
       "      <td>...</td>\n",
       "    </tr>\n",
       "    <tr>\n",
       "      <th>1019</th>\n",
       "      <td>0</td>\n",
       "      <td>200</td>\n",
       "      <td>256</td>\n",
       "      <td>500</td>\n",
       "      <td>2</td>\n",
       "      <td>50</td>\n",
       "      <td>cpu</td>\n",
       "      <td>grow</td>\n",
       "      <td>0.4</td>\n",
       "      <td>0.1</td>\n",
       "      <td>...</td>\n",
       "      <td>1</td>\n",
       "      <td>[[5], [5], [5], [5], [5], [5], [5], [5], [5], ...</td>\n",
       "      <td>2</td>\n",
       "      <td>True</td>\n",
       "      <td>1</td>\n",
       "      <td>True</td>\n",
       "      <td>parity</td>\n",
       "      <td>None</td>\n",
       "      <td>None</td>\n",
       "      <td>418_grow_parity_</td>\n",
       "    </tr>\n",
       "    <tr>\n",
       "      <th>1020</th>\n",
       "      <td>0</td>\n",
       "      <td>200</td>\n",
       "      <td>256</td>\n",
       "      <td>500</td>\n",
       "      <td>2</td>\n",
       "      <td>50</td>\n",
       "      <td>cpu</td>\n",
       "      <td>grow</td>\n",
       "      <td>0.2</td>\n",
       "      <td>0.1</td>\n",
       "      <td>...</td>\n",
       "      <td>1</td>\n",
       "      <td>[[5], [5], [5], [5], [5], [5], [5], [5], [5], ...</td>\n",
       "      <td>2</td>\n",
       "      <td>True</td>\n",
       "      <td>1</td>\n",
       "      <td>True</td>\n",
       "      <td>parity</td>\n",
       "      <td>None</td>\n",
       "      <td>None</td>\n",
       "      <td>1806_grow_parity_</td>\n",
       "    </tr>\n",
       "    <tr>\n",
       "      <th>1021</th>\n",
       "      <td>0</td>\n",
       "      <td>200</td>\n",
       "      <td>256</td>\n",
       "      <td>500</td>\n",
       "      <td>2</td>\n",
       "      <td>50</td>\n",
       "      <td>cpu</td>\n",
       "      <td>grow</td>\n",
       "      <td>0.2</td>\n",
       "      <td>0.1</td>\n",
       "      <td>...</td>\n",
       "      <td>1</td>\n",
       "      <td>[[10], [10], [10], [10], [10], [10], [10], [10...</td>\n",
       "      <td>2</td>\n",
       "      <td>True</td>\n",
       "      <td>1</td>\n",
       "      <td>True</td>\n",
       "      <td>parity</td>\n",
       "      <td>None</td>\n",
       "      <td>None</td>\n",
       "      <td>1903_grow_parity_</td>\n",
       "    </tr>\n",
       "    <tr>\n",
       "      <th>1022</th>\n",
       "      <td>0</td>\n",
       "      <td>200</td>\n",
       "      <td>256</td>\n",
       "      <td>500</td>\n",
       "      <td>2</td>\n",
       "      <td>50</td>\n",
       "      <td>cpu</td>\n",
       "      <td>grow</td>\n",
       "      <td>0.4</td>\n",
       "      <td>0.1</td>\n",
       "      <td>...</td>\n",
       "      <td>1</td>\n",
       "      <td>[[10], [10], [10], [10], [10], [10], [10], [10...</td>\n",
       "      <td>2</td>\n",
       "      <td>True</td>\n",
       "      <td>1</td>\n",
       "      <td>True</td>\n",
       "      <td>parity</td>\n",
       "      <td>None</td>\n",
       "      <td>None</td>\n",
       "      <td>1262_grow_parity_</td>\n",
       "    </tr>\n",
       "    <tr>\n",
       "      <th>1023</th>\n",
       "      <td>0</td>\n",
       "      <td>200</td>\n",
       "      <td>256</td>\n",
       "      <td>500</td>\n",
       "      <td>2</td>\n",
       "      <td>50</td>\n",
       "      <td>cpu</td>\n",
       "      <td>grow</td>\n",
       "      <td>0.2</td>\n",
       "      <td>0.1</td>\n",
       "      <td>...</td>\n",
       "      <td>1</td>\n",
       "      <td>[[5], [5], [5], [5], [5], [5], [5], [5], [5], ...</td>\n",
       "      <td>2</td>\n",
       "      <td>True</td>\n",
       "      <td>1</td>\n",
       "      <td>True</td>\n",
       "      <td>parity</td>\n",
       "      <td>None</td>\n",
       "      <td>None</td>\n",
       "      <td>1070_grow_parity_</td>\n",
       "    </tr>\n",
       "  </tbody>\n",
       "</table>\n",
       "<p>1024 rows × 36 columns</p>\n",
       "</div>"
      ],
      "text/plain": [
       "      SEED  NUM_EPOCHS  BATCH_SIZE  TRAINING_STEPS  REPLICAS  TEST_STEPS  \\\n",
       "0        0         200         256             500         2          50   \n",
       "1        0         200         256             500         2          50   \n",
       "2        0         200         256             500         2          50   \n",
       "3        0         200         256             500         2          50   \n",
       "4        0         200         256             500         2          50   \n",
       "...    ...         ...         ...             ...       ...         ...   \n",
       "1019     0         200         256             500         2          50   \n",
       "1020     0         200         256             500         2          50   \n",
       "1021     0         200         256             500         2          50   \n",
       "1022     0         200         256             500         2          50   \n",
       "1023     0         200         256             500         2          50   \n",
       "\n",
       "     DEVICE CURRICULUM  LEARNING_RATE  MOMENTUM  ...  INPUT_SIZE  \\\n",
       "0       cpu       grow            0.2       0.1  ...           1   \n",
       "1       cpu       grow            0.4       0.1  ...           1   \n",
       "2       cpu       grow            0.2       0.1  ...           1   \n",
       "3       cpu       grow            0.2       0.1  ...           1   \n",
       "4       cpu       grow            0.4       0.1  ...           1   \n",
       "...     ...        ...            ...       ...  ...         ...   \n",
       "1019    cpu       grow            0.4       0.1  ...           1   \n",
       "1020    cpu       grow            0.2       0.1  ...           1   \n",
       "1021    cpu       grow            0.2       0.1  ...           1   \n",
       "1022    cpu       grow            0.4       0.1  ...           1   \n",
       "1023    cpu       grow            0.2       0.1  ...           1   \n",
       "\n",
       "                                               NET_SIZE  NUM_CLASSES  BIAS  \\\n",
       "0     [[10], [10], [10], [10], [10], [10], [10], [10...            2  True   \n",
       "1     [[5], [5], [5], [5], [5], [5], [5], [5], [5], ...            2  True   \n",
       "2     [[5], [5], [5], [5], [5], [5], [5], [5], [5], ...            2  True   \n",
       "3     [[5], [5], [5], [5], [5], [5], [5], [5], [5], ...            2  True   \n",
       "4     [[10], [10], [10], [10], [10], [10], [10], [10...            2  True   \n",
       "...                                                 ...          ...   ...   \n",
       "1019  [[5], [5], [5], [5], [5], [5], [5], [5], [5], ...            2  True   \n",
       "1020  [[5], [5], [5], [5], [5], [5], [5], [5], [5], ...            2  True   \n",
       "1021  [[10], [10], [10], [10], [10], [10], [10], [10...            2  True   \n",
       "1022  [[10], [10], [10], [10], [10], [10], [10], [10...            2  True   \n",
       "1023  [[5], [5], [5], [5], [5], [5], [5], [5], [5], ...            2  True   \n",
       "\n",
       "      NUM_READOUT_HEADS_PER_MOD  TRAIN_TAU    TASK  COMMIT_HASH  \\\n",
       "0                             1       True  parity         None   \n",
       "1                             1       True  parity         None   \n",
       "2                             1       True  parity         None   \n",
       "3                             1       True  parity         None   \n",
       "4                             1       True  parity         None   \n",
       "...                         ...        ...     ...          ...   \n",
       "1019                          1       True  parity         None   \n",
       "1020                          1       True  parity         None   \n",
       "1021                          1       True  parity         None   \n",
       "1022                          1       True  parity         None   \n",
       "1023                          1       True  parity         None   \n",
       "\n",
       "      FILES_MODIFIED             subdir  \n",
       "0               None   323_grow_parity_  \n",
       "1               None  1421_grow_parity_  \n",
       "2               None   800_grow_parity_  \n",
       "3               None  1801_grow_parity_  \n",
       "4               None  1734_grow_parity_  \n",
       "...              ...                ...  \n",
       "1019            None   418_grow_parity_  \n",
       "1020            None  1806_grow_parity_  \n",
       "1021            None  1903_grow_parity_  \n",
       "1022            None  1262_grow_parity_  \n",
       "1023            None  1070_grow_parity_  \n",
       "\n",
       "[1024 rows x 36 columns]"
      ]
     },
     "execution_count": 21,
     "metadata": {},
     "output_type": "execute_result"
    }
   ],
   "source": [
    "configs_df"
   ]
  },
  {
   "cell_type": "code",
   "execution_count": 22,
   "id": "6ae8b608-ca1c-42b9-8364-ffb35573486e",
   "metadata": {
    "tags": []
   },
   "outputs": [
    {
     "name": "stdout",
     "output_type": "stream",
     "text": [
      "DUPLICATE_INPUT_LAYERS [ True]\n",
      "DUPLICATE_W_HH [ True]\n",
      "DUPLICATE_W_FF_IN [ True]\n",
      "DUPLICATE_FC [ True]\n",
      "DUPLICATE_TAUS [False]\n"
     ]
    }
   ],
   "source": [
    "for c in configs_df.columns:\n",
    "    if c.startswith('DUPLICATE'):\n",
    "        print(c, configs_df[c].unique())"
   ]
  },
  {
   "cell_type": "code",
   "execution_count": 23,
   "id": "a7ce9741-dc11-4475-b0f1-e50835230341",
   "metadata": {
    "tags": []
   },
   "outputs": [],
   "source": [
    "if 'BIAS_NIOSE' in configs_df.columns:\n",
    "    configs_df['BIAS_NOISE'] = configs_df['BIAS_NIOSE']"
   ]
  },
  {
   "cell_type": "code",
   "execution_count": 24,
   "id": "02e6bd14-d424-4cde-9f96-272c6cb2bbeb",
   "metadata": {
    "tags": []
   },
   "outputs": [
    {
     "name": "stdout",
     "output_type": "stream",
     "text": [
      "LEARNING_RATE [0.2 0.4] \n",
      "\n",
      "GAMMA [0.1  0.95] \n",
      "\n",
      "WEIGHT_NOISE [0.3  0.05] \n",
      "\n",
      "BIAS_NOISE [0.3  0.05] \n",
      "\n",
      "TAUS_NOISE [0.3  0.05] \n",
      "\n",
      "NET_SIZE ['10' '5'] \n",
      "\n",
      "subdir ['323_grow_parity_' '1421_grow_parity_' '800_grow_parity_' ...\n",
      " '1903_grow_parity_' '1262_grow_parity_' '1070_grow_parity_'] \n",
      "\n"
     ]
    }
   ],
   "source": [
    "multi_value_columns = []\n",
    "for c in configs_df.columns:\n",
    "    if isinstance(configs_df[c].iloc[0], list):\n",
    "        configs_df[c] = configs_df[c].apply(lambda x: '_'.join(list(set([str(xi) for sublist in x for xi in sublist]))))\n",
    "        \n",
    "    if len(configs_df[c].unique()) > 1:\n",
    "        print(c, configs_df[c].unique(), '\\n')\n",
    "        multi_value_columns.append(c)"
   ]
  },
  {
   "cell_type": "code",
   "execution_count": 25,
   "id": "46e3eb23-3a81-4d87-8370-eef628ec423d",
   "metadata": {
    "tags": []
   },
   "outputs": [],
   "source": [
    "df = pd.merge(configs_df, stats_df, on='subdir')"
   ]
  },
  {
   "cell_type": "code",
   "execution_count": 26,
   "id": "2d13b7a6-98c0-4cd9-b87c-2151244957e3",
   "metadata": {
    "tags": []
   },
   "outputs": [],
   "source": [
    "df['epoch_index'] = df.epochs.apply(lambda x: list(range(x + 1)))\n",
    "df.sort_values(['LEARNING_RATE', 'MOMENTUM', 'GAMMA', 'WEIGHT_NOISE', 'NET_SIZE'], inplace=True)"
   ]
  },
  {
   "cell_type": "code",
   "execution_count": 27,
   "id": "2b01dde3-b83a-494b-99c8-c15cddea1403",
   "metadata": {
    "tags": []
   },
   "outputs": [
    {
     "data": {
      "text/plain": [
       "29      [0, 1, 2, 3, 4, 5, 6, 7, 8, 9, 10, 11, 12, 13,...\n",
       "55      [0, 1, 2, 3, 4, 5, 6, 7, 8, 9, 10, 11, 12, 13,...\n",
       "108     [0, 1, 2, 3, 4, 5, 6, 7, 8, 9, 10, 11, 12, 13,...\n",
       "136     [0, 1, 2, 3, 4, 5, 6, 7, 8, 9, 10, 11, 12, 13,...\n",
       "142     [0, 1, 2, 3, 4, 5, 6, 7, 8, 9, 10, 11, 12, 13,...\n",
       "                              ...                        \n",
       "968     [0, 1, 2, 3, 4, 5, 6, 7, 8, 9, 10, 11, 12, 13,...\n",
       "989     [0, 1, 2, 3, 4, 5, 6, 7, 8, 9, 10, 11, 12, 13,...\n",
       "997     [0, 1, 2, 3, 4, 5, 6, 7, 8, 9, 10, 11, 12, 13,...\n",
       "1000    [0, 1, 2, 3, 4, 5, 6, 7, 8, 9, 10, 11, 12, 13,...\n",
       "1018    [0, 1, 2, 3, 4, 5, 6, 7, 8, 9, 10, 11, 12, 13,...\n",
       "Name: epoch_index, Length: 1024, dtype: object"
      ]
     },
     "execution_count": 27,
     "metadata": {},
     "output_type": "execute_result"
    }
   ],
   "source": [
    "df.epoch_index"
   ]
  },
  {
   "cell_type": "code",
   "execution_count": 53,
   "id": "16f84bd9-e379-43cb-b5a9-723201812570",
   "metadata": {
    "tags": []
   },
   "outputs": [],
   "source": [
    "df['delta_time'] = df['time'].apply(lambda l: [0] + [l[i] - l[i-1] for i in range(1, len(l))])\n"
   ]
  },
  {
   "cell_type": "code",
   "execution_count": null,
   "id": "a2f28502-0b7f-4e42-87f7-46a5c031a0e2",
   "metadata": {},
   "outputs": [],
   "source": []
  },
  {
   "cell_type": "code",
   "execution_count": 56,
   "id": "9c2914b1-d1cf-4c42-bfba-549ebb04efd8",
   "metadata": {
    "tags": []
   },
   "outputs": [
    {
     "data": {
      "application/vnd.jupyter.widget-view+json": {
       "model_id": "7d5eaa9530a543d9bebb6d8c7fa4123c",
       "version_major": 2,
       "version_minor": 0
      },
      "text/plain": [
       "interactive(children=(Dropdown(description='LEARNING_RATE:', options=('All', 0.2, 0.4), value='All'), Dropdown…"
      ]
     },
     "metadata": {},
     "output_type": "display_data"
    }
   ],
   "source": [
    "# Import necessary libraries\n",
    "import pandas as pd\n",
    "import matplotlib.pyplot as plt\n",
    "from ipywidgets import interactive, Dropdown, VBox, HBox\n",
    "from matplotlib.lines import Line2D\n",
    "import numpy as np\n",
    "\n",
    "# # Create example DataFrame\n",
    "# df = pd.DataFrame({\n",
    "#     'ID': [1, 2, 3, 4, 5],\n",
    "#     'Category': ['A', 'B', 'A', 'C', 'B'],\n",
    "#     'Subcategory': ['X', 'Y', 'X', 'Z', 'Y'],\n",
    "#     'Values': [np.random.rand(5).tolist() for _ in range(5)]\n",
    "# })\n",
    "\n",
    "# Function to create dropdown widgets for specified columns\n",
    "def create_dropdowns(columns):\n",
    "    dropdowns = {}\n",
    "    for col in columns:\n",
    "        dropdown = Dropdown(options=['All'] + sorted(df[col].unique()), description=col+':')\n",
    "        dropdowns[col] = dropdown\n",
    "    return dropdowns\n",
    "\n",
    "# Function to plot data based on dropdown selections\n",
    "def plot_data(**kwargs):\n",
    "    x_col = kwargs.pop('x_col')\n",
    "    y_col = kwargs.pop('y_col')\n",
    "    color_by = kwargs.pop('Color Lines By')\n",
    "    filtered_df = df.copy()\n",
    "    filters = []\n",
    "    for col, value in kwargs.items():\n",
    "        if value != 'All':\n",
    "            filtered_df = filtered_df[filtered_df[col] == value]\n",
    "            filters.append(f'{col}={value}')\n",
    "    \n",
    "    print(\"Number of items left: \", len(filtered_df))\n",
    "    if not filtered_df.empty:\n",
    "        fig, ax = plt.subplots(figsize=(10, 6))\n",
    "        plotted_with_labels = False\n",
    "        if color_by == 'None':\n",
    "            # Plot without differentiating colors\n",
    "            for _, row in filtered_df.iterrows():\n",
    "                ax.plot(row[x_col], row[y_col] , marker='o', linestyle='-')\n",
    "        else:\n",
    "            unique_values = sorted(filtered_df[color_by].unique())\n",
    "            norm = plt.Normalize(0, len(unique_values)-1)\n",
    "            scalar_map = plt.cm.ScalarMappable(norm=norm, cmap='viridis')\n",
    "            colors = plt.cm.viridis(np.linspace(0, 1, len(unique_values)))\n",
    "            plots = []\n",
    "            for value, color in zip(unique_values, colors):\n",
    "                for j, row in filtered_df.iterrows():\n",
    "                    color_value = f'{value}' if j == 0 else '_nolegend_'\n",
    "                    # print(value, color_value)\n",
    "                    ax.plot(row[x_col], row[y_col], marker='o', linestyle='-', color=color, label=color_value, alpha=0.3)\n",
    "                    # plots.append(p)\n",
    "                    plotted_with_labels = True\n",
    "        if plotted_with_labels:\n",
    "            legend_elements = [Line2D([0], [0], color=scalar_map.to_rgba(i), lw=2, label=category) for i, category in enumerate(unique_values)]\n",
    "            ax.legend(title=color_by, handles=legend_elements)\n",
    "        ax.set_title(f'Filters: ' + ';'.join(filters))\n",
    "        \n",
    "        ax.set_xlabel(x_col)\n",
    "        ax.set_ylabel(y_col)\n",
    "        ax.grid(True)\n",
    "        ax.set_yscale('log')\n",
    "        \n",
    "        x_max = max(df[x_col].apply(max))\n",
    "        y_max = max(df[y_col].apply(max))\n",
    "        plt.xlim([0, x_max])\n",
    "        plt.ylim([1, y_max + 1])\n",
    "        fig.show()\n",
    "            # print(plots)\n",
    "\n",
    "        \n",
    "# Columns to use for selectors\n",
    "selector_columns = multi_value_columns\n",
    "color_by_columns = multi_value_columns\n",
    "\n",
    "x_cols = ['epoch_index', 'time']\n",
    "y_cols = ['len_accuracies', 'delta_time']\n",
    "\n",
    "# Create dropdown widgets\n",
    "dropdowns = {col: Dropdown(options=['All'] + sorted(df[col].unique()), description=col+':') for col in selector_columns}\n",
    "\n",
    "color_by_dropdown = Dropdown(options=['None'] + color_by_columns, description='Color Lines By:')\n",
    "\n",
    "x_cols = Dropdown(options=x_cols, description='x_col')\n",
    "y_cols = Dropdown(options=y_cols, description='y_col')\n",
    "\n",
    "all_widgets = {**dropdowns, **{'Color Lines By': color_by_dropdown}, **{'x_col': x_cols, 'y_col': y_cols}}\n",
    "# Create interactive widget\n",
    "interactive_plot = interactive(plot_data, **all_widgets)\n",
    "\n",
    "# Display widgets and interactive plot\n",
    "# display(VBox([HBox([v for v in dropdowns.values()]), color_by_dropdown]), interactive_plot)\n",
    "display(interactive_plot)\n"
   ]
  },
  {
   "cell_type": "code",
   "execution_count": null,
   "id": "f37670e5-ac5f-4054-b7bc-4c529c9ba3f7",
   "metadata": {
    "tags": []
   },
   "outputs": [],
   "source": []
  },
  {
   "cell_type": "code",
   "execution_count": 29,
   "id": "956f86ba-855c-4086-b7eb-ddd0702f5198",
   "metadata": {
    "tags": []
   },
   "outputs": [],
   "source": [
    "def plot_average_trend(column, epoch):\n",
    "    df[f'len_accuracies_epoch={epoch}'] = df['len_accuracies'].apply(lambda x: x[epoch] if len(x) > epoch else 0)\n",
    "    result = df.groupby(column)[f'len_accuracies_epoch={epoch}'].agg(('mean', 'std'))\n",
    "    x = list(result.index)\n",
    "    y = result['mean'].values\n",
    "    yerr = result['std'].values\n",
    "\n",
    "    plt.errorbar(x, y, yerr)\n",
    "    plt.xlabel(f'{column}')\n",
    "    plt.ylabel('average N reached')"
   ]
  },
  {
   "cell_type": "code",
   "execution_count": 30,
   "id": "21f72224-2e33-45ce-a61a-6a33ca1954c1",
   "metadata": {
    "tags": []
   },
   "outputs": [
    {
     "data": {
      "image/png": "[encoded data removed]",
      "text/plain": [
       "<Figure size 640x480 with 1 Axes>"
      ]
     },
     "metadata": {},
     "output_type": "display_data"
    }
   ],
   "source": [
    "plot_average_trend('NET_SIZE', 25)"
   ]
  },
  {
   "cell_type": "code",
   "execution_count": 31,
   "id": "5c18cc5b-e45f-4718-9446-1c7668cfe50b",
   "metadata": {
    "tags": []
   },
   "outputs": [
    {
     "data": {
      "image/png": "[encoded data removed]",
      "text/plain": [
       "<Figure size 640x480 with 1 Axes>"
      ]
     },
     "metadata": {},
     "output_type": "display_data"
    }
   ],
   "source": [
    "plot_average_trend(column='GAMMA', epoch=25)\n"
   ]
  },
  {
   "cell_type": "code",
   "execution_count": 32,
   "id": "422b3dd7-04a1-4ce9-ba3e-6dfb124602dd",
   "metadata": {
    "tags": []
   },
   "outputs": [],
   "source": [
    "# import re\n",
    "\n",
    "# pattern = r'N(\\d*)'\n",
    "# match = re.search(pattern, 'alskdfj_1_iN234')\n",
    "# match.group(1).isdigit()\n",
    "\n",
    "# match = re.search(pattern, 'alskdfj_1_iNinit')\n",
    "# match.group(1).isdigit()\n",
    "\n",
    "\n",
    "\n",
    "# match = re.search(pattern, 'alskdf')\n",
    "# match\n",
    "# print(match)"
   ]
  },
  {
   "cell_type": "code",
   "execution_count": 33,
   "id": "109c571d-db82-43b2-8bf4-1a4859e4fa53",
   "metadata": {
    "tags": []
   },
   "outputs": [],
   "source": [
    "import re\n",
    "\n",
    "max_vals = {}\n",
    "pattern = r'N(\\d*)'\n",
    "for k, l in paths.items():\n",
    "    # print(l)\n",
    "    g = [re.search(pattern, v) for v in l]\n",
    "    max_val = max([int(gg.group(1)) for gg in g if gg is not None])\n",
    "    max_vals[k] = max_val"
   ]
  },
  {
   "cell_type": "code",
   "execution_count": 34,
   "id": "842e3ef1-959a-4c7f-b751-f23246e3cd45",
   "metadata": {
    "tags": []
   },
   "outputs": [
    {
     "data": {
      "text/plain": [
       "(array([ 16.,   0.,  53., 476., 304.,  59.,  60.,  14.,   9.,  33.]),\n",
       " array([13., 15., 17., 19., 21., 23., 25., 27., 29., 31., 33.]),\n",
       " <BarContainer object of 10 artists>)"
      ]
     },
     "execution_count": 34,
     "metadata": {},
     "output_type": "execute_result"
    },
    {
     "data": {
      "image/png": "[encoded data removed]",
      "text/plain": [
       "<Figure size 640x480 with 1 Axes>"
      ]
     },
     "metadata": {},
     "output_type": "display_data"
    }
   ],
   "source": [
    "plt.hist(max_vals.values())"
   ]
  },
  {
   "cell_type": "code",
   "execution_count": 67,
   "id": "b551223a-2e55-4cfc-9d9c-2286c0625eda",
   "metadata": {
    "tags": []
   },
   "outputs": [],
   "source": [
    "paths_sorted = sorted(max_vals.items(), key=lambda x: x[1], reverse=True)"
   ]
  },
  {
   "cell_type": "code",
   "execution_count": 68,
   "id": "e143bb9f-730d-440f-9cb4-0522c9db26aa",
   "metadata": {
    "tags": []
   },
   "outputs": [
    {
     "data": {
      "text/plain": [
       "('128_grow_parity_', 33)"
      ]
     },
     "execution_count": 68,
     "metadata": {},
     "output_type": "execute_result"
    }
   ],
   "source": [
    "paths_sorted[0]"
   ]
  },
  {
   "cell_type": "code",
   "execution_count": 69,
   "id": "f4a97d8b-7b70-41b1-a3c0-33010e898a35",
   "metadata": {},
   "outputs": [],
   "source": [
    "reload(compute_taus_growing)\n",
    "from src.models import RNN_hier\n",
    "reload(RNN_hier)\n",
    "full_path = './trained_models/SLURM_ARRAY_JOB_ID=7681088_Mar-11-2024-16_09_54/128_grow_parity_/rnn_1_N33'\n",
    "rnn, configs = compute_taus_growing.load_and_hydrate_hierarchical_model(full_path)"
   ]
  },
  {
   "cell_type": "code",
   "execution_count": 59,
   "id": "1ac25376-7923-4e50-88ec-efd9ee4e9dcf",
   "metadata": {
    "collapsed": true,
    "jupyter": {
     "outputs_hidden": true
    },
    "tags": []
   },
   "outputs": [
    {
     "data": {
      "text/plain": [
       "RNN_Hierarchical(\n",
       "  (afunc): LeakyReLU(negative_slope=0.01)\n",
       "  (parameter_dict): ParameterDict(\n",
       "      (0): Parameter containing: [torch.FloatTensor of size 5]\n",
       "      (1): Parameter containing: [torch.FloatTensor of size 5]\n",
       "      (10): Parameter containing: [torch.FloatTensor of size 5]\n",
       "      (11): Parameter containing: [torch.FloatTensor of size 5]\n",
       "      (12): Parameter containing: [torch.FloatTensor of size 5]\n",
       "      (13): Parameter containing: [torch.FloatTensor of size 5]\n",
       "      (14): Parameter containing: [torch.FloatTensor of size 5]\n",
       "      (15): Parameter containing: [torch.FloatTensor of size 5]\n",
       "      (16): Parameter containing: [torch.FloatTensor of size 5]\n",
       "      (17): Parameter containing: [torch.FloatTensor of size 5]\n",
       "      (18): Parameter containing: [torch.FloatTensor of size 5]\n",
       "      (19): Parameter containing: [torch.FloatTensor of size 5]\n",
       "      (2): Parameter containing: [torch.FloatTensor of size 5]\n",
       "      (20): Parameter containing: [torch.FloatTensor of size 5]\n",
       "      (21): Parameter containing: [torch.FloatTensor of size 5]\n",
       "      (22): Parameter containing: [torch.FloatTensor of size 5]\n",
       "      (23): Parameter containing: [torch.FloatTensor of size 5]\n",
       "      (24): Parameter containing: [torch.FloatTensor of size 5]\n",
       "      (25): Parameter containing: [torch.FloatTensor of size 5]\n",
       "      (26): Parameter containing: [torch.FloatTensor of size 5]\n",
       "      (27): Parameter containing: [torch.FloatTensor of size 5]\n",
       "      (28): Parameter containing: [torch.FloatTensor of size 5]\n",
       "      (29): Parameter containing: [torch.FloatTensor of size 5]\n",
       "      (3): Parameter containing: [torch.FloatTensor of size 5]\n",
       "      (30): Parameter containing: [torch.FloatTensor of size 5]\n",
       "      (31): Parameter containing: [torch.FloatTensor of size 5]\n",
       "      (32): Parameter containing: [torch.FloatTensor of size 5]\n",
       "      (33): Parameter containing: [torch.FloatTensor of size 5]\n",
       "      (34): Parameter containing: [torch.FloatTensor of size 5]\n",
       "      (35): Parameter containing: [torch.FloatTensor of size 5]\n",
       "      (36): Parameter containing: [torch.FloatTensor of size 5]\n",
       "      (37): Parameter containing: [torch.FloatTensor of size 5]\n",
       "      (38): Parameter containing: [torch.FloatTensor of size 5]\n",
       "      (39): Parameter containing: [torch.FloatTensor of size 5]\n",
       "      (4): Parameter containing: [torch.FloatTensor of size 5]\n",
       "      (40): Parameter containing: [torch.FloatTensor of size 5]\n",
       "      (41): Parameter containing: [torch.FloatTensor of size 5]\n",
       "      (42): Parameter containing: [torch.FloatTensor of size 5]\n",
       "      (43): Parameter containing: [torch.FloatTensor of size 5]\n",
       "      (44): Parameter containing: [torch.FloatTensor of size 5]\n",
       "      (45): Parameter containing: [torch.FloatTensor of size 5]\n",
       "      (46): Parameter containing: [torch.FloatTensor of size 5]\n",
       "      (47): Parameter containing: [torch.FloatTensor of size 5]\n",
       "      (48): Parameter containing: [torch.FloatTensor of size 5]\n",
       "      (49): Parameter containing: [torch.FloatTensor of size 5]\n",
       "      (5): Parameter containing: [torch.FloatTensor of size 5]\n",
       "      (6): Parameter containing: [torch.FloatTensor of size 5]\n",
       "      (7): Parameter containing: [torch.FloatTensor of size 5]\n",
       "      (8): Parameter containing: [torch.FloatTensor of size 5]\n",
       "      (9): Parameter containing: [torch.FloatTensor of size 5]\n",
       "  )\n",
       "  (non_trained_params): ParameterList(  (0): Parameter containing: [torch.int64 of size 1])\n",
       "  (module_dict): ModuleDict(\n",
       "    (0:input_layers): Linear(in_features=1, out_features=5, bias=True)\n",
       "    (0:w_hh): Linear(in_features=5, out_features=5, bias=True)\n",
       "    (0:fc): Linear(in_features=5, out_features=2, bias=True)\n",
       "    (1:input_layers): Linear(in_features=1, out_features=5, bias=True)\n",
       "    (1:w_hh): Linear(in_features=5, out_features=5, bias=True)\n",
       "    (1:w_ff_in): Linear(in_features=5, out_features=5, bias=True)\n",
       "    (1:fc): Linear(in_features=5, out_features=2, bias=True)\n",
       "    (2:input_layers): Linear(in_features=1, out_features=5, bias=True)\n",
       "    (2:w_hh): Linear(in_features=5, out_features=5, bias=True)\n",
       "    (2:w_ff_in): Linear(in_features=5, out_features=5, bias=True)\n",
       "    (2:fc): Linear(in_features=5, out_features=2, bias=True)\n",
       "    (3:input_layers): Linear(in_features=1, out_features=5, bias=True)\n",
       "    (3:w_hh): Linear(in_features=5, out_features=5, bias=True)\n",
       "    (3:w_ff_in): Linear(in_features=5, out_features=5, bias=True)\n",
       "    (3:fc): Linear(in_features=5, out_features=2, bias=True)\n",
       "    (4:input_layers): Linear(in_features=1, out_features=5, bias=True)\n",
       "    (4:w_hh): Linear(in_features=5, out_features=5, bias=True)\n",
       "    (4:w_ff_in): Linear(in_features=5, out_features=5, bias=True)\n",
       "    (4:fc): Linear(in_features=5, out_features=2, bias=True)\n",
       "    (5:input_layers): Linear(in_features=1, out_features=5, bias=True)\n",
       "    (5:w_hh): Linear(in_features=5, out_features=5, bias=True)\n",
       "    (5:w_ff_in): Linear(in_features=5, out_features=5, bias=True)\n",
       "    (5:fc): Linear(in_features=5, out_features=2, bias=True)\n",
       "    (6:input_layers): Linear(in_features=1, out_features=5, bias=True)\n",
       "    (6:w_hh): Linear(in_features=5, out_features=5, bias=True)\n",
       "    (6:w_ff_in): Linear(in_features=5, out_features=5, bias=True)\n",
       "    (6:fc): Linear(in_features=5, out_features=2, bias=True)\n",
       "    (7:input_layers): Linear(in_features=1, out_features=5, bias=True)\n",
       "    (7:w_hh): Linear(in_features=5, out_features=5, bias=True)\n",
       "    (7:w_ff_in): Linear(in_features=5, out_features=5, bias=True)\n",
       "    (7:fc): Linear(in_features=5, out_features=2, bias=True)\n",
       "    (8:input_layers): Linear(in_features=1, out_features=5, bias=True)\n",
       "    (8:w_hh): Linear(in_features=5, out_features=5, bias=True)\n",
       "    (8:w_ff_in): Linear(in_features=5, out_features=5, bias=True)\n",
       "    (8:fc): Linear(in_features=5, out_features=2, bias=True)\n",
       "    (9:input_layers): Linear(in_features=1, out_features=5, bias=True)\n",
       "    (9:w_hh): Linear(in_features=5, out_features=5, bias=True)\n",
       "    (9:w_ff_in): Linear(in_features=5, out_features=5, bias=True)\n",
       "    (9:fc): Linear(in_features=5, out_features=2, bias=True)\n",
       "    (10:input_layers): Linear(in_features=1, out_features=5, bias=True)\n",
       "    (10:w_hh): Linear(in_features=5, out_features=5, bias=True)\n",
       "    (10:w_ff_in): Linear(in_features=5, out_features=5, bias=True)\n",
       "    (10:fc): Linear(in_features=5, out_features=2, bias=True)\n",
       "    (11:input_layers): Linear(in_features=1, out_features=5, bias=True)\n",
       "    (11:w_hh): Linear(in_features=5, out_features=5, bias=True)\n",
       "    (11:w_ff_in): Linear(in_features=5, out_features=5, bias=True)\n",
       "    (11:fc): Linear(in_features=5, out_features=2, bias=True)\n",
       "    (12:input_layers): Linear(in_features=1, out_features=5, bias=True)\n",
       "    (12:w_hh): Linear(in_features=5, out_features=5, bias=True)\n",
       "    (12:w_ff_in): Linear(in_features=5, out_features=5, bias=True)\n",
       "    (12:fc): Linear(in_features=5, out_features=2, bias=True)\n",
       "    (13:input_layers): Linear(in_features=1, out_features=5, bias=True)\n",
       "    (13:w_hh): Linear(in_features=5, out_features=5, bias=True)\n",
       "    (13:w_ff_in): Linear(in_features=5, out_features=5, bias=True)\n",
       "    (13:fc): Linear(in_features=5, out_features=2, bias=True)\n",
       "    (14:input_layers): Linear(in_features=1, out_features=5, bias=True)\n",
       "    (14:w_hh): Linear(in_features=5, out_features=5, bias=True)\n",
       "    (14:w_ff_in): Linear(in_features=5, out_features=5, bias=True)\n",
       "    (14:fc): Linear(in_features=5, out_features=2, bias=True)\n",
       "    (15:input_layers): Linear(in_features=1, out_features=5, bias=True)\n",
       "    (15:w_hh): Linear(in_features=5, out_features=5, bias=True)\n",
       "    (15:w_ff_in): Linear(in_features=5, out_features=5, bias=True)\n",
       "    (15:fc): Linear(in_features=5, out_features=2, bias=True)\n",
       "    (16:input_layers): Linear(in_features=1, out_features=5, bias=True)\n",
       "    (16:w_hh): Linear(in_features=5, out_features=5, bias=True)\n",
       "    (16:w_ff_in): Linear(in_features=5, out_features=5, bias=True)\n",
       "    (16:fc): Linear(in_features=5, out_features=2, bias=True)\n",
       "    (17:input_layers): Linear(in_features=1, out_features=5, bias=True)\n",
       "    (17:w_hh): Linear(in_features=5, out_features=5, bias=True)\n",
       "    (17:w_ff_in): Linear(in_features=5, out_features=5, bias=True)\n",
       "    (17:fc): Linear(in_features=5, out_features=2, bias=True)\n",
       "    (18:input_layers): Linear(in_features=1, out_features=5, bias=True)\n",
       "    (18:w_hh): Linear(in_features=5, out_features=5, bias=True)\n",
       "    (18:w_ff_in): Linear(in_features=5, out_features=5, bias=True)\n",
       "    (18:fc): Linear(in_features=5, out_features=2, bias=True)\n",
       "    (19:input_layers): Linear(in_features=1, out_features=5, bias=True)\n",
       "    (19:w_hh): Linear(in_features=5, out_features=5, bias=True)\n",
       "    (19:w_ff_in): Linear(in_features=5, out_features=5, bias=True)\n",
       "    (19:fc): Linear(in_features=5, out_features=2, bias=True)\n",
       "    (20:input_layers): Linear(in_features=1, out_features=5, bias=True)\n",
       "    (20:w_hh): Linear(in_features=5, out_features=5, bias=True)\n",
       "    (20:w_ff_in): Linear(in_features=5, out_features=5, bias=True)\n",
       "    (20:fc): Linear(in_features=5, out_features=2, bias=True)\n",
       "    (21:input_layers): Linear(in_features=1, out_features=5, bias=True)\n",
       "    (21:w_hh): Linear(in_features=5, out_features=5, bias=True)\n",
       "    (21:w_ff_in): Linear(in_features=5, out_features=5, bias=True)\n",
       "    (21:fc): Linear(in_features=5, out_features=2, bias=True)\n",
       "    (22:input_layers): Linear(in_features=1, out_features=5, bias=True)\n",
       "    (22:w_hh): Linear(in_features=5, out_features=5, bias=True)\n",
       "    (22:w_ff_in): Linear(in_features=5, out_features=5, bias=True)\n",
       "    (22:fc): Linear(in_features=5, out_features=2, bias=True)\n",
       "    (23:input_layers): Linear(in_features=1, out_features=5, bias=True)\n",
       "    (23:w_hh): Linear(in_features=5, out_features=5, bias=True)\n",
       "    (23:w_ff_in): Linear(in_features=5, out_features=5, bias=True)\n",
       "    (23:fc): Linear(in_features=5, out_features=2, bias=True)\n",
       "    (24:input_layers): Linear(in_features=1, out_features=5, bias=True)\n",
       "    (24:w_hh): Linear(in_features=5, out_features=5, bias=True)\n",
       "    (24:w_ff_in): Linear(in_features=5, out_features=5, bias=True)\n",
       "    (24:fc): Linear(in_features=5, out_features=2, bias=True)\n",
       "    (25:input_layers): Linear(in_features=1, out_features=5, bias=True)\n",
       "    (25:w_hh): Linear(in_features=5, out_features=5, bias=True)\n",
       "    (25:w_ff_in): Linear(in_features=5, out_features=5, bias=True)\n",
       "    (25:fc): Linear(in_features=5, out_features=2, bias=True)\n",
       "    (26:input_layers): Linear(in_features=1, out_features=5, bias=True)\n",
       "    (26:w_hh): Linear(in_features=5, out_features=5, bias=True)\n",
       "    (26:w_ff_in): Linear(in_features=5, out_features=5, bias=True)\n",
       "    (26:fc): Linear(in_features=5, out_features=2, bias=True)\n",
       "    (27:input_layers): Linear(in_features=1, out_features=5, bias=True)\n",
       "    (27:w_hh): Linear(in_features=5, out_features=5, bias=True)\n",
       "    (27:w_ff_in): Linear(in_features=5, out_features=5, bias=True)\n",
       "    (27:fc): Linear(in_features=5, out_features=2, bias=True)\n",
       "    (28:input_layers): Linear(in_features=1, out_features=5, bias=True)\n",
       "    (28:w_hh): Linear(in_features=5, out_features=5, bias=True)\n",
       "    (28:w_ff_in): Linear(in_features=5, out_features=5, bias=True)\n",
       "    (28:fc): Linear(in_features=5, out_features=2, bias=True)\n",
       "    (29:input_layers): Linear(in_features=1, out_features=5, bias=True)\n",
       "    (29:w_hh): Linear(in_features=5, out_features=5, bias=True)\n",
       "    (29:w_ff_in): Linear(in_features=5, out_features=5, bias=True)\n",
       "    (29:fc): Linear(in_features=5, out_features=2, bias=True)\n",
       "    (30:input_layers): Linear(in_features=1, out_features=5, bias=True)\n",
       "    (30:w_hh): Linear(in_features=5, out_features=5, bias=True)\n",
       "    (30:w_ff_in): Linear(in_features=5, out_features=5, bias=True)\n",
       "    (30:fc): Linear(in_features=5, out_features=2, bias=True)\n",
       "    (31:input_layers): Linear(in_features=1, out_features=5, bias=True)\n",
       "    (31:w_hh): Linear(in_features=5, out_features=5, bias=True)\n",
       "    (31:w_ff_in): Linear(in_features=5, out_features=5, bias=True)\n",
       "    (31:fc): Linear(in_features=5, out_features=2, bias=True)\n",
       "    (32:input_layers): Linear(in_features=1, out_features=5, bias=True)\n",
       "    (32:w_hh): Linear(in_features=5, out_features=5, bias=True)\n",
       "    (32:w_ff_in): Linear(in_features=5, out_features=5, bias=True)\n",
       "    (32:fc): Linear(in_features=5, out_features=2, bias=True)\n",
       "    (33:input_layers): Linear(in_features=1, out_features=5, bias=True)\n",
       "    (33:w_hh): Linear(in_features=5, out_features=5, bias=True)\n",
       "    (33:w_ff_in): Linear(in_features=5, out_features=5, bias=True)\n",
       "    (33:fc): Linear(in_features=5, out_features=2, bias=True)\n",
       "    (34:input_layers): Linear(in_features=1, out_features=5, bias=True)\n",
       "    (34:w_hh): Linear(in_features=5, out_features=5, bias=True)\n",
       "    (34:w_ff_in): Linear(in_features=5, out_features=5, bias=True)\n",
       "    (34:fc): Linear(in_features=5, out_features=2, bias=True)\n",
       "    (35:input_layers): Linear(in_features=1, out_features=5, bias=True)\n",
       "    (35:w_hh): Linear(in_features=5, out_features=5, bias=True)\n",
       "    (35:w_ff_in): Linear(in_features=5, out_features=5, bias=True)\n",
       "    (35:fc): Linear(in_features=5, out_features=2, bias=True)\n",
       "    (36:input_layers): Linear(in_features=1, out_features=5, bias=True)\n",
       "    (36:w_hh): Linear(in_features=5, out_features=5, bias=True)\n",
       "    (36:w_ff_in): Linear(in_features=5, out_features=5, bias=True)\n",
       "    (36:fc): Linear(in_features=5, out_features=2, bias=True)\n",
       "    (37:input_layers): Linear(in_features=1, out_features=5, bias=True)\n",
       "    (37:w_hh): Linear(in_features=5, out_features=5, bias=True)\n",
       "    (37:w_ff_in): Linear(in_features=5, out_features=5, bias=True)\n",
       "    (37:fc): Linear(in_features=5, out_features=2, bias=True)\n",
       "    (38:input_layers): Linear(in_features=1, out_features=5, bias=True)\n",
       "    (38:w_hh): Linear(in_features=5, out_features=5, bias=True)\n",
       "    (38:w_ff_in): Linear(in_features=5, out_features=5, bias=True)\n",
       "    (38:fc): Linear(in_features=5, out_features=2, bias=True)\n",
       "    (39:input_layers): Linear(in_features=1, out_features=5, bias=True)\n",
       "    (39:w_hh): Linear(in_features=5, out_features=5, bias=True)\n",
       "    (39:w_ff_in): Linear(in_features=5, out_features=5, bias=True)\n",
       "    (39:fc): Linear(in_features=5, out_features=2, bias=True)\n",
       "    (40:input_layers): Linear(in_features=1, out_features=5, bias=True)\n",
       "    (40:w_hh): Linear(in_features=5, out_features=5, bias=True)\n",
       "    (40:w_ff_in): Linear(in_features=5, out_features=5, bias=True)\n",
       "    (40:fc): Linear(in_features=5, out_features=2, bias=True)\n",
       "    (41:input_layers): Linear(in_features=1, out_features=5, bias=True)\n",
       "    (41:w_hh): Linear(in_features=5, out_features=5, bias=True)\n",
       "    (41:w_ff_in): Linear(in_features=5, out_features=5, bias=True)\n",
       "    (41:fc): Linear(in_features=5, out_features=2, bias=True)\n",
       "    (42:input_layers): Linear(in_features=1, out_features=5, bias=True)\n",
       "    (42:w_hh): Linear(in_features=5, out_features=5, bias=True)\n",
       "    (42:w_ff_in): Linear(in_features=5, out_features=5, bias=True)\n",
       "    (42:fc): Linear(in_features=5, out_features=2, bias=True)\n",
       "    (43:input_layers): Linear(in_features=1, out_features=5, bias=True)\n",
       "    (43:w_hh): Linear(in_features=5, out_features=5, bias=True)\n",
       "    (43:w_ff_in): Linear(in_features=5, out_features=5, bias=True)\n",
       "    (43:fc): Linear(in_features=5, out_features=2, bias=True)\n",
       "    (44:input_layers): Linear(in_features=1, out_features=5, bias=True)\n",
       "    (44:w_hh): Linear(in_features=5, out_features=5, bias=True)\n",
       "    (44:w_ff_in): Linear(in_features=5, out_features=5, bias=True)\n",
       "    (44:fc): Linear(in_features=5, out_features=2, bias=True)\n",
       "    (45:input_layers): Linear(in_features=1, out_features=5, bias=True)\n",
       "    (45:w_hh): Linear(in_features=5, out_features=5, bias=True)\n",
       "    (45:w_ff_in): Linear(in_features=5, out_features=5, bias=True)\n",
       "    (45:fc): Linear(in_features=5, out_features=2, bias=True)\n",
       "    (46:input_layers): Linear(in_features=1, out_features=5, bias=True)\n",
       "    (46:w_hh): Linear(in_features=5, out_features=5, bias=True)\n",
       "    (46:w_ff_in): Linear(in_features=5, out_features=5, bias=True)\n",
       "    (46:fc): Linear(in_features=5, out_features=2, bias=True)\n",
       "    (47:input_layers): Linear(in_features=1, out_features=5, bias=True)\n",
       "    (47:w_hh): Linear(in_features=5, out_features=5, bias=True)\n",
       "    (47:w_ff_in): Linear(in_features=5, out_features=5, bias=True)\n",
       "    (47:fc): Linear(in_features=5, out_features=2, bias=True)\n",
       "    (48:input_layers): Linear(in_features=1, out_features=5, bias=True)\n",
       "    (48:w_hh): Linear(in_features=5, out_features=5, bias=True)\n",
       "    (48:w_ff_in): Linear(in_features=5, out_features=5, bias=True)\n",
       "    (48:fc): Linear(in_features=5, out_features=2, bias=True)\n",
       "    (49:input_layers): Linear(in_features=1, out_features=5, bias=True)\n",
       "    (49:w_hh): Linear(in_features=5, out_features=5, bias=True)\n",
       "    (49:w_ff_in): Linear(in_features=5, out_features=5, bias=True)\n",
       "    (49:fc): Linear(in_features=5, out_features=2, bias=True)\n",
       "  )\n",
       ")"
      ]
     },
     "execution_count": 59,
     "metadata": {},
     "output_type": "execute_result"
    }
   ],
   "source": [
    "rnn\n"
   ]
  },
  {
   "cell_type": "code",
   "execution_count": 60,
   "id": "3f4ed158-cda7-4f78-ad9a-6b3832408c17",
   "metadata": {
    "tags": []
   },
   "outputs": [],
   "source": [
    "import torch"
   ]
  },
  {
   "cell_type": "code",
   "execution_count": 61,
   "id": "cb533092-439c-4713-8295-d9112ab1fbbb",
   "metadata": {
    "tags": []
   },
   "outputs": [],
   "source": [
    "taus_avg = [torch.mean(rnn.taus[k]).item() for k in rnn.taus.keys()]"
   ]
  },
  {
   "cell_type": "code",
   "execution_count": 62,
   "id": "c092dd0e-0f00-4dca-b7f8-55a98b292f48",
   "metadata": {
    "tags": []
   },
   "outputs": [
    {
     "data": {
      "text/plain": [
       "Text(0, 0.5, '$<\\\\tau>$')"
      ]
     },
     "execution_count": 62,
     "metadata": {},
     "output_type": "execute_result"
    },
    {
     "data": {
      "image/png": "[encoded data removed]",
      "text/plain": [
       "<Figure size 640x480 with 1 Axes>"
      ]
     },
     "metadata": {},
     "output_type": "display_data"
    }
   ],
   "source": [
    "plt.plot(taus_avg[:26])\n",
    "plt.xlabel('Module Depth')\n",
    "plt.ylabel('$<\\\\tau>$')"
   ]
  },
  {
   "cell_type": "code",
   "execution_count": 72,
   "id": "18145b91-0991-40aa-b500-f81aee4a9cc1",
   "metadata": {
    "tags": []
   },
   "outputs": [
    {
     "name": "stdout",
     "output_type": "stream",
     "text": [
      "Running on:  128_grow_parity_\n",
      "N =  26\n",
      "Computing population AC\n",
      "Computing single-neuron AC\n"
     ]
    },
    {
     "name": "stderr",
     "output_type": "stream",
     "text": [
      "100%|██████████| 125/125 [00:02<00:00, 47.61it/s]\n"
     ]
    },
    {
     "name": "stdout",
     "output_type": "stream",
     "text": [
      "------------\n",
      "Running on:  1408_grow_parity_\n",
      "N =  26\n",
      "Computing population AC\n",
      "Computing single-neuron AC\n"
     ]
    },
    {
     "name": "stderr",
     "output_type": "stream",
     "text": [
      "100%|██████████| 125/125 [00:02<00:00, 51.82it/s]\n"
     ]
    },
    {
     "name": "stdout",
     "output_type": "stream",
     "text": [
      "------------\n",
      "Running on:  750_grow_parity_\n",
      "N =  26\n",
      "Computing population AC\n",
      "Computing single-neuron AC\n"
     ]
    },
    {
     "name": "stderr",
     "output_type": "stream",
     "text": [
      "100%|██████████| 250/250 [00:04<00:00, 50.17it/s]\n"
     ]
    },
    {
     "name": "stdout",
     "output_type": "stream",
     "text": [
      "------------\n",
      "Running on:  288_grow_parity_\n",
      "N =  26\n",
      "Computing population AC\n",
      "Computing single-neuron AC\n"
     ]
    },
    {
     "name": "stderr",
     "output_type": "stream",
     "text": [
      "100%|██████████| 125/125 [00:02<00:00, 49.06it/s]\n"
     ]
    },
    {
     "name": "stdout",
     "output_type": "stream",
     "text": [
      "------------\n",
      "Running on:  768_grow_parity_\n",
      "N =  26\n",
      "Computing population AC\n",
      "Computing single-neuron AC\n"
     ]
    },
    {
     "name": "stderr",
     "output_type": "stream",
     "text": [
      "100%|██████████| 125/125 [00:02<00:00, 47.92it/s]"
     ]
    },
    {
     "name": "stdout",
     "output_type": "stream",
     "text": [
      "------------\n"
     ]
    },
    {
     "name": "stderr",
     "output_type": "stream",
     "text": [
      "\n"
     ]
    }
   ],
   "source": [
    "reload(compute_taus_growing)\n",
    "from analysis.timescales import timescales_utils\n",
    "reload(timescales_utils)\n",
    "full_path = './trained_models/SLURM_ARRAY_JOB_ID=7681088_Mar-11-2024-16_09_54/128_grow_parity_/rnn_1_N33'\n",
    "for subdir, N_max_max in paths_sorted[:5]:\n",
    "\n",
    "    print(\"Running on: \", subdir)\n",
    "    full_path = os.path.join(\"trained_models\", \"SLURM_ARRAY_JOB_ID=7681088_Mar-11-2024-16_09_54\",\n",
    "                             subdir, f'rnn_1_N{N_max_max}')\n",
    "\n",
    "    rnn, configs = compute_taus_growing.load_and_hydrate_hierarchical_model(full_path)\n",
    "\n",
    "    # comp_acs arguments:\n",
    "    load_kwargs = {'full_path': full_path} \n",
    "    save_path = './results/'\n",
    "    curriculum_type = 'cumulative' # todo: double check\n",
    "    task = 'parity'\n",
    "    network_number = subdir.split('_')[0] # todo: double check\n",
    "    N_max_max = 26\n",
    "    N_max_range = np.arange(N_max_max, N_max_max+1, 1)\n",
    "    burn_T = 500 # Burn-in time at the beginning of each simulation to reach stationary state\n",
    "    T = 10**2 + 500 + burn_T # number of time steps for simulations\n",
    "    \n",
    "    num_neurons = int(configs['NET_SIZE'][0][0])\n",
    "    num_trials = 12 # number of simulated trials\n",
    "    max_lag = 200 # maximum time lag for saving ACs\n",
    "    fit_lag = 30  # maximum time-lag for fitting ACs (we choose a small number to avoid AC bias)\n",
    "\n",
    "\n",
    "\n",
    "    timescales_utils.comp_acs(load_function=compute_taus_growing.load_and_hydrate_hierarchical_model,                       \n",
    "                              load_func_kwargs=load_kwargs, \n",
    "                              save_path=save_path, \n",
    "                              curriculum_type=curriculum_type,\n",
    "                              task=task, \n",
    "                              network_number=network_number,\n",
    "                              N_max_range=N_max_range, \n",
    "                              T=T, \n",
    "                              num_neurons=num_neurons, \n",
    "                              num_trials=num_trials, \n",
    "                              max_lag=max_lag, \n",
    "                              fit_lag=fit_lag, \n",
    "                              burn_T=burn_T)"
   ]
  },
  {
   "cell_type": "code",
   "execution_count": null,
   "id": "0a6dff35-e9a6-4aca-bdcd-342efe0a7a45",
   "metadata": {
    "tags": []
   },
   "outputs": [],
   "source": [
    "results_files"
   ]
  },
  {
   "cell_type": "code",
   "execution_count": 73,
   "id": "c40f6cde-13e9-4adb-a725-166d26a96135",
   "metadata": {
    "tags": []
   },
   "outputs": [],
   "source": [
    "import glob\n",
    "import pickle\n",
    "results_files = glob.glob(\"./results/cumulative*\")\n",
    "data = {}\n",
    "for path in results_files:\n",
    "    with open(path, 'rb') as f:\n",
    "        d = pickle.load(f)\n",
    "    data[path] = d"
   ]
  },
  {
   "cell_type": "code",
   "execution_count": 74,
   "id": "68faf618-84e8-4157-8954-98f14faa0b96",
   "metadata": {
    "tags": []
   },
   "outputs": [
    {
     "data": {
      "text/plain": [
       "dict_keys(['./results/cumulative_parity_network_115_N26_acs_taus.pkl', './results/cumulative_parity_network_497_N26_acs_taus.pkl', './results/cumulative_parity_network_750_N26_acs_taus.pkl', './results/cumulative_parity_network_1408_N26_acs_taus.pkl', './results/cumulative_parity_network_768_N26_acs_taus.pkl', './results/cumulative_parity_network_481_N26_acs_taus.pkl', './results/cumulative_parity_network_288_N26_acs_taus.pkl', './results/cumulative_parity_network_128_N26_acs_taus.pkl', './results/cumulative_parity_network_418_N26_acs_taus.pkl', './results/cumulative_parity_network_754_N26_acs_taus.pkl'])"
      ]
     },
     "execution_count": 74,
     "metadata": {},
     "output_type": "execute_result"
    }
   ],
   "source": [
    "data.keys()"
   ]
  },
  {
   "cell_type": "code",
   "execution_count": null,
   "id": "5c2d51b3-41a2-46c0-b4f3-d3647a30f431",
   "metadata": {
    "tags": []
   },
   "outputs": [],
   "source": [
    "N_max_range"
   ]
  },
  {
   "cell_type": "code",
   "execution_count": null,
   "id": "d6b15107-8a27-4dae-bf06-be264d8707a6",
   "metadata": {
    "tags": []
   },
   "outputs": [],
   "source": [
    "data['./results/cumulative_parity_network_115_N26_acs_taus.pkl']['taus_trained']"
   ]
  },
  {
   "cell_type": "code",
   "execution_count": 75,
   "id": "e0d1587c-4ff3-444b-8e31-a2e9f9942084",
   "metadata": {
    "tags": []
   },
   "outputs": [
    {
     "data": {
      "image/png": "[encoded data removed]",
      "text/plain": [
       "<Figure size 1000x300 with 3 Axes>"
      ]
     },
     "metadata": {},
     "output_type": "display_data"
    }
   ],
   "source": [
    "fig, ax = plt.subplots(1,3, figsize=(10, 3))\n",
    "\n",
    "for p in data.keys():\n",
    "\n",
    "    tau_eff_avg = np.mean(data[p]['taus_net'])\n",
    "    tau_trained = np.mean(data[p]['taus_trained'][0])\n",
    "    ac_pop = [np.mean(data[p]['ac_pop']) for n in N_max_range]\n",
    "\n",
    "\n",
    "    ax[0].plot(tau_eff_avg)\n",
    "    ax[0].set_title('effective average')\n",
    "    ax[1].plot(tau_trained)\n",
    "    ax[1].set_title('trained')\n",
    "    ax[2].plot(ac_pop)\n",
    "    ax[2].set_title('ac population')"
   ]
  },
  {
   "cell_type": "code",
   "execution_count": null,
   "id": "5cf72d0d-d5ca-4cc1-926d-95c4c5a21c0f",
   "metadata": {
    "tags": []
   },
   "outputs": [],
   "source": [
    "data.keys()"
   ]
  },
  {
   "cell_type": "code",
   "execution_count": null,
   "id": "231e7844-603b-4cc2-9225-cf9238139ad6",
   "metadata": {
    "tags": []
   },
   "outputs": [],
   "source": [
    "tau_eff_avg = [np.mean(data[n][0][:]) for n in N_max_range]\n",
    "tau_trained = [np.mean(data[n][2][:]) for n in N_max_range]\n",
    "ac_pop = [np.mean(data[n][-1]) for n in N_max_range]\n"
   ]
  },
  {
   "cell_type": "code",
   "execution_count": null,
   "id": "bcbb9a67-6fbc-4ed8-82d5-993f60a23581",
   "metadata": {
    "tags": []
   },
   "outputs": [],
   "source": [
    "fig, ax = plt.subplots(figsize=(2,2))\n",
    "ax.plot(data[6][0])\n"
   ]
  },
  {
   "cell_type": "code",
   "execution_count": null,
   "id": "06f3b9dc-37ab-41cb-a59f-79b05417d905",
   "metadata": {
    "tags": []
   },
   "outputs": [],
   "source": [
    "fig, ax = plt.subplots(1,3, figsize=(10, 3))\n",
    "ax[0].plot(tau_eff_avg)\n",
    "ax[0].set_title('effective average')\n",
    "ax[1].plot(tau_trained)\n",
    "ax[1].set_title('trained')\n",
    "ax[2].plot(ac_pop)\n",
    "ax[2].set_title('ac population')"
   ]
  },
  {
   "cell_type": "code",
   "execution_count": null,
   "id": "5540429d-eb28-4ab6-9a55-d289ff5ca5e6",
   "metadata": {
    "tags": []
   },
   "outputs": [],
   "source": [
    "tau_trained = [np.average(data[n][2][n-2]) for n in N_max_range]\n",
    "\n",
    "# plt.violinplot(tau_trained)"
   ]
  },
  {
   "cell_type": "code",
   "execution_count": null,
   "id": "0c20582d-5e85-45e3-86ff-da30b460ef29",
   "metadata": {
    "tags": []
   },
   "outputs": [],
   "source": [
    "tau_trained"
   ]
  },
  {
   "cell_type": "code",
   "execution_count": null,
   "id": "75f3e44d-1da7-4026-ac8c-9d9984c87948",
   "metadata": {
    "tags": []
   },
   "outputs": [],
   "source": [
    "plt.plot(tau_trained)"
   ]
  },
  {
   "cell_type": "code",
   "execution_count": null,
   "id": "488f876a-2990-45ab-b456-700577a4a0ba",
   "metadata": {
    "tags": []
   },
   "outputs": [],
   "source": [
    "len(tau_trained)"
   ]
  },
  {
   "cell_type": "code",
   "execution_count": null,
   "id": "afa468c4-d8af-424d-999e-57aca11e2428",
   "metadata": {
    "tags": []
   },
   "outputs": [],
   "source": [
    "len(tau_trained[0])"
   ]
  },
  {
   "cell_type": "code",
   "execution_count": null,
   "id": "e60e902c-fe91-4d2e-bd1c-5f848fd0dffc",
   "metadata": {
    "tags": []
   },
   "outputs": [],
   "source": [
    "tau_trained[5]"
   ]
  },
  {
   "cell_type": "code",
   "execution_count": null,
   "id": "e5da5603-6cb5-481a-9fdc-785cae284ed8",
   "metadata": {
    "tags": []
   },
   "outputs": [],
   "source": [
    "plt.violinplot(tau_trained[24]);"
   ]
  },
  {
   "cell_type": "code",
   "execution_count": null,
   "id": "c4249955-4304-41ff-8c67-8434726c634d",
   "metadata": {
    "tags": []
   },
   "outputs": [],
   "source": [
    "rnn.net_size"
   ]
  },
  {
   "cell_type": "code",
   "execution_count": null,
   "id": "6ebb03b7-1d13-4981-85a3-6f6fc76574ef",
   "metadata": {},
   "outputs": [],
   "source": []
  }
 ],
 "metadata": {
  "kernelspec": {
   "display_name": "RNN VirtualEnv",
   "language": "python",
   "name": "rnn-env"
  },
  "language_info": {
   "codemirror_mode": {
    "name": "ipython",
    "version": 3
   },
   "file_extension": ".py",
   "mimetype": "text/x-python",
   "name": "python",
   "nbconvert_exporter": "python",
   "pygments_lexer": "ipython3",
   "version": "3.9.7"
  }
 },
 "nbformat": 4,
 "nbformat_minor": 5
}
