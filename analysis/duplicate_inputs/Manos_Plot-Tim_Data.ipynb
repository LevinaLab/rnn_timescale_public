{
 "cells": [
  {
   "cell_type": "code",
   "execution_count": 1,
   "id": "a35c3f41",
   "metadata": {
    "ExecuteTime": {
     "end_time": "2023-08-09T18:38:49.887887654Z",
     "start_time": "2023-08-09T18:38:48.944685869Z"
    }
   },
   "outputs": [],
   "source": [
    "import numpy as np\n",
    "import itertools\n",
    "import matplotlib.pyplot as plt\n",
    "%matplotlib inline\n",
    "import seaborn as sns\n",
    "\n",
    "\n",
    "import scipy.stats as stats\n",
    "from scipy.optimize import curve_fit\n",
    "import scipy.io as sio\n",
    "\n",
    "from matplotlib import colors\n",
    "from mpl_toolkits.axes_grid1.inset_locator import inset_axes\n",
    "import matplotlib.gridspec as gridspec\n",
    "import  matplotlib.markers as mark\n",
    "\n",
    "\n",
    "from matplotlib.legend_handler import HandlerPatch\n",
    "import matplotlib.patches as mpatches\n",
    "import matplotlib as mpl\n",
    "from matplotlib import cm\n",
    "\n",
    "import os\n",
    "from os.path import expanduser\n",
    "\n",
    "import pickle\n",
    "\n",
    "import torch\n",
    "# from tqdm import tqdm\n",
    "\n",
    "# from rnn_hierarchical_withTau import RNN_stack\n",
    "\n",
    "device = torch.device('cuda' if torch.cuda.is_available() else 'cpu')"
   ]
  },
  {
   "cell_type": "code",
   "execution_count": 2,
   "id": "7f4fa132",
   "metadata": {
    "ExecuteTime": {
     "end_time": "2023-08-09T18:38:49.900907917Z",
     "start_time": "2023-08-09T18:38:49.890339071Z"
    }
   },
   "outputs": [],
   "source": [
    "ft = 14\n",
    "# graphical properties\n",
    "plt.rcParams[\"axes.edgecolor\"] = \"k\"\n",
    "plt.rcParams[\"axes.facecolor\"] = \"w\"\n",
    "plt.rcParams[\"axes.linewidth\"] = \"0.8\"\n",
    "plt.rcParams.update({'font.size': ft})\n",
    "plt.rcParams['savefig.dpi'] = 300\n",
    "\n",
    "plt.rcParams['pdf.fonttype'] = 42 # prepare as vector graphic\n",
    "plt.rcParams['ps.fonttype'] = 42\n",
    "\n",
    "plt.rcParams[\"font.family\"] = \"Helvetica\"\n",
    "\n",
    "\n",
    "save_fig_path = expanduser(\"~\") + '/research/data/projects/rnn_timescales/neurips_23/'\n",
    "\n",
    "col_sig_par = '#D48A6A' #, if too light #AA5B39\n",
    "col_sig_dms = '#803515'\n",
    "\n",
    "col_multi_par =  '#74AE97' #, if too light #277455\n",
    "col_multi_dms =  '#0E573A'"
   ]
  },
  {
   "cell_type": "markdown",
   "id": "ddbdb81a",
   "metadata": {},
   "source": [
    "# Load data"
   ]
  },
  {
   "cell_type": "code",
   "execution_count": 3,
   "id": "b1770329",
   "metadata": {
    "ExecuteTime": {
     "end_time": "2023-08-09T18:38:49.901650763Z",
     "start_time": "2023-08-09T18:38:49.895575524Z"
    }
   },
   "outputs": [],
   "source": [
    "num_neurons = 500\n",
    "NET_SIZE = [num_neurons]\n",
    "\n",
    "INPUT_SIZE = 1\n",
    "NUM_CLASSES = 2\n",
    "BIAS = True\n",
    "NUM_READOUT_HEADS = 100\n",
    "TRAIN_TAU = True\n"
   ]
  },
  {
   "cell_type": "markdown",
   "id": "048b1b9b",
   "metadata": {},
   "source": [
    "## load taus"
   ]
  },
  {
   "cell_type": "code",
   "execution_count": 4,
   "id": "7e671d3c",
   "metadata": {
    "ExecuteTime": {
     "end_time": "2023-08-09T18:38:49.917905172Z",
     "start_time": "2023-08-09T18:38:49.902447876Z"
    }
   },
   "outputs": [],
   "source": [
    "def load_taus(path, network_name, N):\n",
    "    \n",
    "    with open(path + network_name + '_N' + str(N) + '_acs_taus.pkl', 'rb') as f:\n",
    "        data = pickle.load(f)\n",
    "    tau_eff = data['taus_net']\n",
    "    selected_models = data['selected_models']\n",
    "    trained_taus = data['taus_trained']\n",
    "    single_acs = data['ac_all']\n",
    "    ac_pop = data['ac_pop']\n",
    "    \n",
    "            \n",
    "#     tau_eff = np.array(tau_eff)\n",
    "    return tau_eff, selected_models, trained_taus, single_acs, ac_pop \n"
   ]
  },
  {
   "cell_type": "code",
   "execution_count": 5,
   "id": "81fa02fe",
   "metadata": {
    "ExecuteTime": {
     "end_time": "2023-08-09T18:38:49.956020849Z",
     "start_time": "2023-08-09T18:38:49.911586813Z"
    }
   },
   "outputs": [],
   "source": [
    "def compute_mean_std_tau_eff(path, curriculum_type, task, net_ids, N_range):\n",
    "    tau_mean_mean = np.zeros(len(N_range))\n",
    "    tau_std_mean = np.zeros(len(N_range)) \n",
    "    tau_mean_std = np.zeros(len(N_range))\n",
    "    tau_std_std = np.zeros(len(N_range))\n",
    "    \n",
    "    for i, N in enumerate(N_range):\n",
    "        \n",
    "        train_taus_all = []\n",
    "        eff_taus_all = []\n",
    "        eff_taus_net_avg = np.zeros(len(net_ids))\n",
    "        eff_taus_net_std = np.zeros(len(net_ids))\n",
    "        \n",
    "        for j, net_id in enumerate(net_ids):\n",
    "            \n",
    "            network_name = curriculum_type + '_' + task + '_network_'+str(net_id)\n",
    "            tau_eff, selected_models, trained_taus, single_acs, ac_pop =\\\n",
    "            load_taus(path, network_name, N)\n",
    "            tau_eff = tau_eff[(tau_eff>1)]\n",
    "\n",
    "            eff_taus_net_avg[j] = np.mean(tau_eff)\n",
    "            eff_taus_net_std[j] = np.std(tau_eff)\n",
    "\n",
    "        tau_mean_mean[i] = np.mean(eff_taus_net_avg)\n",
    "        tau_std_mean[i] = np.std(eff_taus_net_avg)\n",
    "        tau_mean_std[i] = np.mean(eff_taus_net_std)\n",
    "        tau_std_std[i] = np.std(eff_taus_net_std)\n",
    "        \n",
    "    return tau_mean_mean, tau_mean_std,  tau_std_mean, tau_std_std\n",
    "\n",
    "\n",
    "def compute_mean_std_tau_train(path, curriculum_type, task, net_ids, N_range):\n",
    "    tau_mean_mean = np.zeros(len(N_range))\n",
    "    tau_std_mean = np.zeros(len(N_range)) \n",
    "    tau_mean_std = np.zeros(len(N_range))\n",
    "    tau_std_std = np.zeros(len(N_range))\n",
    "    for i, N in enumerate(N_range):\n",
    "        train_taus_all = []\n",
    "        train_taus_all = []\n",
    "        train_taus_net_avg = np.zeros(len(net_ids))\n",
    "        train_taus_net_std = np.zeros(len(net_ids))\n",
    "        for j, net_id in enumerate(net_ids):\n",
    "            \n",
    "            network_name = curriculum_type + '_' + task + '_network_'+str(net_id)\n",
    "            tau_eff, selected_models, trained_taus, single_acs, ac_pop =\\\n",
    "            load_taus(path, network_name, N)\n",
    "\n",
    "            train_taus_net_avg[j] = np.mean(trained_taus)\n",
    "            train_taus_net_std[j] = np.std(trained_taus)\n",
    "\n",
    "        tau_mean_mean[i] = np.mean(train_taus_net_avg)\n",
    "        tau_std_mean[i] = np.std(train_taus_net_avg)\n",
    "        tau_mean_std[i] = np.mean(train_taus_net_std)\n",
    "        tau_std_std[i] = np.std(train_taus_net_std)\n",
    "        \n",
    "    return tau_mean_mean, tau_mean_std,  tau_std_mean, tau_std_std"
   ]
  },
  {
   "cell_type": "code",
   "execution_count": 6,
   "id": "b7b7b259",
   "metadata": {
    "ExecuteTime": {
     "end_time": "2023-08-09T18:38:49.956553698Z",
     "start_time": "2023-08-09T18:38:49.955823267Z"
    }
   },
   "outputs": [],
   "source": [
    "def plot_shade(x, mean, std, color):\n",
    "    ax.fill_between(\n",
    "        x,\n",
    "        mean - std,\n",
    "        mean + std,\n",
    "        color=color,\n",
    "        alpha=0.3,\n",
    "    )"
   ]
  },
  {
   "cell_type": "code",
   "execution_count": 17,
   "id": "aa909b6d",
   "metadata": {
    "ExecuteTime": {
     "end_time": "2023-08-09T19:22:03.643120077Z",
     "start_time": "2023-08-09T19:22:03.628856552Z"
    }
   },
   "outputs": [],
   "source": [
    "path = '../../results/'\n",
    "curriculum_type = 'single'\n",
    "duplicate = 5\n",
    "task = f'parity_duplicate{duplicate}_tau{float(duplicate)}'\n",
    "net_ids = [1]  # [0, 1, 2, 3]\n",
    "N_range = np.arange(2, 30, 5)\n",
    "\n",
    "tau_mean_mean, tau_mean_std,  tau_std_mean, tau_std_std  =\\\n",
    "compute_mean_std_tau_train(path, curriculum_type, task, net_ids, N_range)\n",
    "\n"
   ]
  },
  {
   "cell_type": "code",
   "execution_count": 18,
   "id": "2d177114",
   "metadata": {
    "ExecuteTime": {
     "end_time": "2023-08-09T19:22:04.755019830Z",
     "start_time": "2023-08-09T19:22:04.054933148Z"
    }
   },
   "outputs": [
    {
     "name": "stderr",
     "output_type": "stream",
     "text": [
      "No artists with labels found to put in legend.  Note that artists whose label start with an underscore are ignored when legend() is called with no argument.\n",
      "No artists with labels found to put in legend.  Note that artists whose label start with an underscore are ignored when legend() is called with no argument.\n"
     ]
    },
    {
     "data": {
      "text/plain": "<Figure size 510.236x368.504 with 4 Axes>",
      "image/png": "[encoded data removed]"
     },
     "metadata": {
      "needs_background": "light"
     },
     "output_type": "display_data"
    }
   ],
   "source": [
    "cm = 1/2.54  # centimeters in inches\n",
    "fig = plt.figure(figsize=(18*cm, 13*cm))\n",
    "\n",
    "\n",
    "alpha_dot = 0.6\n",
    "w = 0.35 #width of mean line\n",
    "ms = 8\n",
    "lw = 2\n",
    "\n",
    "x_text = -.4\n",
    "y_text = 1.1\n",
    "\n",
    "x_noise = 0.05\n",
    "c_singlehead = '#D48A6A'\n",
    "c_multihead = '#489174'\n",
    "c_new = 'darkorange'\n",
    "c_old = 'deepskyblue'\n",
    "\n",
    "\n",
    "ms = 3\n",
    "lw = 1.5\n",
    "elw = 1.5\n",
    "\n",
    "y1 = .9\n",
    "y2 = 2\n",
    "\n",
    "\n",
    "# path = './timescales_single_nocurr_from_Tims_computer/'\n",
    "# curriculum_type = 'single'\n",
    "# task = 'nocurr_parity_mod_relu'\n",
    "# net_ids =  np.arange(1,4)\n",
    "# N_range = np.arange(3, 21)\n",
    "\n",
    "\n",
    "# tau_trained\n",
    "tau_mean_mean_train, tau_mean_std_train,  tau_std_mean_train, tau_std_std_train  =\\\n",
    "compute_mean_std_tau_train(path, curriculum_type, task, net_ids, N_range)\n",
    "\n",
    "\n",
    "ax = plt.subplot(221)\n",
    "plt.plot(N_range, tau_mean_mean_train, color = c_new, lw = lw)\n",
    "plot_shade(N_range, tau_mean_mean_train, tau_std_mean_train, c_new)\n",
    "plt.ylabel(r'Mean($\\tau$)')\n",
    "plt.xlabel(r'$N$')\n",
    "plt.legend(frameon = False, loc = 'upper left', bbox_to_anchor=(0,.9))\n",
    "\n",
    "\n",
    "\n",
    "ax = plt.subplot(222)\n",
    "plt.plot(N_range, tau_mean_std_train, color = c_new, label = '$ReLU')\n",
    "plot_shade(N_range, tau_mean_std_train, tau_std_std_train, c_new)\n",
    "plt.ylabel(r'Std($\\tau$)')\n",
    "plt.xlabel(r'$N$')\n",
    "\n",
    "\n",
    "# tau_NET\n",
    "tau_mean_mean, tau_mean_std,  tau_std_mean, tau_std_std  =\\\n",
    "compute_mean_std_tau_eff(path, curriculum_type, task, net_ids, N_range)\n",
    "\n",
    "\n",
    "ax = plt.subplot(223)\n",
    "plt.plot(N_range, tau_mean_mean, marker='o', color = c_new, lw = lw)\n",
    "plot_shade(N_range, tau_mean_mean, tau_std_mean, c_new)\n",
    "plt.ylabel(r'Mean($\\tau_{net}$)')\n",
    "plt.xlabel(r'$N$')\n",
    "plt.legend(frameon = False, loc = 'upper left', bbox_to_anchor=(0,.9))\n",
    "\n",
    "\n",
    "\n",
    "ax = plt.subplot(224)\n",
    "plt.plot(N_range, tau_mean_std, color = c_new, label = '$ReLU')\n",
    "plot_shade(N_range, tau_mean_std, tau_std_std, c_new)\n",
    "plt.ylabel(r'Std($\\tau_{net}$)')\n",
    "plt.xlabel(r'$N$')\n",
    "\n",
    "\n",
    "\n",
    "fig.tight_layout()\n",
    "\n",
    "sns.despine()\n",
    "\n",
    "plt.savefig('No Curriculum timescales.pdf')\n"
   ]
  },
  {
   "cell_type": "code",
   "execution_count": null,
   "id": "467ed76d-2395-4cfe-9dcd-ae4e60c49dcd",
   "metadata": {
    "ExecuteTime": {
     "start_time": "2023-08-09T15:30:07.021528073Z"
    }
   },
   "outputs": [],
   "source": [
    "cm = 1/2.54  # centimeters in inches\n",
    "fig = plt.figure(figsize=(18*cm, 6.5*cm))\n",
    "\n",
    "\n",
    "alpha_dot = 0.6\n",
    "w = 0.35 #width of mean line\n",
    "ms = 8\n",
    "lw = 2\n",
    "\n",
    "x_text = -.4\n",
    "y_text = 1.1\n",
    "\n",
    "x_noise = 0.05\n",
    "c_singlehead = '#D48A6A'\n",
    "c_multihead = '#489174'\n",
    "c_new = 'darkorange'\n",
    "c_old = 'deepskyblue'\n",
    "\n",
    "\n",
    "ms = 3\n",
    "lw = 1.5\n",
    "elw = 1.5\n",
    "\n",
    "y1 = .9\n",
    "y2 = 2\n",
    "\n",
    "\n",
    "path = './timescales_single_nocurr_from_Tims_computer/'\n",
    "curriculum_type = 'single'\n",
    "task = 'nocurr_parity_mod_relu'\n",
    "net_ids =  np.arange(1,4)\n",
    "N_range = np.arange(3, 21)\n",
    "\n",
    "\n",
    "# tau_trained\n",
    "tau_mean_mean_train, tau_mean_std_train,  tau_std_mean_train, tau_std_std_train  =\\\n",
    "compute_mean_std_tau_train(path, curriculum_type, task, net_ids, N_range)\n",
    "\n",
    "# tau_NET\n",
    "tau_mean_mean, tau_mean_std,  tau_std_mean, tau_std_std  =\\\n",
    "compute_mean_std_tau_eff(path, curriculum_type, task, net_ids, N_range)\n",
    "\n",
    "ax = plt.subplot(121)\n",
    "plt.plot(N_range, tau_mean_mean_train, color = c_new, lw = lw)\n",
    "plot_shade(N_range, tau_mean_mean_train, tau_mean_std_train, c_new)\n",
    "plt.ylabel(r'$\\tau$')\n",
    "plt.xlabel(r'$N$')\n",
    "plt.legend(frameon = False, loc = 'upper left', bbox_to_anchor=(0,.9))\n",
    "\n",
    "\n",
    "\n",
    "ax = plt.subplot(122)\n",
    "plt.plot(N_range, tau_mean_mean, color = c_new, lw = lw)\n",
    "plot_shade(N_range, tau_mean_mean, tau_mean_std, c_new)\n",
    "plt.ylabel(r'$\\tau_{net}$')\n",
    "plt.xlabel(r'$N$')\n",
    "plt.legend(frameon = False, loc = 'upper left', bbox_to_anchor=(0,.9))\n",
    "\n",
    "\n",
    "\n",
    "fig.tight_layout()\n",
    "\n",
    "sns.despine()\n",
    "\n",
    "plt.savefig('taus.pdf')\n",
    "\n"
   ]
  },
  {
   "cell_type": "code",
   "execution_count": null,
   "id": "d75c329e",
   "metadata": {
    "ExecuteTime": {
     "start_time": "2023-08-09T15:30:07.021687581Z"
    }
   },
   "outputs": [],
   "source": [
    "path = './Sina_results/'\n",
    "curriculum_type = 'cumulative'\n",
    "task = 'nocurr_parity_mod_relu'\n",
    "net_ids = [0, 1, 2, 3]\n",
    "N_range = np.arange(100, 101)\n",
    "\n",
    "\n",
    "tau_mean_mean, tau_mean_std,  tau_std_mean, tau_std_std  =\\\n",
    "compute_mean_std_tau_train(path, curriculum_type, task, net_ids, N_range)\n",
    "\n",
    "tau_mean_mean"
   ]
  },
  {
   "cell_type": "code",
   "execution_count": null,
   "id": "b6e5bc77",
   "metadata": {
    "ExecuteTime": {
     "start_time": "2023-08-09T15:30:07.021817585Z"
    }
   },
   "outputs": [],
   "source": [
    "tau_mean_mean, tau_mean_std,  tau_std_mean, tau_std_std  =\\\n",
    "compute_mean_std_tau_eff(path, curriculum_type, task, net_ids, N_range)\n",
    "\n",
    "tau_mean_mean"
   ]
  },
  {
   "cell_type": "code",
   "execution_count": null,
   "id": "2cf2181e",
   "metadata": {
    "ExecuteTime": {
     "start_time": "2023-08-09T15:30:07.021919007Z"
    }
   },
   "outputs": [],
   "source": []
  }
 ],
 "metadata": {
  "kernelspec": {
   "display_name": "Python 3",
   "language": "python",
   "name": "python3"
  },
  "language_info": {
   "codemirror_mode": {
    "name": "ipython",
    "version": 3
   },
   "file_extension": ".py",
   "mimetype": "text/x-python",
   "name": "python",
   "nbconvert_exporter": "python",
   "pygments_lexer": "ipython3",
   "version": "3.9.16"
  }
 },
 "nbformat": 4,
 "nbformat_minor": 5
}
