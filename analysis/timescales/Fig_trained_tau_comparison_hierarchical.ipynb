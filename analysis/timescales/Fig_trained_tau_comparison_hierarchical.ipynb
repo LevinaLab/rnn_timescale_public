{
 "cells": [
  {
   "cell_type": "code",
   "execution_count": 15,
   "id": "a35c3f41",
   "metadata": {
    "ExecuteTime": {
     "end_time": "2024-02-16T15:28:16.875880Z",
     "start_time": "2024-02-16T15:28:16.850880200Z"
    }
   },
   "outputs": [],
   "source": [
    "import numpy as np\n",
    "import itertools\n",
    "import matplotlib.pyplot as plt\n",
    "%matplotlib inline\n",
    "import seaborn as sns\n",
    "\n",
    "\n",
    "import scipy.stats as stats\n",
    "from scipy.optimize import curve_fit\n",
    "import scipy.io as sio\n",
    "\n",
    "from matplotlib import colors\n",
    "from mpl_toolkits.axes_grid1.inset_locator import inset_axes\n",
    "import matplotlib.gridspec as gridspec\n",
    "import  matplotlib.markers as mark\n",
    "\n",
    "\n",
    "from matplotlib.legend_handler import HandlerPatch\n",
    "import matplotlib.patches as mpatches\n",
    "import matplotlib as mpl\n",
    "from matplotlib import cm\n",
    "\n",
    "import os\n",
    "from os.path import expanduser\n",
    "\n",
    "import pickle\n",
    "\n",
    "\n",
    "import sys\n",
    "import torch\n",
    "# from tqdm import tqdm\n",
    "\n",
    "notebook_dir = os.path.abspath('')\n",
    "# Get the absolute path of the parent directory of 'src'\n",
    "parent_dir = os.path.abspath(os.path.join(notebook_dir, '..', '..'))\n",
    "project_root = parent_dir\n",
    "# Add both the parent directory and the 'src' directory to the module search path\n",
    "sys.path.insert(0, parent_dir)\n",
    "sys.path.insert(0, os.path.join(parent_dir, 'src'))\n",
    "\n",
    "# print(f\"changing into project_root: {project_root}\")\n",
    "# from rnn_hierarchical_withTau import RNN_stack\n",
    "from src.models import RNN_hier\n",
    "\n",
    "device = torch.device('cuda' if torch.cuda.is_available() else 'cpu')"
   ]
  },
  {
   "cell_type": "code",
   "execution_count": 16,
   "id": "7f4fa132",
   "metadata": {
    "ExecuteTime": {
     "end_time": "2024-02-16T15:28:17.639879900Z",
     "start_time": "2024-02-16T15:28:17.633880400Z"
    }
   },
   "outputs": [],
   "source": [
    "ft = 14\n",
    "# graphical properties\n",
    "plt.rcParams[\"axes.edgecolor\"] = \"k\"\n",
    "plt.rcParams[\"axes.facecolor\"] = \"w\"\n",
    "plt.rcParams[\"axes.linewidth\"] = \"0.8\"\n",
    "plt.rcParams.update({'font.size': ft})\n",
    "plt.rcParams['savefig.dpi'] = 300\n",
    "\n",
    "plt.rcParams['pdf.fonttype'] = 42 # prepare as vector graphic\n",
    "plt.rcParams['ps.fonttype'] = 42\n",
    "\n",
    "plt.rcParams[\"font.family\"] = \"Helvetica\"\n",
    "\n",
    "\n",
    "save_fig_path = expanduser(\"~\") + '/research/data/projects/rnn_timescales/neurips_23/'\n",
    "\n",
    "col_sig_par = '#D48A6A' #, if too light #AA5B39\n",
    "col_sig_dms = '#803515'\n",
    "\n",
    "col_multi_par =  '#74AE97' #, if too light #277455\n",
    "col_multi_dms =  '#0E573A'"
   ]
  },
  {
   "cell_type": "markdown",
   "id": "ddbdb81a",
   "metadata": {},
   "source": [
    "# Load data"
   ]
  },
  {
   "cell_type": "code",
   "outputs": [],
   "source": [
    "MAX_DEPTH = 55\n",
    "NUM_READOUT_HEADS_PER_MOD = 1"
   ],
   "metadata": {
    "collapsed": false,
    "ExecuteTime": {
     "end_time": "2024-02-16T15:28:18.220892600Z",
     "start_time": "2024-02-16T15:28:18.215892400Z"
    }
   },
   "id": "2bd465ba62e56d12",
   "execution_count": 17
  },
  {
   "cell_type": "code",
   "execution_count": 18,
   "id": "b1770329",
   "metadata": {
    "ExecuteTime": {
     "end_time": "2024-02-16T15:28:18.402882400Z",
     "start_time": "2024-02-16T15:28:18.375882200Z"
    }
   },
   "outputs": [],
   "source": [
    "num_neurons = 10\n",
    "NET_SIZE = [num_neurons]\n",
    "\n",
    "INPUT_SIZE = 1\n",
    "NUM_CLASSES = 2\n",
    "BIAS = True\n",
    "NUM_READOUT_HEADS = 100\n",
    "TRAIN_TAU = True\n"
   ]
  },
  {
   "cell_type": "markdown",
   "id": "048b1b9b",
   "metadata": {},
   "source": [
    "## load taus"
   ]
  },
  {
   "cell_type": "code",
   "outputs": [],
   "source": [
    "def load_hierarchical_network_parity_multi(path, sub_dir, N):\n",
    "       \n",
    "    filename = os.path.join(path, sub_dir, f'rnn_N2_N{N}')\n",
    "    \n",
    "    rnn = init_hierarchical_model()\n",
    "    rnn.load_state_dict(torch.load(filename, map_location=torch.device('cpu'))['state_dict'], strict=False)\n",
    "    return rnn\n",
    "\n",
    "def init_hierarchical_model():\n",
    "\n",
    "    # init new model\n",
    "    rnn = RNN_hier.RNN_Hierarchical(max_depth=MAX_DEPTH,\n",
    "                    input_size=INPUT_SIZE,\n",
    "                    net_size=NET_SIZE,\n",
    "                    num_classes=NUM_CLASSES,\n",
    "                    bias=BIAS,\n",
    "                    num_readout_heads_per_mod=NUM_READOUT_HEADS_PER_MOD,\n",
    "                    tau=1.,\n",
    "                    train_tau=TRAIN_TAU\n",
    "                    ).to(device)\n",
    "    return rnn"
   ],
   "metadata": {
    "collapsed": false,
    "ExecuteTime": {
     "end_time": "2024-02-16T15:28:18.663890300Z",
     "start_time": "2024-02-16T15:28:18.639882400Z"
    }
   },
   "id": "26355db2457035b1",
   "execution_count": 19
  },
  {
   "cell_type": "code",
   "outputs": [
    {
     "data": {
      "text/plain": "'C:\\\\Users\\\\MAni\\\\PycharmProjects\\\\rnn_timescale_public'"
     },
     "execution_count": 20,
     "metadata": {},
     "output_type": "execute_result"
    }
   ],
   "source": [
    "project_root"
   ],
   "metadata": {
    "collapsed": false,
    "ExecuteTime": {
     "end_time": "2024-02-16T15:28:18.825881200Z",
     "start_time": "2024-02-16T15:28:18.803883100Z"
    }
   },
   "id": "193575534dc8b557",
   "execution_count": 20
  },
  {
   "cell_type": "code",
   "outputs": [],
   "source": [
    "# this module's location:\n",
    "path = os.path.join(project_root, 'trained_models')\n",
    "sub_dir = 'grow_parity__network_1_2024-02-03_2'\n",
    "rnn = load_hierarchical_network_parity_multi(path, sub_dir, N=2)"
   ],
   "metadata": {
    "collapsed": false,
    "ExecuteTime": {
     "end_time": "2024-02-16T15:28:55.495502400Z",
     "start_time": "2024-02-16T15:28:55.425493500Z"
    }
   },
   "id": "8838f8be9f444df9",
   "execution_count": 22
  },
  {
   "cell_type": "code",
   "outputs": [
    {
     "data": {
      "text/plain": "RNN_Hierarchical(\n  (afunc): LeakyReLU(negative_slope=0.01)\n  (parameter_dict): ParameterDict(\n      (0): Parameter containing: [torch.cuda.FloatTensor of size 10 (cuda:0)]\n      (1): Parameter containing: [torch.cuda.FloatTensor of size 10 (cuda:0)]\n      (10): Parameter containing: [torch.cuda.FloatTensor of size 10 (cuda:0)]\n      (11): Parameter containing: [torch.cuda.FloatTensor of size 10 (cuda:0)]\n      (12): Parameter containing: [torch.cuda.FloatTensor of size 10 (cuda:0)]\n      (13): Parameter containing: [torch.cuda.FloatTensor of size 10 (cuda:0)]\n      (14): Parameter containing: [torch.cuda.FloatTensor of size 10 (cuda:0)]\n      (15): Parameter containing: [torch.cuda.FloatTensor of size 10 (cuda:0)]\n      (16): Parameter containing: [torch.cuda.FloatTensor of size 10 (cuda:0)]\n      (17): Parameter containing: [torch.cuda.FloatTensor of size 10 (cuda:0)]\n      (18): Parameter containing: [torch.cuda.FloatTensor of size 10 (cuda:0)]\n      (19): Parameter containing: [torch.cuda.FloatTensor of size 10 (cuda:0)]\n      (2): Parameter containing: [torch.cuda.FloatTensor of size 10 (cuda:0)]\n      (20): Parameter containing: [torch.cuda.FloatTensor of size 10 (cuda:0)]\n      (21): Parameter containing: [torch.cuda.FloatTensor of size 10 (cuda:0)]\n      (22): Parameter containing: [torch.cuda.FloatTensor of size 10 (cuda:0)]\n      (23): Parameter containing: [torch.cuda.FloatTensor of size 10 (cuda:0)]\n      (24): Parameter containing: [torch.cuda.FloatTensor of size 10 (cuda:0)]\n      (25): Parameter containing: [torch.cuda.FloatTensor of size 10 (cuda:0)]\n      (26): Parameter containing: [torch.cuda.FloatTensor of size 10 (cuda:0)]\n      (27): Parameter containing: [torch.cuda.FloatTensor of size 10 (cuda:0)]\n      (28): Parameter containing: [torch.cuda.FloatTensor of size 10 (cuda:0)]\n      (29): Parameter containing: [torch.cuda.FloatTensor of size 10 (cuda:0)]\n      (3): Parameter containing: [torch.cuda.FloatTensor of size 10 (cuda:0)]\n      (30): Parameter containing: [torch.cuda.FloatTensor of size 10 (cuda:0)]\n      (31): Parameter containing: [torch.cuda.FloatTensor of size 10 (cuda:0)]\n      (32): Parameter containing: [torch.cuda.FloatTensor of size 10 (cuda:0)]\n      (33): Parameter containing: [torch.cuda.FloatTensor of size 10 (cuda:0)]\n      (34): Parameter containing: [torch.cuda.FloatTensor of size 10 (cuda:0)]\n      (35): Parameter containing: [torch.cuda.FloatTensor of size 10 (cuda:0)]\n      (36): Parameter containing: [torch.cuda.FloatTensor of size 10 (cuda:0)]\n      (37): Parameter containing: [torch.cuda.FloatTensor of size 10 (cuda:0)]\n      (38): Parameter containing: [torch.cuda.FloatTensor of size 10 (cuda:0)]\n      (39): Parameter containing: [torch.cuda.FloatTensor of size 10 (cuda:0)]\n      (4): Parameter containing: [torch.cuda.FloatTensor of size 10 (cuda:0)]\n      (40): Parameter containing: [torch.cuda.FloatTensor of size 10 (cuda:0)]\n      (41): Parameter containing: [torch.cuda.FloatTensor of size 10 (cuda:0)]\n      (42): Parameter containing: [torch.cuda.FloatTensor of size 10 (cuda:0)]\n      (43): Parameter containing: [torch.cuda.FloatTensor of size 10 (cuda:0)]\n      (44): Parameter containing: [torch.cuda.FloatTensor of size 10 (cuda:0)]\n      (45): Parameter containing: [torch.cuda.FloatTensor of size 10 (cuda:0)]\n      (46): Parameter containing: [torch.cuda.FloatTensor of size 10 (cuda:0)]\n      (47): Parameter containing: [torch.cuda.FloatTensor of size 10 (cuda:0)]\n      (48): Parameter containing: [torch.cuda.FloatTensor of size 10 (cuda:0)]\n      (49): Parameter containing: [torch.cuda.FloatTensor of size 10 (cuda:0)]\n      (5): Parameter containing: [torch.cuda.FloatTensor of size 10 (cuda:0)]\n      (50): Parameter containing: [torch.cuda.FloatTensor of size 10 (cuda:0)]\n      (51): Parameter containing: [torch.cuda.FloatTensor of size 10 (cuda:0)]\n      (52): Parameter containing: [torch.cuda.FloatTensor of size 10 (cuda:0)]\n      (53): Parameter containing: [torch.cuda.FloatTensor of size 10 (cuda:0)]\n      (54): Parameter containing: [torch.cuda.FloatTensor of size 10 (cuda:0)]\n      (6): Parameter containing: [torch.cuda.FloatTensor of size 10 (cuda:0)]\n      (7): Parameter containing: [torch.cuda.FloatTensor of size 10 (cuda:0)]\n      (8): Parameter containing: [torch.cuda.FloatTensor of size 10 (cuda:0)]\n      (9): Parameter containing: [torch.cuda.FloatTensor of size 10 (cuda:0)]\n  )\n  (module_dict): ModuleDict(\n    (0:input_layers): Linear(in_features=1, out_features=10, bias=True)\n    (0:w_hh): Linear(in_features=10, out_features=10, bias=True)\n    (0:fc): Linear(in_features=10, out_features=2, bias=True)\n    (1:input_layers): Linear(in_features=1, out_features=10, bias=True)\n    (1:w_hh): Linear(in_features=10, out_features=10, bias=True)\n    (1:w_ff_in): Linear(in_features=10, out_features=10, bias=True)\n    (1:fc): Linear(in_features=10, out_features=2, bias=True)\n    (2:input_layers): Linear(in_features=1, out_features=10, bias=True)\n    (2:w_hh): Linear(in_features=10, out_features=10, bias=True)\n    (2:w_ff_in): Linear(in_features=10, out_features=10, bias=True)\n    (2:fc): Linear(in_features=10, out_features=2, bias=True)\n    (3:input_layers): Linear(in_features=1, out_features=10, bias=True)\n    (3:w_hh): Linear(in_features=10, out_features=10, bias=True)\n    (3:w_ff_in): Linear(in_features=10, out_features=10, bias=True)\n    (3:fc): Linear(in_features=10, out_features=2, bias=True)\n    (4:input_layers): Linear(in_features=1, out_features=10, bias=True)\n    (4:w_hh): Linear(in_features=10, out_features=10, bias=True)\n    (4:w_ff_in): Linear(in_features=10, out_features=10, bias=True)\n    (4:fc): Linear(in_features=10, out_features=2, bias=True)\n    (5:input_layers): Linear(in_features=1, out_features=10, bias=True)\n    (5:w_hh): Linear(in_features=10, out_features=10, bias=True)\n    (5:w_ff_in): Linear(in_features=10, out_features=10, bias=True)\n    (5:fc): Linear(in_features=10, out_features=2, bias=True)\n    (6:input_layers): Linear(in_features=1, out_features=10, bias=True)\n    (6:w_hh): Linear(in_features=10, out_features=10, bias=True)\n    (6:w_ff_in): Linear(in_features=10, out_features=10, bias=True)\n    (6:fc): Linear(in_features=10, out_features=2, bias=True)\n    (7:input_layers): Linear(in_features=1, out_features=10, bias=True)\n    (7:w_hh): Linear(in_features=10, out_features=10, bias=True)\n    (7:w_ff_in): Linear(in_features=10, out_features=10, bias=True)\n    (7:fc): Linear(in_features=10, out_features=2, bias=True)\n    (8:input_layers): Linear(in_features=1, out_features=10, bias=True)\n    (8:w_hh): Linear(in_features=10, out_features=10, bias=True)\n    (8:w_ff_in): Linear(in_features=10, out_features=10, bias=True)\n    (8:fc): Linear(in_features=10, out_features=2, bias=True)\n    (9:input_layers): Linear(in_features=1, out_features=10, bias=True)\n    (9:w_hh): Linear(in_features=10, out_features=10, bias=True)\n    (9:w_ff_in): Linear(in_features=10, out_features=10, bias=True)\n    (9:fc): Linear(in_features=10, out_features=2, bias=True)\n    (10:input_layers): Linear(in_features=1, out_features=10, bias=True)\n    (10:w_hh): Linear(in_features=10, out_features=10, bias=True)\n    (10:w_ff_in): Linear(in_features=10, out_features=10, bias=True)\n    (10:fc): Linear(in_features=10, out_features=2, bias=True)\n    (11:input_layers): Linear(in_features=1, out_features=10, bias=True)\n    (11:w_hh): Linear(in_features=10, out_features=10, bias=True)\n    (11:w_ff_in): Linear(in_features=10, out_features=10, bias=True)\n    (11:fc): Linear(in_features=10, out_features=2, bias=True)\n    (12:input_layers): Linear(in_features=1, out_features=10, bias=True)\n    (12:w_hh): Linear(in_features=10, out_features=10, bias=True)\n    (12:w_ff_in): Linear(in_features=10, out_features=10, bias=True)\n    (12:fc): Linear(in_features=10, out_features=2, bias=True)\n    (13:input_layers): Linear(in_features=1, out_features=10, bias=True)\n    (13:w_hh): Linear(in_features=10, out_features=10, bias=True)\n    (13:w_ff_in): Linear(in_features=10, out_features=10, bias=True)\n    (13:fc): Linear(in_features=10, out_features=2, bias=True)\n    (14:input_layers): Linear(in_features=1, out_features=10, bias=True)\n    (14:w_hh): Linear(in_features=10, out_features=10, bias=True)\n    (14:w_ff_in): Linear(in_features=10, out_features=10, bias=True)\n    (14:fc): Linear(in_features=10, out_features=2, bias=True)\n    (15:input_layers): Linear(in_features=1, out_features=10, bias=True)\n    (15:w_hh): Linear(in_features=10, out_features=10, bias=True)\n    (15:w_ff_in): Linear(in_features=10, out_features=10, bias=True)\n    (15:fc): Linear(in_features=10, out_features=2, bias=True)\n    (16:input_layers): Linear(in_features=1, out_features=10, bias=True)\n    (16:w_hh): Linear(in_features=10, out_features=10, bias=True)\n    (16:w_ff_in): Linear(in_features=10, out_features=10, bias=True)\n    (16:fc): Linear(in_features=10, out_features=2, bias=True)\n    (17:input_layers): Linear(in_features=1, out_features=10, bias=True)\n    (17:w_hh): Linear(in_features=10, out_features=10, bias=True)\n    (17:w_ff_in): Linear(in_features=10, out_features=10, bias=True)\n    (17:fc): Linear(in_features=10, out_features=2, bias=True)\n    (18:input_layers): Linear(in_features=1, out_features=10, bias=True)\n    (18:w_hh): Linear(in_features=10, out_features=10, bias=True)\n    (18:w_ff_in): Linear(in_features=10, out_features=10, bias=True)\n    (18:fc): Linear(in_features=10, out_features=2, bias=True)\n    (19:input_layers): Linear(in_features=1, out_features=10, bias=True)\n    (19:w_hh): Linear(in_features=10, out_features=10, bias=True)\n    (19:w_ff_in): Linear(in_features=10, out_features=10, bias=True)\n    (19:fc): Linear(in_features=10, out_features=2, bias=True)\n    (20:input_layers): Linear(in_features=1, out_features=10, bias=True)\n    (20:w_hh): Linear(in_features=10, out_features=10, bias=True)\n    (20:w_ff_in): Linear(in_features=10, out_features=10, bias=True)\n    (20:fc): Linear(in_features=10, out_features=2, bias=True)\n    (21:input_layers): Linear(in_features=1, out_features=10, bias=True)\n    (21:w_hh): Linear(in_features=10, out_features=10, bias=True)\n    (21:w_ff_in): Linear(in_features=10, out_features=10, bias=True)\n    (21:fc): Linear(in_features=10, out_features=2, bias=True)\n    (22:input_layers): Linear(in_features=1, out_features=10, bias=True)\n    (22:w_hh): Linear(in_features=10, out_features=10, bias=True)\n    (22:w_ff_in): Linear(in_features=10, out_features=10, bias=True)\n    (22:fc): Linear(in_features=10, out_features=2, bias=True)\n    (23:input_layers): Linear(in_features=1, out_features=10, bias=True)\n    (23:w_hh): Linear(in_features=10, out_features=10, bias=True)\n    (23:w_ff_in): Linear(in_features=10, out_features=10, bias=True)\n    (23:fc): Linear(in_features=10, out_features=2, bias=True)\n    (24:input_layers): Linear(in_features=1, out_features=10, bias=True)\n    (24:w_hh): Linear(in_features=10, out_features=10, bias=True)\n    (24:w_ff_in): Linear(in_features=10, out_features=10, bias=True)\n    (24:fc): Linear(in_features=10, out_features=2, bias=True)\n    (25:input_layers): Linear(in_features=1, out_features=10, bias=True)\n    (25:w_hh): Linear(in_features=10, out_features=10, bias=True)\n    (25:w_ff_in): Linear(in_features=10, out_features=10, bias=True)\n    (25:fc): Linear(in_features=10, out_features=2, bias=True)\n    (26:input_layers): Linear(in_features=1, out_features=10, bias=True)\n    (26:w_hh): Linear(in_features=10, out_features=10, bias=True)\n    (26:w_ff_in): Linear(in_features=10, out_features=10, bias=True)\n    (26:fc): Linear(in_features=10, out_features=2, bias=True)\n    (27:input_layers): Linear(in_features=1, out_features=10, bias=True)\n    (27:w_hh): Linear(in_features=10, out_features=10, bias=True)\n    (27:w_ff_in): Linear(in_features=10, out_features=10, bias=True)\n    (27:fc): Linear(in_features=10, out_features=2, bias=True)\n    (28:input_layers): Linear(in_features=1, out_features=10, bias=True)\n    (28:w_hh): Linear(in_features=10, out_features=10, bias=True)\n    (28:w_ff_in): Linear(in_features=10, out_features=10, bias=True)\n    (28:fc): Linear(in_features=10, out_features=2, bias=True)\n    (29:input_layers): Linear(in_features=1, out_features=10, bias=True)\n    (29:w_hh): Linear(in_features=10, out_features=10, bias=True)\n    (29:w_ff_in): Linear(in_features=10, out_features=10, bias=True)\n    (29:fc): Linear(in_features=10, out_features=2, bias=True)\n    (30:input_layers): Linear(in_features=1, out_features=10, bias=True)\n    (30:w_hh): Linear(in_features=10, out_features=10, bias=True)\n    (30:w_ff_in): Linear(in_features=10, out_features=10, bias=True)\n    (30:fc): Linear(in_features=10, out_features=2, bias=True)\n    (31:input_layers): Linear(in_features=1, out_features=10, bias=True)\n    (31:w_hh): Linear(in_features=10, out_features=10, bias=True)\n    (31:w_ff_in): Linear(in_features=10, out_features=10, bias=True)\n    (31:fc): Linear(in_features=10, out_features=2, bias=True)\n    (32:input_layers): Linear(in_features=1, out_features=10, bias=True)\n    (32:w_hh): Linear(in_features=10, out_features=10, bias=True)\n    (32:w_ff_in): Linear(in_features=10, out_features=10, bias=True)\n    (32:fc): Linear(in_features=10, out_features=2, bias=True)\n    (33:input_layers): Linear(in_features=1, out_features=10, bias=True)\n    (33:w_hh): Linear(in_features=10, out_features=10, bias=True)\n    (33:w_ff_in): Linear(in_features=10, out_features=10, bias=True)\n    (33:fc): Linear(in_features=10, out_features=2, bias=True)\n    (34:input_layers): Linear(in_features=1, out_features=10, bias=True)\n    (34:w_hh): Linear(in_features=10, out_features=10, bias=True)\n    (34:w_ff_in): Linear(in_features=10, out_features=10, bias=True)\n    (34:fc): Linear(in_features=10, out_features=2, bias=True)\n    (35:input_layers): Linear(in_features=1, out_features=10, bias=True)\n    (35:w_hh): Linear(in_features=10, out_features=10, bias=True)\n    (35:w_ff_in): Linear(in_features=10, out_features=10, bias=True)\n    (35:fc): Linear(in_features=10, out_features=2, bias=True)\n    (36:input_layers): Linear(in_features=1, out_features=10, bias=True)\n    (36:w_hh): Linear(in_features=10, out_features=10, bias=True)\n    (36:w_ff_in): Linear(in_features=10, out_features=10, bias=True)\n    (36:fc): Linear(in_features=10, out_features=2, bias=True)\n    (37:input_layers): Linear(in_features=1, out_features=10, bias=True)\n    (37:w_hh): Linear(in_features=10, out_features=10, bias=True)\n    (37:w_ff_in): Linear(in_features=10, out_features=10, bias=True)\n    (37:fc): Linear(in_features=10, out_features=2, bias=True)\n    (38:input_layers): Linear(in_features=1, out_features=10, bias=True)\n    (38:w_hh): Linear(in_features=10, out_features=10, bias=True)\n    (38:w_ff_in): Linear(in_features=10, out_features=10, bias=True)\n    (38:fc): Linear(in_features=10, out_features=2, bias=True)\n    (39:input_layers): Linear(in_features=1, out_features=10, bias=True)\n    (39:w_hh): Linear(in_features=10, out_features=10, bias=True)\n    (39:w_ff_in): Linear(in_features=10, out_features=10, bias=True)\n    (39:fc): Linear(in_features=10, out_features=2, bias=True)\n    (40:input_layers): Linear(in_features=1, out_features=10, bias=True)\n    (40:w_hh): Linear(in_features=10, out_features=10, bias=True)\n    (40:w_ff_in): Linear(in_features=10, out_features=10, bias=True)\n    (40:fc): Linear(in_features=10, out_features=2, bias=True)\n    (41:input_layers): Linear(in_features=1, out_features=10, bias=True)\n    (41:w_hh): Linear(in_features=10, out_features=10, bias=True)\n    (41:w_ff_in): Linear(in_features=10, out_features=10, bias=True)\n    (41:fc): Linear(in_features=10, out_features=2, bias=True)\n    (42:input_layers): Linear(in_features=1, out_features=10, bias=True)\n    (42:w_hh): Linear(in_features=10, out_features=10, bias=True)\n    (42:w_ff_in): Linear(in_features=10, out_features=10, bias=True)\n    (42:fc): Linear(in_features=10, out_features=2, bias=True)\n    (43:input_layers): Linear(in_features=1, out_features=10, bias=True)\n    (43:w_hh): Linear(in_features=10, out_features=10, bias=True)\n    (43:w_ff_in): Linear(in_features=10, out_features=10, bias=True)\n    (43:fc): Linear(in_features=10, out_features=2, bias=True)\n    (44:input_layers): Linear(in_features=1, out_features=10, bias=True)\n    (44:w_hh): Linear(in_features=10, out_features=10, bias=True)\n    (44:w_ff_in): Linear(in_features=10, out_features=10, bias=True)\n    (44:fc): Linear(in_features=10, out_features=2, bias=True)\n    (45:input_layers): Linear(in_features=1, out_features=10, bias=True)\n    (45:w_hh): Linear(in_features=10, out_features=10, bias=True)\n    (45:w_ff_in): Linear(in_features=10, out_features=10, bias=True)\n    (45:fc): Linear(in_features=10, out_features=2, bias=True)\n    (46:input_layers): Linear(in_features=1, out_features=10, bias=True)\n    (46:w_hh): Linear(in_features=10, out_features=10, bias=True)\n    (46:w_ff_in): Linear(in_features=10, out_features=10, bias=True)\n    (46:fc): Linear(in_features=10, out_features=2, bias=True)\n    (47:input_layers): Linear(in_features=1, out_features=10, bias=True)\n    (47:w_hh): Linear(in_features=10, out_features=10, bias=True)\n    (47:w_ff_in): Linear(in_features=10, out_features=10, bias=True)\n    (47:fc): Linear(in_features=10, out_features=2, bias=True)\n    (48:input_layers): Linear(in_features=1, out_features=10, bias=True)\n    (48:w_hh): Linear(in_features=10, out_features=10, bias=True)\n    (48:w_ff_in): Linear(in_features=10, out_features=10, bias=True)\n    (48:fc): Linear(in_features=10, out_features=2, bias=True)\n    (49:input_layers): Linear(in_features=1, out_features=10, bias=True)\n    (49:w_hh): Linear(in_features=10, out_features=10, bias=True)\n    (49:w_ff_in): Linear(in_features=10, out_features=10, bias=True)\n    (49:fc): Linear(in_features=10, out_features=2, bias=True)\n    (50:input_layers): Linear(in_features=1, out_features=10, bias=True)\n    (50:w_hh): Linear(in_features=10, out_features=10, bias=True)\n    (50:w_ff_in): Linear(in_features=10, out_features=10, bias=True)\n    (50:fc): Linear(in_features=10, out_features=2, bias=True)\n    (51:input_layers): Linear(in_features=1, out_features=10, bias=True)\n    (51:w_hh): Linear(in_features=10, out_features=10, bias=True)\n    (51:w_ff_in): Linear(in_features=10, out_features=10, bias=True)\n    (51:fc): Linear(in_features=10, out_features=2, bias=True)\n    (52:input_layers): Linear(in_features=1, out_features=10, bias=True)\n    (52:w_hh): Linear(in_features=10, out_features=10, bias=True)\n    (52:w_ff_in): Linear(in_features=10, out_features=10, bias=True)\n    (52:fc): Linear(in_features=10, out_features=2, bias=True)\n    (53:input_layers): Linear(in_features=1, out_features=10, bias=True)\n    (53:w_hh): Linear(in_features=10, out_features=10, bias=True)\n    (53:w_ff_in): Linear(in_features=10, out_features=10, bias=True)\n    (53:fc): Linear(in_features=10, out_features=2, bias=True)\n    (54:input_layers): Linear(in_features=1, out_features=10, bias=True)\n    (54:w_hh): Linear(in_features=10, out_features=10, bias=True)\n    (54:w_ff_in): Linear(in_features=10, out_features=10, bias=True)\n    (54:fc): Linear(in_features=10, out_features=2, bias=True)\n  )\n)"
     },
     "execution_count": 23,
     "metadata": {},
     "output_type": "execute_result"
    }
   ],
   "source": [
    "rnn"
   ],
   "metadata": {
    "collapsed": false,
    "ExecuteTime": {
     "end_time": "2024-02-16T15:28:56.485494900Z",
     "start_time": "2024-02-16T15:28:56.461490400Z"
    }
   },
   "id": "103eca96073b4767",
   "execution_count": 23
  },
  {
   "cell_type": "code",
   "outputs": [],
   "source": [
    "taus = [rnn.taus[k] for k in rnn.taus.keys()] "
   ],
   "metadata": {
    "collapsed": false,
    "ExecuteTime": {
     "end_time": "2024-02-16T15:28:57.283101Z",
     "start_time": "2024-02-16T15:28:57.258095700Z"
    }
   },
   "id": "d752cdb06778963a",
   "execution_count": 24
  },
  {
   "cell_type": "code",
   "outputs": [],
   "source": [
    "taus_avg = [torch.mean(rnn.taus[k]).item() for k in rnn.taus.keys()]"
   ],
   "metadata": {
    "collapsed": false,
    "ExecuteTime": {
     "end_time": "2024-02-16T15:28:57.801099500Z",
     "start_time": "2024-02-16T15:28:57.773097Z"
    }
   },
   "id": "67df2e3f6537c624",
   "execution_count": 25
  },
  {
   "cell_type": "code",
   "outputs": [
    {
     "data": {
      "text/plain": "[1.2871103286743164,\n 1.3325098752975464,\n 1.4926213026046753,\n 1.4846205711364746,\n 1.6032119989395142,\n 1.5486570596694946,\n 1.5124783515930176,\n 1.3781923055648804,\n 1.501570701599121,\n 1.606835961341858,\n 1.5284085273742676,\n 1.5702011585235596,\n 1.3803606033325195,\n 1.6047989130020142,\n 1.4440338611602783,\n 1.6236072778701782,\n 1.5560659170150757,\n 1.410540223121643,\n 1.5255602598190308,\n 1.4608442783355713,\n 1.6441673040390015,\n 1.4740097522735596,\n 1.5757150650024414,\n 1.5500552654266357,\n 1.511135458946228,\n 1.4867862462997437,\n 1.4858715534210205,\n 1.493939757347107,\n 1.3710705041885376,\n 1.5094510316848755,\n 1.5333786010742188,\n 1.4914557933807373,\n 1.7004778385162354,\n 1.754778265953064,\n 1.5181182622909546,\n 1.4865036010742188,\n 1.4829790592193604,\n 1.5056484937667847,\n 1.5590702295303345,\n 1.3763502836227417,\n 1.5763245820999146,\n 1.6168445348739624,\n 1.3792898654937744,\n 1.5062248706817627,\n 1.7812299728393555,\n 1.5559254884719849,\n 1.497322916984558,\n 1.5461410284042358,\n 1.4950413703918457,\n 1.5593217611312866,\n 1.609714388847351,\n 1.6198478937149048,\n 1.4846820831298828,\n 1.3556022644042969,\n 1.496594786643982]"
     },
     "execution_count": 26,
     "metadata": {},
     "output_type": "execute_result"
    }
   ],
   "source": [
    "taus_avg"
   ],
   "metadata": {
    "collapsed": false,
    "ExecuteTime": {
     "end_time": "2024-02-16T15:28:58.550691500Z",
     "start_time": "2024-02-16T15:28:58.541684100Z"
    }
   },
   "id": "a79e6b227f919a25",
   "execution_count": 26
  },
  {
   "cell_type": "code",
   "outputs": [
    {
     "data": {
      "text/plain": "[<matplotlib.lines.Line2D at 0x1d3dad9e920>]"
     },
     "execution_count": 27,
     "metadata": {},
     "output_type": "execute_result"
    },
    {
     "name": "stderr",
     "output_type": "stream",
     "text": [
      "findfont: Font family 'Helvetica' not found.\n",
      "findfont: Font family 'Helvetica' not found.\n",
      "findfont: Font family 'Helvetica' not found.\n",
      "findfont: Font family 'Helvetica' not found.\n",
      "findfont: Font family 'Helvetica' not found.\n",
      "findfont: Font family 'Helvetica' not found.\n",
      "findfont: Font family 'Helvetica' not found.\n",
      "findfont: Font family 'Helvetica' not found.\n",
      "findfont: Font family 'Helvetica' not found.\n",
      "findfont: Font family 'Helvetica' not found.\n",
      "findfont: Font family 'Helvetica' not found.\n",
      "findfont: Font family 'Helvetica' not found.\n",
      "findfont: Font family 'Helvetica' not found.\n",
      "findfont: Font family 'Helvetica' not found.\n",
      "findfont: Font family 'Helvetica' not found.\n",
      "findfont: Font family 'Helvetica' not found.\n",
      "findfont: Font family 'Helvetica' not found.\n",
      "findfont: Font family 'Helvetica' not found.\n",
      "findfont: Font family 'Helvetica' not found.\n",
      "findfont: Font family 'Helvetica' not found.\n",
      "findfont: Font family 'Helvetica' not found.\n",
      "findfont: Font family 'Helvetica' not found.\n",
      "findfont: Font family 'Helvetica' not found.\n",
      "findfont: Font family 'Helvetica' not found.\n",
      "findfont: Font family 'Helvetica' not found.\n",
      "findfont: Font family 'Helvetica' not found.\n",
      "findfont: Font family 'Helvetica' not found.\n",
      "findfont: Font family 'Helvetica' not found.\n",
      "findfont: Font family 'Helvetica' not found.\n",
      "findfont: Font family 'Helvetica' not found.\n",
      "findfont: Font family 'Helvetica' not found.\n",
      "findfont: Font family 'Helvetica' not found.\n",
      "findfont: Font family 'Helvetica' not found.\n",
      "findfont: Font family 'Helvetica' not found.\n",
      "findfont: Font family 'Helvetica' not found.\n",
      "findfont: Font family 'Helvetica' not found.\n",
      "findfont: Font family 'Helvetica' not found.\n",
      "findfont: Font family 'Helvetica' not found.\n",
      "findfont: Font family 'Helvetica' not found.\n",
      "findfont: Font family 'Helvetica' not found.\n",
      "findfont: Font family 'Helvetica' not found.\n",
      "findfont: Font family 'Helvetica' not found.\n",
      "findfont: Font family 'Helvetica' not found.\n",
      "findfont: Font family 'Helvetica' not found.\n",
      "findfont: Font family 'Helvetica' not found.\n",
      "findfont: Font family 'Helvetica' not found.\n",
      "findfont: Font family 'Helvetica' not found.\n",
      "findfont: Font family 'Helvetica' not found.\n",
      "findfont: Font family 'Helvetica' not found.\n",
      "findfont: Font family 'Helvetica' not found.\n"
     ]
    },
    {
     "data": {
      "text/plain": "<Figure size 640x480 with 1 Axes>",
      "image/png": "[encoded data removed]"
     },
     "metadata": {},
     "output_type": "display_data"
    }
   ],
   "source": [
    "plt.plot(taus_avg[:60])"
   ],
   "metadata": {
    "collapsed": false,
    "ExecuteTime": {
     "end_time": "2024-02-16T15:29:00.281049200Z",
     "start_time": "2024-02-16T15:29:00.102049900Z"
    }
   },
   "id": "2b519e436839166",
   "execution_count": 27
  },
  {
   "cell_type": "markdown",
   "source": [],
   "metadata": {
    "collapsed": false
   },
   "id": "878619b84e57b4b3"
  },
  {
   "cell_type": "code",
   "outputs": [],
   "source": [],
   "metadata": {
    "collapsed": false,
    "ExecuteTime": {
     "end_time": "2024-02-16T15:29:02.286128100Z",
     "start_time": "2024-02-16T15:29:02.256127300Z"
    }
   },
   "id": "9b7fbf9d49363cd0",
   "execution_count": 27
  },
  {
   "cell_type": "code",
   "outputs": [
    {
     "name": "stdout",
     "output_type": "stream",
     "text": [
      "N =  2\n",
      "Computing population AC\n",
      "Computing single-neuron AC\n"
     ]
    },
    {
     "name": "stderr",
     "output_type": "stream",
     "text": [
      "100%|██████████| 10/10 [00:00<00:00, 73.53it/s]"
     ]
    },
    {
     "name": "stdout",
     "output_type": "stream",
     "text": [
      "------------\n",
      "N =  3\n"
     ]
    },
    {
     "name": "stderr",
     "output_type": "stream",
     "text": [
      "\n"
     ]
    },
    {
     "name": "stdout",
     "output_type": "stream",
     "text": [
      "Computing population AC\n",
      "Computing single-neuron AC\n"
     ]
    },
    {
     "name": "stderr",
     "output_type": "stream",
     "text": [
      "100%|██████████| 10/10 [00:00<00:00, 68.03it/s]"
     ]
    },
    {
     "name": "stdout",
     "output_type": "stream",
     "text": [
      "------------\n",
      "N =  4\n"
     ]
    },
    {
     "name": "stderr",
     "output_type": "stream",
     "text": [
      "\n"
     ]
    },
    {
     "name": "stdout",
     "output_type": "stream",
     "text": [
      "Computing population AC\n",
      "Computing single-neuron AC\n"
     ]
    },
    {
     "name": "stderr",
     "output_type": "stream",
     "text": [
      "100%|██████████| 10/10 [00:00<00:00, 64.93it/s]"
     ]
    },
    {
     "name": "stdout",
     "output_type": "stream",
     "text": [
      "------------\n",
      "N =  5\n"
     ]
    },
    {
     "name": "stderr",
     "output_type": "stream",
     "text": [
      "\n"
     ]
    },
    {
     "name": "stdout",
     "output_type": "stream",
     "text": [
      "Computing population AC\n",
      "Computing single-neuron AC\n"
     ]
    },
    {
     "name": "stderr",
     "output_type": "stream",
     "text": [
      "100%|██████████| 10/10 [00:00<00:00, 69.93it/s]\n"
     ]
    },
    {
     "name": "stdout",
     "output_type": "stream",
     "text": [
      "------------\n",
      "N =  6\n",
      "Computing population AC\n",
      "Computing single-neuron AC\n"
     ]
    },
    {
     "name": "stderr",
     "output_type": "stream",
     "text": [
      "100%|██████████| 10/10 [00:00<00:00, 59.88it/s]"
     ]
    },
    {
     "name": "stdout",
     "output_type": "stream",
     "text": [
      "------------\n",
      "N =  7\n"
     ]
    },
    {
     "name": "stderr",
     "output_type": "stream",
     "text": [
      "\n"
     ]
    },
    {
     "name": "stdout",
     "output_type": "stream",
     "text": [
      "Computing population AC\n",
      "Computing single-neuron AC\n"
     ]
    },
    {
     "name": "stderr",
     "output_type": "stream",
     "text": [
      "100%|██████████| 10/10 [00:00<00:00, 69.44it/s]"
     ]
    },
    {
     "name": "stdout",
     "output_type": "stream",
     "text": [
      "------------\n",
      "N =  8\n"
     ]
    },
    {
     "name": "stderr",
     "output_type": "stream",
     "text": [
      "\n"
     ]
    },
    {
     "name": "stdout",
     "output_type": "stream",
     "text": [
      "Computing population AC\n",
      "Computing single-neuron AC\n"
     ]
    },
    {
     "name": "stderr",
     "output_type": "stream",
     "text": [
      "100%|██████████| 10/10 [00:00<00:00, 70.43it/s]"
     ]
    },
    {
     "name": "stdout",
     "output_type": "stream",
     "text": [
      "------------\n",
      "N =  9\n"
     ]
    },
    {
     "name": "stderr",
     "output_type": "stream",
     "text": [
      "\n"
     ]
    },
    {
     "name": "stdout",
     "output_type": "stream",
     "text": [
      "Computing population AC\n",
      "Computing single-neuron AC\n"
     ]
    },
    {
     "name": "stderr",
     "output_type": "stream",
     "text": [
      "100%|██████████| 10/10 [00:00<00:00, 65.79it/s]"
     ]
    },
    {
     "name": "stdout",
     "output_type": "stream",
     "text": [
      "------------\n",
      "N =  10\n"
     ]
    },
    {
     "name": "stderr",
     "output_type": "stream",
     "text": [
      "\n"
     ]
    },
    {
     "name": "stdout",
     "output_type": "stream",
     "text": [
      "Computing population AC\n",
      "Computing single-neuron AC\n"
     ]
    },
    {
     "name": "stderr",
     "output_type": "stream",
     "text": [
      "100%|██████████| 10/10 [00:00<00:00, 69.48it/s]"
     ]
    },
    {
     "name": "stdout",
     "output_type": "stream",
     "text": [
      "------------\n",
      "N =  11\n"
     ]
    },
    {
     "name": "stderr",
     "output_type": "stream",
     "text": [
      "\n"
     ]
    },
    {
     "name": "stdout",
     "output_type": "stream",
     "text": [
      "Computing population AC\n",
      "Computing single-neuron AC\n"
     ]
    },
    {
     "name": "stderr",
     "output_type": "stream",
     "text": [
      "100%|██████████| 10/10 [00:00<00:00, 62.89it/s]"
     ]
    },
    {
     "name": "stdout",
     "output_type": "stream",
     "text": [
      "------------\n"
     ]
    },
    {
     "name": "stderr",
     "output_type": "stream",
     "text": [
      "\n"
     ]
    }
   ],
   "source": [
    "from importlib import reload\n",
    "reload(timescales_utils)\n",
    "reload(RNN_hier)\n",
    "import timescales_utils\n",
    "\n",
    "#---------------- setting the parallel threads on CPU for numpy and torch\n",
    "import os\n",
    "os.environ[\"OMP_NUM_THREADS\"] = \"2\" \n",
    "os.environ[\"OPENBLAS_NUM_THREADS\"] = \"2\" \n",
    "os.environ[\"MKL_NUM_THREADS\"] = \"2\" \n",
    "os.environ[\"VECLIB_MAXIMUM_THREADS\"] = \"2\" \n",
    "os.environ[\"NUMEXPR_NUM_THREADS\"] = \"2\"\n",
    "torch.set_num_threads(10)\n",
    "\n",
    "# device = torch.device('cuda' if torch.cuda.is_available() else 'cpu')\n",
    "\n",
    "#---------------- data and network params\n",
    "\n",
    "data_path = '../../trained_models/' # path to trained networks\n",
    "save_path = '../../results/' # path for saving the results\n",
    "\n",
    "curriculum_type = 'cumulative'\n",
    "task = 'parity'\n",
    "network_number = 1\n",
    "N_max_max = 11\n",
    "N_max_range = np.arange(2, N_max_max+1, 1) # range of maximum Ns\n",
    "\n",
    "# num_neurons = 5  # already defined this in cell above. \n",
    "\n",
    "# -------------- AC computation params\n",
    "burn_T = 500 # Burn-in time at the beginning of each simulation to reach stationary state\n",
    "T = 10**2 + 500 + burn_T # number of time steps for simulations\n",
    "num_trials = 12 # number of simulated trials\n",
    "max_lag = 200 # maximum time lag for saving ACs\n",
    "fit_lag = 30  # maximum time-lag for fitting ACs (we choose a small number to avoid AC bias)\n",
    "\n",
    "path = os.path.join(project_root, 'trained_models')\n",
    "sub_dir = 'grow_parity__network_1_2024-02-03_2'\n",
    "load_kwargs = {'path': path, 'sub_dir': sub_dir}\n",
    "timescales_utils.comp_acs(load_function=load_hierarchical_network_parity_multi,                       \n",
    "                          load_func_kwargs=load_kwargs, \n",
    "                          save_path=save_path, \n",
    "                          curriculum_type=curriculum_type,\n",
    "                          task=task, \n",
    "                          network_number=network_number,\n",
    "                          N_max_range=N_max_range, \n",
    "                          T=T, \n",
    "                          num_neurons=num_neurons, \n",
    "                          num_trials=num_trials, \n",
    "                          max_lag=max_lag, \n",
    "                          fit_lag=fit_lag, \n",
    "                          burn_T=burn_T)"
   ],
   "metadata": {
    "collapsed": false,
    "ExecuteTime": {
     "end_time": "2024-02-16T15:58:34.352155800Z",
     "start_time": "2024-02-16T15:58:29.194897300Z"
    }
   },
   "id": "29f4e12168e94d6c",
   "execution_count": 40
  },
  {
   "cell_type": "code",
   "outputs": [],
   "source": [],
   "metadata": {
    "collapsed": false
   },
   "id": "d4fc30a0632ce42c"
  },
  {
   "cell_type": "code",
   "outputs": [],
   "source": [],
   "metadata": {
    "collapsed": false
   },
   "id": "a345d26a6ea999df"
  },
  {
   "cell_type": "code",
   "outputs": [],
   "source": [],
   "metadata": {
    "collapsed": false
   },
   "id": "beeec15dde344465"
  },
  {
   "cell_type": "code",
   "outputs": [],
   "source": [],
   "metadata": {
    "collapsed": false
   },
   "id": "bb444242fd113b7c"
  },
  {
   "cell_type": "code",
   "outputs": [],
   "source": [],
   "metadata": {
    "collapsed": false
   },
   "id": "d834ff7156eeb3a2"
  },
  {
   "cell_type": "code",
   "outputs": [],
   "source": [],
   "metadata": {
    "collapsed": false
   },
   "id": "418f78a8792fa1b3"
  },
  {
   "cell_type": "code",
   "execution_count": 9,
   "id": "1904a895",
   "metadata": {},
   "outputs": [],
   "source": [
    "def load_network_single_parity(path, network_name, N):    \n",
    "    rnn = torch.load(path +  network_name +'/'+ 'rnn_Nbit-N' + str(N) \\\n",
    "                           +'-parity_net-size-500_bias-True_input-size-1',  map_location=torch.device('cpu'))\n",
    "    return rnn\n",
    "\n",
    "def load_network_parity_multi(path, sub_dir, network_name, N):\n",
    "    sub_dir = sub_dir + network_name\n",
    "    if (N  <= 9):\n",
    "        curr = 'rnn_N02' + '_N0' + str(N) +'-500'\n",
    "    else:\n",
    "        curr = 'rnn_N02' + '_N' + str(N) +'-500'\n",
    "       \n",
    "    filename = f'{path}/{sub_dir}/{curr}/{curr}'\n",
    "    \n",
    "    rnn = init_model()\n",
    "    rnn.load_state_dict(torch.load(filename, map_location=torch.device('cpu'))['state_dict'], strict=False)\n",
    "    return rnn\n",
    "\n",
    "def load_network_dms_single(path, sub_dir, network_name, N):    \n",
    "    sub_dir = sub_dir + network_name\n",
    "    N_min = N\n",
    "    curr = 'rnn_' + 'N' + str(N_min).zfill(3) + '-N' + str(N).zfill(3) +'-500'\n",
    "       \n",
    "    filename = f'{path}/{sub_dir}/{curr}/{curr}'\n",
    "    \n",
    "    rnn = init_model()\n",
    "    rnn.load_state_dict(torch.load(filename, map_location=torch.device('cpu'))['state_dict'], strict=False)\n",
    "    return rnn\n",
    "\n",
    "\n",
    "def load_network_dms_multi(path, sub_dir, network_name, N):    \n",
    "    sub_dir = sub_dir + network_name\n",
    "    N_min = 2\n",
    "    curr = 'rnn_' + 'N' + str(N_min).zfill(3) + '-N' + str(N).zfill(3) +'-500'\n",
    "       \n",
    "    filename = f'{path}/{sub_dir}/{curr}/{curr}'\n",
    "    \n",
    "    rnn = init_model()\n",
    "    rnn.load_state_dict(torch.load(filename, map_location=torch.device('cpu'))['state_dict'], strict=False)\n",
    "    return rnn\n",
    "\n",
    "def init_model():\n",
    "\n",
    "    # init new model\n",
    "    rnn = RNN_stack(input_size=INPUT_SIZE,\n",
    "                    net_size=NET_SIZE,\n",
    "                    num_classes=NUM_CLASSES,\n",
    "                    bias=BIAS,\n",
    "                    num_readout_heads=NUM_READOUT_HEADS,\n",
    "                    tau=1.,\n",
    "                    train_tau=TRAIN_TAU\n",
    "                    ).to(device)    \n",
    "    return rnn"
   ]
  },
  {
   "cell_type": "code",
   "execution_count": 10,
   "id": "9068bd9a",
   "metadata": {},
   "outputs": [],
   "source": [
    "def load_trained_taus(rnn):    \n",
    "    taus = rnn.taus[0].detach().numpy() # trained taus \n",
    "    return taus\n"
   ]
  },
  {
   "cell_type": "code",
   "execution_count": 11,
   "id": "78befb4c",
   "metadata": {},
   "outputs": [],
   "source": [
    "def compute_mean_std_tau(path, net_type, net_ids, N_range, sub_dir):\n",
    "    tau_mean_mean = np.zeros(len(N_range))\n",
    "    tau_mean_std = np.zeros(len(N_range))\n",
    "    tau_std_mean = np.zeros(len(N_range))\n",
    "    tau_std_std = np.zeros(len(N_range))\n",
    "    for i, N in enumerate(N_range):\n",
    "        taus_all_N = []\n",
    "        taus_net_avg = np.zeros(len(net_ids))\n",
    "        taus_net_std = np.zeros(len(net_ids))\n",
    "        for j, net_id in enumerate(net_ids):\n",
    "            network_name = 'network_'+str(net_id)\n",
    "            \n",
    "            # loading the network \n",
    "            if net_type == 0:\n",
    "                rnn = load_network_single_parity(path, network_name, N)\n",
    "            elif net_type == 1:\n",
    "                rnn = load_network_parity_multi(path, sub_dir, network_name, N)\n",
    "            elif net_type == 2:\n",
    "                rnn = load_network_dms_single(path, sub_dir, network_name, N)\n",
    "            elif net_type == 3:\n",
    "                rnn = load_network_dms_multi(path, sub_dir, network_name, N)\n",
    "            else:\n",
    "                print('something is wrong')\n",
    "            \n",
    "            taus = rnn.taus[0].detach().numpy()\n",
    "            taus_all_N = np.concatenate((taus_all_N, taus))\n",
    "\n",
    "            taus_net_avg[j] = np.mean(taus)\n",
    "            taus_net_std[j] = np.std(taus)\n",
    "        \n",
    "\n",
    "        tau_mean_mean[i] = np.mean(taus_net_avg)\n",
    "        tau_std_mean[i] = np.std(taus_net_avg)\n",
    "        tau_mean_std[i] = np.mean(taus_net_std)\n",
    "        tau_std_std[i] = np.std(taus_net_std)\n",
    "        \n",
    "#         tau_std[i] = np.mean(taus_net_std)\n",
    "#         tau_std[i] = np.std(taus_net_avg)\n",
    "#         tau_mean[i] = np.mean(taus_all_N)\n",
    "#         tau_std[i] = np.std(taus_all_N)\n",
    "        \n",
    "        \n",
    "    return tau_mean_mean, tau_mean_std,  tau_std_mean, tau_std_std"
   ]
  },
  {
   "cell_type": "code",
   "execution_count": 18,
   "id": "bf7b9e0b",
   "metadata": {},
   "outputs": [],
   "source": [
    "def load_taus_new(path, curriculum_type, task, affixes, network_number, N):\n",
    "    \n",
    "    affix_str = '_'\n",
    "    if len(affixes) > 0:\n",
    "        affix_str += '_'.join(affixes) + '_'\n",
    "    \n",
    "    model_name = os.path.join(\n",
    "        f'{curriculum_type}_{task}{affix_str}network_{network_number}')\n",
    "    \n",
    "    with open(path + model_name +'_N'+str(N) + '_acs_taus.pkl', 'rb') as f:\n",
    "            data = pickle.load(f)\n",
    "    tau_eff = data['taus_net']\n",
    "    selected_models = data['selected_models']\n",
    "    trained_taus = data['taus_trained']\n",
    "    single_acs = data['ac_all']\n",
    "    ac_pop = data['ac_pop']\n",
    "    \n",
    "            \n",
    "#     tau_eff = np.array(tau_eff)\n",
    "    return tau_eff, selected_models, trained_taus, single_acs, ac_pop \n",
    "\n",
    "def compute_mean_std_tau_eff(net_ids, N_range, path, curriculum_type, task, affixes):\n",
    "    tau_mean_mean = np.zeros(len(N_range))\n",
    "    tau_std_mean = np.zeros(len(N_range)) \n",
    "    tau_mean_std = np.zeros(len(N_range))\n",
    "    tau_std_std = np.zeros(len(N_range))\n",
    "    for i, N in enumerate(N_range):\n",
    "        train_taus_all = []\n",
    "        eff_taus_all = []\n",
    "        eff_taus_net_avg = np.zeros(len(net_ids))\n",
    "        eff_taus_net_std = np.zeros(len(net_ids))\n",
    "        for j, net_id in enumerate(net_ids):\n",
    "            network_name = 'network_'+str(net_id)\n",
    "            tau_eff, selected_models, trained_taus, single_acs, ac_pop =\\\n",
    "            load_taus_new(path, curriculum_type, task, affixes, net_id, N)\n",
    "    #         tau_eff = tau_eff[(tau_eff>1)& (tau_eff<99)]\n",
    "            tau_eff = tau_eff[(tau_eff>1)]\n",
    "\n",
    "            eff_taus_net_avg[j] = np.mean(tau_eff)\n",
    "            eff_taus_net_std[j] = np.std(tau_eff)\n",
    "\n",
    "        tau_mean_mean[i] = np.mean(eff_taus_net_avg)\n",
    "        tau_std_mean[i] = np.std(eff_taus_net_avg)\n",
    "        tau_mean_std[i] = np.mean(eff_taus_net_std)\n",
    "        tau_std_std[i] = np.std(eff_taus_net_std)\n",
    "        \n",
    "    return tau_mean_mean, tau_mean_std,  tau_std_mean, tau_std_std\n",
    "\n",
    "\n",
    "def compute_mean_std_tau_train(net_ids, N_range, path, curriculum_type, task, affixes):\n",
    "    tau_mean_mean = np.zeros(len(N_range))\n",
    "    tau_std_mean = np.zeros(len(N_range)) \n",
    "    tau_mean_std = np.zeros(len(N_range))\n",
    "    tau_std_std = np.zeros(len(N_range))\n",
    "    for i, N in enumerate(N_range):\n",
    "        train_taus_all = []\n",
    "        train_taus_all = []\n",
    "        train_taus_net_avg = np.zeros(len(net_ids))\n",
    "        train_taus_net_std = np.zeros(len(net_ids))\n",
    "        for j, net_id in enumerate(net_ids):\n",
    "            network_name = 'network_'+str(net_id)\n",
    "            tau_eff, selected_models, trained_taus, single_acs, ac_pop =\\\n",
    "            load_taus_new(path, curriculum_type, task, affixes, net_id, N)\n",
    "\n",
    "            train_taus_net_avg[j] = np.mean(trained_taus)\n",
    "            train_taus_net_std[j] = np.std(trained_taus)\n",
    "\n",
    "        tau_mean_mean[i] = np.mean(train_taus_net_avg)\n",
    "        tau_std_mean[i] = np.std(train_taus_net_avg)\n",
    "        tau_mean_std[i] = np.mean(train_taus_net_std)\n",
    "        tau_std_std[i] = np.std(train_taus_net_std)\n",
    "        \n",
    "    return tau_mean_mean, tau_mean_std,  tau_std_mean, tau_std_std"
   ]
  },
  {
   "cell_type": "code",
   "execution_count": 12,
   "id": "258f165a",
   "metadata": {},
   "outputs": [
    {
     "data": {
      "text/plain": [
       "<ErrorbarContainer object of 3 artists>"
      ]
     },
     "execution_count": 12,
     "metadata": {},
     "output_type": "execute_result"
    },
    {
     "data": {
      "image/png": "[encoded data removed]",
      "text/plain": [
       "<Figure size 432x288 with 1 Axes>"
      ]
     },
     "metadata": {
      "needs_background": "light"
     },
     "output_type": "display_data"
    }
   ],
   "source": [
    "path = expanduser(\"~\") + '/research/projects/rnn_timescales_local/Hel/n_bit_parity/models_tau_train/'\n",
    "\n",
    "net_ids = np.arange(1,5)\n",
    "N_range = np.arange(5,31,1)\n",
    "sub_dir = ''\n",
    "net_type = 0\n",
    "\n",
    "tau_mean_mean, tau_mean_std,  tau_std_mean, tau_std_std  = compute_mean_std_tau(path, net_type, net_ids, N_range, sub_dir)\n",
    "plt.errorbar(N_range, tau_mean_mean, yerr = tau_std_mean, fmt = 'o')"
   ]
  },
  {
   "cell_type": "code",
   "execution_count": 13,
   "id": "17c43d01",
   "metadata": {},
   "outputs": [],
   "source": [
    "final_N_singlehead_trained = np.array([37, 33, 35, 35])\n",
    "final_N_singlehead_tau1 = np.array([24, 25, 24, 26])\n",
    "final_N_singlehead_tau2 = np.array([26, 25, 26, 26])\n",
    "final_N_singlehead_tau3 = np.array([25, 24, 24, 24])\n",
    "final_N_singlehead_tau4 = np.array([24,23, 23, 23])\n",
    "\n",
    "final_N_singlehead_tau = [final_N_singlehead_tau1,\n",
    "                          final_N_singlehead_tau2,\n",
    "                          final_N_singlehead_tau3]\n",
    "\n"
   ]
  },
  {
   "cell_type": "code",
   "execution_count": 14,
   "id": "50f5d306",
   "metadata": {},
   "outputs": [],
   "source": [
    "final_N_multihead_trained = np.array([100, 101, 100, 101])\n",
    "final_N_multihead_tau1 = np.array([101, 101, 101, 101])\n",
    "final_N_multihead_tau2 = np.array([87, 88, 87, 87])\n",
    "final_N_multihead_tau3 = np.array([66, 70, 70, 72])\n",
    "final_N_multihead_tau5 = np.array([50])\n",
    "\n",
    "final_N_multihead_tau = [final_N_multihead_tau1,\n",
    "                          final_N_multihead_tau2,\n",
    "                          final_N_multihead_tau3]"
   ]
  },
  {
   "cell_type": "markdown",
   "id": "f7276dab",
   "metadata": {},
   "source": [
    "# Plot"
   ]
  },
  {
   "cell_type": "code",
   "execution_count": 20,
   "id": "07b1509f",
   "metadata": {},
   "outputs": [],
   "source": [
    "col_sig_par = '#D48A6A' #, if too light #AA5B39\n",
    "col_sig_dms = '#803515'\n",
    "\n",
    "col_multi_par =  '#74AE97' #, if too light #277455\n",
    "col_multi_dms =  '#0E573A'\n",
    "\n",
    "# loading data for panels\n",
    "path_parity_new = expanduser(\"~\") + '/research/data/projects/rnn_timescales/ac/ac_tau_loc_nonlin_correct/'\n",
    "task = 'parity'\n",
    "affixes = ['mod', 'leakyrelu']\n",
    "path = path_parity_new"
   ]
  },
  {
   "cell_type": "code",
   "execution_count": 16,
   "id": "9db8144b",
   "metadata": {},
   "outputs": [],
   "source": [
    "def plot_shade(x, mean, std, color):\n",
    "    ax.fill_between(\n",
    "        x,\n",
    "        mean - std,\n",
    "        mean + std,\n",
    "        color=color,\n",
    "        alpha=0.2,\n",
    "    )"
   ]
  },
  {
   "cell_type": "code",
   "execution_count": 17,
   "id": "21d0040b",
   "metadata": {},
   "outputs": [],
   "source": [
    "# loading panels\n",
    "\n",
    "# # single DMS\n",
    "# path = expanduser(\"~\") + '/research/projects/rnn_timescales_local/Hel/n_bit_parity/models_bDMS_complete/'\n",
    "# N_range = np.arange(2,94,1)\n",
    "# sub_dir = 'train_curr_1_at_a_time_with_forgetting_1_bDMS_'\n",
    "# net_type = 2\n",
    "# tau_mean_mean_sing_dms, tau_mean_std_sing_dms,  tau_std_mean_sing_dms, tau_std_std_sing_dms  = \\\n",
    "# compute_mean_std_tau(path, net_type, net_ids, N_range, sub_dir)\n",
    "\n",
    "# single N-parity\n",
    "path = expanduser(\"~\") + '/research/projects/rnn_timescales_local/Hel/n_bit_parity/models_tau_train/'\n",
    "N_range = np.arange(2,33,1)\n",
    "sub_dir = ''\n",
    "net_type = 0\n",
    "tau_mean_mean_sing_par, tau_mean_std_sing_par,  tau_std_mean_sing_par, tau_std_std_sing_par  = \\\n",
    "compute_mean_std_tau(path, net_type, net_ids, N_range, sub_dir)\n",
    "\n",
    "# # multi DMS\n",
    "# path = expanduser(\"~\") + '/research/projects/rnn_timescales_local/Hel/n_bit_parity/models_bDSM/multi_head/'\n",
    "# N_range = np.arange(2,100,1)\n",
    "# sub_dir = 'train_curr_cumulative_1_heads_bDMS_'\n",
    "# net_type = 3\n",
    "# tau_mean_mean_multi_dms, tau_mean_std_multi_dms,  tau_std_mean_multi_dms, tau_std_std_multi_dms  = \\\n",
    "# compute_mean_std_tau(path, net_type, net_ids, N_range, sub_dir)\n",
    "\n",
    "# multi N-parity\n",
    "path = expanduser(\"~\") + '/research/projects/rnn_timescales_local/Hel/n_bit_parity/models_multi_head/'\n",
    "N_range = np.arange(2,100,1)\n",
    "sub_dir = 'train_curr_cumulative_1_heads_'\n",
    "net_type = 1\n",
    "tau_mean_mean_multi_par, tau_mean_std_multi_par,  tau_std_mean_multi_par, tau_std_std_multi_par  = \\\n",
    "compute_mean_std_tau(path, net_type, net_ids, N_range, sub_dir)"
   ]
  },
  {
   "cell_type": "code",
   "execution_count": null,
   "id": "d6e957ae",
   "metadata": {},
   "outputs": [],
   "source": []
  },
  {
   "cell_type": "code",
   "execution_count": 50,
   "id": "258d2d48",
   "metadata": {},
   "outputs": [
    {
     "data": {
      "image/png": "[encoded data removed]",
      "text/plain": [
       "<Figure size 510.236x368.504 with 4 Axes>"
      ]
     },
     "metadata": {
      "needs_background": "light"
     },
     "output_type": "display_data"
    }
   ],
   "source": [
    "cm = 1/2.54  # centimeters in inches\n",
    "fig = plt.figure(figsize=(18*cm, 13*cm))\n",
    "\n",
    "\n",
    "alpha_dot = 0.6\n",
    "w = 0.35 #width of mean line\n",
    "ms = 8\n",
    "lw = 2\n",
    "\n",
    "x_text = -.4\n",
    "y_text = 1.1\n",
    "\n",
    "x_noise = 0.05\n",
    "c_singlehead = '#D48A6A'\n",
    "c_multihead = '#489174'\n",
    "#c_trained = '#5A78E6'\n",
    "c_new = 'darkorange'\n",
    "c_old = 'deepskyblue'\n",
    "\n",
    "\n",
    "ms = 3\n",
    "lw = 1.5\n",
    "elw = 1.5\n",
    "\n",
    "y1 = .9\n",
    "y2 = 2\n",
    "\n",
    "ax = plt.subplot(221)\n",
    "# ax.text(x_text,y_text,'b',color='k',fontsize=ft+1,weight='bold', transform=ax.transAxes)\n",
    "\n",
    "net_ids = np.arange(1,5)\n",
    "\n",
    "# single, old\n",
    "N_range = np.arange(2,33,1)\n",
    "plt.plot(N_range, tau_mean_mean_sing_par, lw = lw, color = c_old, label = 'Old')\n",
    "plot_shade(N_range, tau_mean_mean_sing_par, tau_std_mean_sing_par, c_old)\n",
    "\n",
    "\n",
    "# single, new\n",
    "net_ids = [0,2,3]\n",
    "N_range = np.arange(2,33,1)\n",
    "curriculum_type = 'single'\n",
    "tau_mean_mean, tau_mean_std,  tau_std_mean, tau_std_std  =\\\n",
    "compute_mean_std_tau_train(net_ids, N_range, path, curriculum_type, task, affixes)\n",
    "plt.plot(N_range, tau_mean_mean, color = c_new, lw = lw, label = 'New')\n",
    "plot_shade(N_range, tau_mean_mean, tau_std_mean, c_new)\n",
    "\n",
    "plt.ylabel(r'Mean($\\tau$)')\n",
    "plt.xlabel(r'$N$')\n",
    "plt.title('Single-head', fontsize = ft)\n",
    "# plt.ylim([y1, y2])\n",
    "\n",
    "plt.legend(frameon = False, loc = 'upper left', bbox_to_anchor=(0,.9))\n",
    "\n",
    "ax = plt.subplot(222)\n",
    "net_ids = np.arange(1,5)\n",
    "# ax.axhline(y = 1, ls = '--', color = 'gray')\n",
    "\n",
    "\n",
    "# multi, old\n",
    "N_range = np.arange(2,100,1)\n",
    "plt.plot(N_range, tau_mean_mean_multi_par, lw = lw, color = c_old, label = 'N-parity')\n",
    "plot_shade(N_range, tau_mean_mean_multi_par, tau_std_mean_multi_par, c_old)\n",
    "\n",
    "\n",
    "# Parity, multi\n",
    "net_ids = np.arange(0,4)\n",
    "N_range = np.arange(2,101,1)\n",
    "curriculum_type = 'cumulative'\n",
    "tau_mean_mean, tau_mean_std,  tau_std_mean, tau_std_std  =\\\n",
    "compute_mean_std_tau_train(net_ids, N_range, path, curriculum_type, task, affixes)\n",
    "plt.plot(N_range, tau_mean_mean, color = c_new, lw = lw, label = 'Multi-N')\n",
    "plot_shade(N_range, tau_mean_mean, tau_std_mean, c_new)\n",
    "\n",
    "plt.title('Multi-head', fontsize = ft)\n",
    "\n",
    "\n",
    "fig.tight_layout()\n",
    "# plt.legend(frameon = False, loc = 'upper right', bbox_to_anchor=(1,1.1))\n",
    "plt.xlabel(r'$N$')\n",
    "# plt.title('Multi-head', fontsize = ft)\n",
    "plt.ylabel(r'Mean($\\tau$)')\n",
    "plt.xlabel(r'$N$')\n",
    "# plt.ylim([y1, y2])\n",
    "\n",
    "#-------------------------------------------------------------------------------------------------------\n",
    "\n",
    "ax = plt.subplot(223)\n",
    "net_ids = np.arange(1,5)\n",
    "\n",
    "y1 = 0.2\n",
    "y2 = 1.2\n",
    "\n",
    "# single, old\n",
    "N_range = np.arange(2,33,1)\n",
    "plt.plot(N_range, tau_mean_std_sing_par, lw = lw, color = c_old, label = 'N-parity')\n",
    "plot_shade(N_range, tau_mean_std_sing_par, tau_std_std_sing_par, c_old)\n",
    "\n",
    "# single, new\n",
    "net_ids = [0,2,3]\n",
    "N_range = np.arange(2,33,1)\n",
    "curriculum_type = 'single'\n",
    "tau_mean_mean, tau_mean_std,  tau_std_mean, tau_std_std  =\\\n",
    "compute_mean_std_tau_train(net_ids, N_range, path, curriculum_type, task, affixes)\n",
    "plt.plot(N_range, tau_mean_std, color = c_new, lw = lw, label = 'New')\n",
    "plot_shade(N_range, tau_mean_std, tau_std_std, c_new)\n",
    "\n",
    "# plt.legend(frameon = False, loc = 'upper left', bbox_to_anchor=(0,1.1))\n",
    "plt.ylabel(r'STD($\\tau$)')\n",
    "plt.xlabel(r'$N$')\n",
    "# plt.title('Single-head', fontsize = ft)\n",
    "\n",
    "ax = plt.subplot(224)\n",
    "net_ids = np.arange(1,5)\n",
    "\n",
    "\n",
    "# multi, old\n",
    "N_range = np.arange(2,100,1)\n",
    "plt.plot(N_range, tau_mean_std_multi_par, lw = lw, color = c_old, label = 'N-parity')\n",
    "plot_shade(N_range, tau_mean_std_multi_par, tau_std_std_multi_par, c_old)\n",
    "\n",
    "# Parity, multi\n",
    "net_ids = np.arange(0,4)\n",
    "N_range = np.arange(2,101,1)\n",
    "curriculum_type = 'cumulative'\n",
    "tau_mean_mean, tau_mean_std,  tau_std_mean, tau_std_std  =\\\n",
    "compute_mean_std_tau_train(net_ids, N_range, path, curriculum_type, task, affixes)\n",
    "plt.plot(N_range, tau_mean_std, color = c_new, lw = lw, label = 'Multi-N')\n",
    "plot_shade(N_range, tau_mean_std, tau_std_std, c_new)\n",
    "\n",
    "# plt.legend(frameon = False, loc = 'upper right', bbox_to_anchor=(1,1.1))\n",
    "plt.ylabel(r'STD($\\tau$)')\n",
    "plt.xlabel(r'$N$')\n",
    "# plt.title('Multi-head', fontsize = ft)\n",
    "# plt.ylim([y1, y2])\n",
    "# plt.legend(frameon = False, loc = 'upper right', bbox_to_anchor=(1.1,1.5),\\\n",
    "#            handletextpad= 0.2, handlelength = 0.8, ncol = 4, columnspacing=0.7)\n",
    "\n",
    "\n",
    "fig.tight_layout()\n",
    "\n",
    "sns.despine()"
   ]
  },
  {
   "cell_type": "code",
   "execution_count": 15,
   "id": "128353b4",
   "metadata": {},
   "outputs": [],
   "source": [
    "# fig.savefig(save_fig_path +'fig_training_taus_v3.pdf')"
   ]
  },
  {
   "cell_type": "code",
   "execution_count": null,
   "id": "a985c206",
   "metadata": {},
   "outputs": [],
   "source": []
  }
 ],
 "metadata": {
  "kernelspec": {
   "display_name": "Python 3 (ipykernel)",
   "language": "python",
   "name": "python3"
  },
  "language_info": {
   "codemirror_mode": {
    "name": "ipython",
    "version": 3
   },
   "file_extension": ".py",
   "mimetype": "text/x-python",
   "name": "python",
   "nbconvert_exporter": "python",
   "pygments_lexer": "ipython3",
   "version": "3.9.12"
  }
 },
 "nbformat": 4,
 "nbformat_minor": 5
}
